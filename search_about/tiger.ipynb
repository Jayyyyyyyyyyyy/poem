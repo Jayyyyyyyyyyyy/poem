{
 "cells": [
  {
   "cell_type": "code",
   "execution_count": 60,
   "outputs": [],
   "source": [
    "import pandas as pd\n",
    "import math\n",
    "\n",
    "\n",
    "\n",
    "data_path = '/Users/jiangcx/Library/Containers/com.tencent.WeWorkMac/Data/Library/Application Support/WXWork/Data/1688851804335549/Cache/File/2021-01/搜索词全部模块全部数据.xlsx'\n",
    "df = pd.read_excel(data_path)\n",
    "df = df.loc[lambda x: x['曝光次数']>5]"
   ],
   "metadata": {
    "collapsed": false,
    "pycharm": {
     "name": "#%%\n"
    }
   }
  },
  {
   "cell_type": "code",
   "execution_count": 1,
   "outputs": [
    {
     "name": "stdout",
     "output_type": "stream",
     "text": [
      "26048\n"
     ]
    }
   ],
   "source": [
    "import json\n",
    "dict = {}\n",
    "mp3_count = '/Users/jiangcx/Downloads/mp3.all.json'\n",
    "with open(mp3_count, 'r', encoding='utf-8') as f:\n",
    "    for line in f:\n",
    "        line = json.loads(line)\n",
    "        if line['type'] in (6,8) and line['flag'] in (0,1):\n",
    "            if line['qcmp3'] == line['mp3']:\n",
    "                dict[line['qcmp3']] = [int(line['video_count']), line['rescount1']]\n",
    "tmp = []\n",
    "for mp3 in dict.keys():\n",
    "    tmp.append(mp3)\n",
    "print(len(tmp))"
   ],
   "metadata": {
    "collapsed": false,
    "pycharm": {
     "name": "#%%\n"
    }
   }
  },
  {
   "cell_type": "code",
   "execution_count": 62,
   "outputs": [],
   "source": [
    "df['video_count'] = df.apply(lambda x: dict[x['搜索词']][0] if x['搜索词'] in dict else -1, axis=1)\n",
    "df['rescount1'] = df.apply(lambda x: dict[x['搜索词']][1] if x['搜索词'] in dict else -1, axis=1)\n",
    "\n",
    "df = df.loc[lambda x: x['video_count'] > 1]\n",
    "df = df.loc[lambda x: x['好用次数'] > 5]"
   ],
   "metadata": {
    "collapsed": false,
    "pycharm": {
     "name": "#%%\n"
    }
   }
  },
  {
   "cell_type": "code",
   "execution_count": 66,
   "outputs": [],
   "source": [
    "# .....: ctr = 点击次数/曝光次数\n",
    "# .....: fit = 好用次数/曝光次数\n",
    "df.eval(\"\"\"\n",
    "eval = (点击次数/好用次数)*(1/log(video_count))\n",
    "\"\"\", inplace=True)\n",
    "tmpdf = df.loc[lambda x:x['rescount1'] < 20]\n",
    "mydf = tmpdf[['搜索词', '搜索人数', '点击次数', '好用次数', '曝光次数', 'video_count', 'rescount1', 'eval']].sort_values('搜索人数',ascending=False)\n",
    "mydf.to_csv('/Users/jiangcx/Downloads/征集备选.csv', index=None)\n",
    "\n",
    "# df.eval(\"\"\"\n",
    "# eval = (点击次数/好用次数)*(曝光次数/log(video_count))\n",
    "# \"\"\", inplace=True)\n",
    "# df[['搜索词', '点击次数', '好用次数', '曝光次数', 'video_count', 'video_count', 'eval']].sort_values('eval',ascending=False)[:20]\n",
    "\n",
    "\n",
    "\n",
    "# df.eval(\"\"\"\n",
    "# eval = (点击次数/好用次数)*(搜索人数/log(video_count))\n",
    "# \"\"\", inplace=True)\n",
    "# df[['搜索词', '点击次数', '好用次数', '搜索人数', '曝光次数', 'video_count', 'video_count', 'eval']].sort_values('eval',ascending=False)[:20]\n",
    "#\n",
    "\n"
   ],
   "metadata": {
    "collapsed": false,
    "pycharm": {
     "name": "#%%\n"
    }
   }
  },
  {
   "cell_type": "code",
   "execution_count": 37,
   "outputs": [
    {
     "data": {
      "text/plain": "          搜索词     点击次数     好用次数      曝光次数  video_count  video_count  \\\n1      最爱的就是你  54361.0   4087.0  403803.0         1830         1830   \n134       免失志   2159.0     27.0   13762.0           18           18   \n0        忘川的河  67689.0  11521.0  490841.0         7766         7766   \n259   把你留在我心里   2560.0     34.0   13200.0           69           69   \n6     牛年牛哥你最牛  25861.0   2717.0  184495.0         3577         3577   \n79        忘情果   3228.0     83.0   18366.0           33           33   \n236     秀儿是你吗   1756.0     34.0    9115.0           11           11   \n68       扎红头绳   3978.0    114.0   28287.0          233          233   \n232      爱你久久   2344.0     49.0   12783.0           50           50   \n67        酒杯杯   5520.0    175.0   35470.0         2087         2087   \n14    月亮月亮你别睡   9857.0    921.0   79286.0         2247         2247   \n146      浪拉山情   3272.0     96.0   22963.0         1250         1250   \n12        浪子心  12661.0   1132.0   77753.0         3485         3485   \n18        故乡情  10390.0    990.0   69805.0         1260         1260   \n11        你莫走  10146.0    937.0   90799.0        27233        27233   \n23     情相依爱相守   6544.0    375.0   41319.0         2849         2849   \n15     对面的小姐姐  10234.0    983.0   92044.0        47234        47234   \n113      天生一对   3725.0    102.0   20501.0         4685         4685   \n17       浪子闲话   9208.0    831.0   59977.0         1818         1818   \n1011    东北热炕头    592.0      6.0    3270.0           42           42   \n\n               eval  \n1     714977.940344  \n134   380729.673714  \n0     321944.809249  \n259   234732.487684  \n6     214617.906121  \n79    204284.559226  \n236   196323.395153  \n68    181078.785164  \n232   156312.214612  \n67    146376.351783  \n14    109954.590617  \n146   109755.530398  \n12    106622.688253  \n18    102621.319251  \n11     96275.918239  \n23     90643.516522  \n15     89034.702956  \n113    88579.950896  \n17     88546.182770  \n1011   86321.166114  ",
      "text/html": "<div>\n<style scoped>\n    .dataframe tbody tr th:only-of-type {\n        vertical-align: middle;\n    }\n\n    .dataframe tbody tr th {\n        vertical-align: top;\n    }\n\n    .dataframe thead th {\n        text-align: right;\n    }\n</style>\n<table border=\"1\" class=\"dataframe\">\n  <thead>\n    <tr style=\"text-align: right;\">\n      <th></th>\n      <th>搜索词</th>\n      <th>点击次数</th>\n      <th>好用次数</th>\n      <th>曝光次数</th>\n      <th>video_count</th>\n      <th>video_count</th>\n      <th>eval</th>\n    </tr>\n  </thead>\n  <tbody>\n    <tr>\n      <th>1</th>\n      <td>最爱的就是你</td>\n      <td>54361.0</td>\n      <td>4087.0</td>\n      <td>403803.0</td>\n      <td>1830</td>\n      <td>1830</td>\n      <td>714977.940344</td>\n    </tr>\n    <tr>\n      <th>134</th>\n      <td>免失志</td>\n      <td>2159.0</td>\n      <td>27.0</td>\n      <td>13762.0</td>\n      <td>18</td>\n      <td>18</td>\n      <td>380729.673714</td>\n    </tr>\n    <tr>\n      <th>0</th>\n      <td>忘川的河</td>\n      <td>67689.0</td>\n      <td>11521.0</td>\n      <td>490841.0</td>\n      <td>7766</td>\n      <td>7766</td>\n      <td>321944.809249</td>\n    </tr>\n    <tr>\n      <th>259</th>\n      <td>把你留在我心里</td>\n      <td>2560.0</td>\n      <td>34.0</td>\n      <td>13200.0</td>\n      <td>69</td>\n      <td>69</td>\n      <td>234732.487684</td>\n    </tr>\n    <tr>\n      <th>6</th>\n      <td>牛年牛哥你最牛</td>\n      <td>25861.0</td>\n      <td>2717.0</td>\n      <td>184495.0</td>\n      <td>3577</td>\n      <td>3577</td>\n      <td>214617.906121</td>\n    </tr>\n    <tr>\n      <th>79</th>\n      <td>忘情果</td>\n      <td>3228.0</td>\n      <td>83.0</td>\n      <td>18366.0</td>\n      <td>33</td>\n      <td>33</td>\n      <td>204284.559226</td>\n    </tr>\n    <tr>\n      <th>236</th>\n      <td>秀儿是你吗</td>\n      <td>1756.0</td>\n      <td>34.0</td>\n      <td>9115.0</td>\n      <td>11</td>\n      <td>11</td>\n      <td>196323.395153</td>\n    </tr>\n    <tr>\n      <th>68</th>\n      <td>扎红头绳</td>\n      <td>3978.0</td>\n      <td>114.0</td>\n      <td>28287.0</td>\n      <td>233</td>\n      <td>233</td>\n      <td>181078.785164</td>\n    </tr>\n    <tr>\n      <th>232</th>\n      <td>爱你久久</td>\n      <td>2344.0</td>\n      <td>49.0</td>\n      <td>12783.0</td>\n      <td>50</td>\n      <td>50</td>\n      <td>156312.214612</td>\n    </tr>\n    <tr>\n      <th>67</th>\n      <td>酒杯杯</td>\n      <td>5520.0</td>\n      <td>175.0</td>\n      <td>35470.0</td>\n      <td>2087</td>\n      <td>2087</td>\n      <td>146376.351783</td>\n    </tr>\n    <tr>\n      <th>14</th>\n      <td>月亮月亮你别睡</td>\n      <td>9857.0</td>\n      <td>921.0</td>\n      <td>79286.0</td>\n      <td>2247</td>\n      <td>2247</td>\n      <td>109954.590617</td>\n    </tr>\n    <tr>\n      <th>146</th>\n      <td>浪拉山情</td>\n      <td>3272.0</td>\n      <td>96.0</td>\n      <td>22963.0</td>\n      <td>1250</td>\n      <td>1250</td>\n      <td>109755.530398</td>\n    </tr>\n    <tr>\n      <th>12</th>\n      <td>浪子心</td>\n      <td>12661.0</td>\n      <td>1132.0</td>\n      <td>77753.0</td>\n      <td>3485</td>\n      <td>3485</td>\n      <td>106622.688253</td>\n    </tr>\n    <tr>\n      <th>18</th>\n      <td>故乡情</td>\n      <td>10390.0</td>\n      <td>990.0</td>\n      <td>69805.0</td>\n      <td>1260</td>\n      <td>1260</td>\n      <td>102621.319251</td>\n    </tr>\n    <tr>\n      <th>11</th>\n      <td>你莫走</td>\n      <td>10146.0</td>\n      <td>937.0</td>\n      <td>90799.0</td>\n      <td>27233</td>\n      <td>27233</td>\n      <td>96275.918239</td>\n    </tr>\n    <tr>\n      <th>23</th>\n      <td>情相依爱相守</td>\n      <td>6544.0</td>\n      <td>375.0</td>\n      <td>41319.0</td>\n      <td>2849</td>\n      <td>2849</td>\n      <td>90643.516522</td>\n    </tr>\n    <tr>\n      <th>15</th>\n      <td>对面的小姐姐</td>\n      <td>10234.0</td>\n      <td>983.0</td>\n      <td>92044.0</td>\n      <td>47234</td>\n      <td>47234</td>\n      <td>89034.702956</td>\n    </tr>\n    <tr>\n      <th>113</th>\n      <td>天生一对</td>\n      <td>3725.0</td>\n      <td>102.0</td>\n      <td>20501.0</td>\n      <td>4685</td>\n      <td>4685</td>\n      <td>88579.950896</td>\n    </tr>\n    <tr>\n      <th>17</th>\n      <td>浪子闲话</td>\n      <td>9208.0</td>\n      <td>831.0</td>\n      <td>59977.0</td>\n      <td>1818</td>\n      <td>1818</td>\n      <td>88546.182770</td>\n    </tr>\n    <tr>\n      <th>1011</th>\n      <td>东北热炕头</td>\n      <td>592.0</td>\n      <td>6.0</td>\n      <td>3270.0</td>\n      <td>42</td>\n      <td>42</td>\n      <td>86321.166114</td>\n    </tr>\n  </tbody>\n</table>\n</div>"
     },
     "execution_count": 37,
     "metadata": {},
     "output_type": "execute_result"
    }
   ],
   "source": [
    "import pandas as pd\n",
    "import math\n",
    "mp3_count = '/Users/jiangcx/Downloads/mp3.all.json'\n",
    "data_path = '/Users/jiangcx/Library/Containers/com.tencent.WeWorkMac/Data/Library/Application Support/WXWork/Data/1688851804335549/Cache/File/2021-01/搜索词全部模块全部数据.xlsx'\n",
    "df = pd.read_excel(data_path)\n",
    "df = df.loc[lambda x: x['曝光次数']>5]\n",
    "\n"
   ],
   "metadata": {
    "collapsed": false,
    "pycharm": {
     "name": "#%%\n"
    }
   }
  },
  {
   "cell_type": "code",
   "execution_count": 4,
   "outputs": [
    {
     "name": "stdout",
     "output_type": "stream",
     "text": [
      "92266\n"
     ]
    }
   ],
   "source": [
    "import json\n",
    "raw_path = '/Users/jiangcx/Downloads/search_result_20210125'\n",
    "dup = {}\n",
    "all_list = []\n",
    "with open(raw_path, 'r', encoding='utf-8') as f:# open('/Users/jiangcx/Downloads/search_result_20210125_res', 'w', encoding='utf-8') as outf:\n",
    "    for line in f:\n",
    "        line = json.loads(line.split('\\t')[5])\n",
    "        if line['searchres'] == {}:\n",
    "            continue\n",
    "        search_query = line['searchres']['query']\n",
    "        search_result = line['searchres']['result']\n",
    "        if search_query not in dup:\n",
    "            dup[search_query] = 0\n",
    "            tmp_vid_list = []\n",
    "            for ele in search_result:\n",
    "                tmp_vid_list.append(ele['vid'])\n",
    "            # print(tmp_vid_list)\n",
    "            all_list.append(tmp_vid_list)\n",
    "        else:\n",
    "            pass\n",
    "\n",
    "print(len(all_list))\n",
    "for ele in all_list:\n",
    "    for ind, vid in enumerate(ele):\n",
    "        target_vid = vid\n",
    "        cand_vids = ele[ind+1:]\n",
    "\n",
    "        target_url =\n",
    "\n",
    "\n",
    "    break\n",
    "\n"
   ],
   "metadata": {
    "collapsed": false,
    "pycharm": {
     "name": "#%%\n"
    }
   }
  },
  {
   "cell_type": "code",
   "execution_count": null,
   "outputs": [],
   "source": [],
   "metadata": {
    "collapsed": false,
    "pycharm": {
     "name": "#%%\n"
    }
   }
  },
  {
   "cell_type": "code",
   "execution_count": 7,
   "outputs": [
    {
     "name": "stdout",
     "output_type": "stream",
     "text": [
      "********\n",
      "1500677997463\n",
      "['1500675548386', '1500677999066', '1500677973989', '1500678026057', '1500677980780', '1500678014413', '1500677971870', '1500677978882', '1500678439096', '1500677969893', '1500678353321', '1500678786664', '1500677978524', '1500678036872', '1500678111233', '1500678012716', '1500678182895']\n",
      "********\n",
      "1500675548386\n",
      "['1500677999066', '1500677973989', '1500678026057', '1500677980780', '1500678014413', '1500677971870', '1500677978882', '1500678439096', '1500677969893', '1500678353321', '1500678786664', '1500677978524', '1500678036872', '1500678111233', '1500678012716', '1500678182895']\n",
      "********\n",
      "1500677999066\n",
      "['1500677973989', '1500678026057', '1500677980780', '1500678014413', '1500677971870', '1500677978882', '1500678439096', '1500677969893', '1500678353321', '1500678786664', '1500677978524', '1500678036872', '1500678111233', '1500678012716', '1500678182895']\n",
      "********\n",
      "1500677973989\n",
      "['1500678026057', '1500677980780', '1500678014413', '1500677971870', '1500677978882', '1500678439096', '1500677969893', '1500678353321', '1500678786664', '1500677978524', '1500678036872', '1500678111233', '1500678012716', '1500678182895']\n",
      "********\n",
      "1500678026057\n",
      "['1500677980780', '1500678014413', '1500677971870', '1500677978882', '1500678439096', '1500677969893', '1500678353321', '1500678786664', '1500677978524', '1500678036872', '1500678111233', '1500678012716', '1500678182895']\n",
      "********\n",
      "1500677980780\n",
      "['1500678014413', '1500677971870', '1500677978882', '1500678439096', '1500677969893', '1500678353321', '1500678786664', '1500677978524', '1500678036872', '1500678111233', '1500678012716', '1500678182895']\n",
      "********\n",
      "1500678014413\n",
      "['1500677971870', '1500677978882', '1500678439096', '1500677969893', '1500678353321', '1500678786664', '1500677978524', '1500678036872', '1500678111233', '1500678012716', '1500678182895']\n",
      "********\n",
      "1500677971870\n",
      "['1500677978882', '1500678439096', '1500677969893', '1500678353321', '1500678786664', '1500677978524', '1500678036872', '1500678111233', '1500678012716', '1500678182895']\n",
      "********\n",
      "1500677978882\n",
      "['1500678439096', '1500677969893', '1500678353321', '1500678786664', '1500677978524', '1500678036872', '1500678111233', '1500678012716', '1500678182895']\n",
      "********\n",
      "1500678439096\n",
      "['1500677969893', '1500678353321', '1500678786664', '1500677978524', '1500678036872', '1500678111233', '1500678012716', '1500678182895']\n",
      "********\n",
      "1500677969893\n",
      "['1500678353321', '1500678786664', '1500677978524', '1500678036872', '1500678111233', '1500678012716', '1500678182895']\n",
      "********\n",
      "1500678353321\n",
      "['1500678786664', '1500677978524', '1500678036872', '1500678111233', '1500678012716', '1500678182895']\n",
      "********\n",
      "1500678786664\n",
      "['1500677978524', '1500678036872', '1500678111233', '1500678012716', '1500678182895']\n",
      "********\n",
      "1500677978524\n",
      "['1500678036872', '1500678111233', '1500678012716', '1500678182895']\n",
      "********\n",
      "1500678036872\n",
      "['1500678111233', '1500678012716', '1500678182895']\n",
      "********\n",
      "1500678111233\n",
      "['1500678012716', '1500678182895']\n",
      "********\n",
      "1500678012716\n",
      "['1500678182895']\n",
      "********\n",
      "1500678182895\n",
      "[]\n"
     ]
    }
   ],
   "source": [
    "# select p_content_mp3['tagname'] as content_mp3, count(*) as cnt from dw.video_profile_parse where dt = date_sub(current_date ,1) and f_cstage in (6,7,8,10) and f_ctype in (101, 102, 103, 105, 106, 107, 301, 121) and f_cstatus=0  and talentstar >= 4 and content_teach = '教学' group by p_content_mp3\n"
   ],
   "metadata": {
    "collapsed": false,
    "pycharm": {
     "name": "#%%\n"
    }
   }
  },
  {
   "cell_type": "code",
   "execution_count": null,
   "outputs": [],
   "source": [
    "\n"
   ],
   "metadata": {
    "collapsed": false,
    "pycharm": {
     "name": "#%%\n"
    }
   }
  }
 ],
 "metadata": {
  "kernelspec": {
   "display_name": "Python 3",
   "language": "python",
   "name": "python3"
  },
  "language_info": {
   "codemirror_mode": {
    "name": "ipython",
    "version": 2
   },
   "file_extension": ".py",
   "mimetype": "text/x-python",
   "name": "python",
   "nbconvert_exporter": "python",
   "pygments_lexer": "ipython2",
   "version": "2.7.6"
  }
 },
 "nbformat": 4,
 "nbformat_minor": 0
}