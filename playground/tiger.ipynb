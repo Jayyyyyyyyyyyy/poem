{
 "cells": [
  {
   "cell_type": "code",
   "execution_count": 10,
   "metadata": {},
   "outputs": [],
   "source": [
    "import tensorflow as tf\n",
    "tf.compat.v1.disable_eager_execution()"
   ]
  },
  {
   "cell_type": "code",
   "execution_count": 12,
   "metadata": {},
   "outputs": [
    {
     "name": "stdout",
     "output_type": "stream",
     "text": [
      "[b'1' b'2' b'Fizz' b'4' b'Buzz' b'Fizz' b'7' b'8' b'Fizz' b'Buzz' b'11'\n",
      " b'Fizz' b'13' b'14' b'FizzBuzz' b'16' b'17' b'Fizz' b'19' b'Buzz' b'Fizz'\n",
      " b'22' b'23' b'Fizz' b'Buzz' b'26' b'Fizz' b'28' b'29' b'FizzBuzz' b'31'\n",
      " b'32' b'Fizz' b'34' b'Buzz' b'Fizz' b'37' b'38' b'Fizz' b'Buzz' b'41'\n",
      " b'Fizz' b'43' b'44' b'FizzBuzz' b'46' b'47' b'Fizz' b'49' b'Buzz']\n"
     ]
    }
   ],
   "source": [
    "import tensorflow.compat.v1 as tf\n",
    "tf.disable_v2_behavior()\n",
    "class FizzBuzz():\n",
    "    def __init__(self, length=30):\n",
    "        self.length = length  # 程序需要执行的序列长度\n",
    "        self.array = tf.Variable([str(i) for i in range(1, length+1)], dtype=tf.string, trainable=False)  # 最后程序返回的结果\n",
    "        self.graph = tf.while_loop(self.cond, self.body, [1, self.array],)   # 对每一个值进行循环判断\n",
    "\n",
    "    def run(self):\n",
    "        with tf.Session() as sess:\n",
    "            tf.global_variables_initializer().run()\n",
    "            return sess.run(self.graph) \n",
    "    \n",
    "    def cond(self, i, _):\n",
    "        return (tf.less(i, self.length+1)) # 判断是否是最后一个值\n",
    "    \n",
    "    def body(self, i, _):\n",
    "        flow = tf.cond(tf.equal(tf.mod(i, 15), 0), lambda: tf.assign(self.array[i - 1], 'FizzBuzz'),\n",
    "                lambda: tf.cond(tf.equal(tf.mod(i, 3), 0), lambda: tf.assign(self.array[i - 1], 'Fizz'),\n",
    "                        lambda: tf.cond(tf.equal(tf.mod(i, 5), 0), lambda: tf.assign(self.array[i - 1], 'Buzz'),\n",
    "                                lambda: self.array)\n",
    "                                                   )\n",
    "                                                    )\n",
    "        return (tf.add(i, 1), flow)\n",
    "        \n",
    "if __name__ == '__main__':\n",
    "    fizzbuzz = FizzBuzz(length=50)\n",
    "    ix, array = fizzbuzz.run()\n",
    "    print(array)"
   ]
  },
  {
   "cell_type": "code",
   "execution_count": null,
   "metadata": {},
   "outputs": [],
   "source": []
  },
  {
   "cell_type": "code",
   "execution_count": null,
   "metadata": {},
   "outputs": [],
   "source": []
  },
  {
   "cell_type": "code",
   "execution_count": 13,
   "metadata": {},
   "outputs": [
    {
     "name": "stdout",
     "output_type": "stream",
     "text": [
      "100000\n",
      "(100000,)\n"
     ]
    }
   ],
   "source": [
    "import tensorflow as tf\n",
    "tf.compat.v1.disable_eager_execution()\n",
    "\n",
    "n = 100000\n",
    "x = tf.constant(list(range(n)))\n",
    "c = lambda i, x: i < n\n",
    "b = lambda i, x: (tf.compat.v1.Print(i + 1, [i]), tf.compat.v1.Print(x + 1,[i], \"x:\"))\n",
    "i, out = tf.while_loop(c, b, (0, x))\n",
    "with tf.compat.v1.Session() as sess:\n",
    "    print(sess.run(i))  # prints [0] ... [9999]\n",
    "    # The following line may increment the counter and x in parallel.\n",
    "    # The counter thread may get ahead of the other thread, but not the\n",
    "    # other way around. So you may see things like\n",
    "    # [9996] x:[9987]\n",
    "    # meaning that the counter thread is on iteration 9996,\n",
    "    # while the other thread is on iteration 9987\n",
    "    print(sess.run(out).shape)"
   ]
  },
  {
   "cell_type": "code",
   "execution_count": 3,
   "metadata": {},
   "outputs": [
    {
     "name": "stdout",
     "output_type": "stream",
     "text": [
      "10\n"
     ]
    }
   ],
   "source": [
    "import tensorflow as tf \n",
    "tf.compat.v1.disable_eager_execution()\n",
    "\n",
    "a = tf.compat.v1.get_variable(name = \"ii\", dtype=tf.int32, shape=[], initializer=tf.ones_initializer())\n",
    "n = tf.constant(10)\n",
    "def cond(a, n):\n",
    "    return  a< n\n",
    "def body(a, n):\n",
    "    a = a + 1\n",
    "    return a, n\n",
    "graph = tf.while_loop(cond, body, [a, n])\n",
    "with tf.compat.v1.Session() as sess:\n",
    "    tf.compat.v1.global_variables_initializer().run()\n",
    "    a, res = sess.run(graph)\n",
    "    print(a)"
   ]
  },
  {
   "cell_type": "code",
   "execution_count": 1,
   "metadata": {},
   "outputs": [
    {
     "name": "stdout",
     "output_type": "stream",
     "text": [
      "45\n"
     ]
    }
   ],
   "source": [
    "import tensorflow as tf\n",
    "tf.compat.v1.disable_eager_execution()\n",
    "i = tf.constant(0)\n",
    "acc = tf.constant(0)\n",
    "cond = lambda i, _: tf.less(i, 10)\n",
    "body = lambda i, acc: (tf.add(i, 1), tf.add(acc, i))\n",
    "graph = tf.while_loop(cond, body, [i, acc])\n",
    "with tf.compat.v1.Session() as sess:\n",
    "    _, acc = sess.run(graph)\n",
    "    print(acc)\n"
   ]
  },
  {
   "cell_type": "code",
   "execution_count": 29,
   "metadata": {},
   "outputs": [],
   "source": [
    "import cv2\n",
    "from imagededup.methods import CNN\n",
    "\n",
    "def valid_url(url_string, encoding_map, start_sec = 20, end_sec = 40):\n",
    "    # 视频抽帧+提取特征 大约需要11.9秒左右 （20张）\n",
    "    video_capture.open(url_string)\n",
    "    total_frames = video_capture.get(7)\n",
    "    fps = video_capture.get(5)\n",
    "    duration = total_frames // fps\n",
    "    \n",
    "    if duration >= end_sec:\n",
    "        \n",
    "        for sec in range(start_sec,end_sec):\n",
    "            new_url_string = '{}\\t{}'.format(url_string, sec)\n",
    "            frame_num = sec * fps\n",
    "            video_capture.set(cv2.CAP_PROP_POS_FRAMES, frame_num)\n",
    "            _, image = video_capture.read()\n",
    "            image = cv2.resize(image, (224, 224),interpolation=cv2.INTER_CUBIC)\n",
    "            feat_vec = cnn_encoder.encode_image(image_array= image)\n",
    "            encoding_map[new_url_string] = feat_vec[0]\n",
    "            #print(feat_vec.shape)\n",
    "            #cv2.imshow('image',image)\n",
    "            cv2.imwrite(new_url_string+'.jpg', image)  # save frame as JPEG file\n",
    "            #break\n",
    "            \n",
    "        return url_string\n",
    "    else:\n",
    "        return 'Error: Cannot open video url: {}'.format(url_string)\n",
    "    "
   ]
  },
  {
   "cell_type": "code",
   "execution_count": 30,
   "metadata": {},
   "outputs": [
    {
     "name": "stderr",
     "output_type": "stream",
     "text": [
      "2020-07-16 10:27:25,036: INFO Initialized: MobileNet pretrained on ImageNet dataset sliced at last conv layer and added GlobalAveragePooling\n"
     ]
    },
    {
     "name": "stdout",
     "output_type": "stream",
     "text": [
      "CPU times: user 20.2 s, sys: 2.88 s, total: 23.1 s\n",
      "Wall time: 34.8 s\n"
     ]
    },
    {
     "data": {
      "text/plain": [
       "'http://aqiniudl.tangdou.com/202005/B17A19A7D35E7B70B97D8D3D0B1F52F2-10.mp4'"
      ]
     },
     "execution_count": 30,
     "metadata": {},
     "output_type": "execute_result"
    }
   ],
   "source": [
    "%%time \n",
    "url_string = 'http://aqiniudl.tangdou.com/202005/3167C3677B9ECEAD33E0372055533CB4-10.mp4'\n",
    "url_string2 = 'http://aqiniudl.tangdou.com/202005/B17A19A7D35E7B70B97D8D3D0B1F52F2-10.mp4'\n",
    "video_capture = cv2.VideoCapture()\n",
    "encoding_map = {}\n",
    "cnn_encoder = CNN()\n",
    "valid_url(url_string, encoding_map)\n",
    "valid_url(url_string2, encoding_map)"
   ]
  },
  {
   "cell_type": "code",
   "execution_count": 31,
   "metadata": {
    "scrolled": false
   },
   "outputs": [
    {
     "name": "stderr",
     "output_type": "stream",
     "text": [
      "2020-07-16 10:28:11,659: INFO Start: Calculating cosine similarities...\n",
      "2020-07-16 10:28:11,669: INFO End: Calculating cosine similarities.\n"
     ]
    },
    {
     "name": "stdout",
     "output_type": "stream",
     "text": [
      "CPU times: user 5.06 ms, sys: 3.05 ms, total: 8.11 ms\n",
      "Wall time: 13.3 ms\n"
     ]
    }
   ],
   "source": [
    "%%time\n",
    "duplicates = cnn_encoder.find_duplicates(encoding_map=encoding_map,\n",
    "                                             min_similarity_threshold=0.90,\n",
    "                                             scores=True)"
   ]
  },
  {
   "cell_type": "code",
   "execution_count": 35,
   "metadata": {},
   "outputs": [
    {
     "name": "stdout",
     "output_type": "stream",
     "text": [
      "15.0\n"
     ]
    }
   ],
   "source": [
    "cnt = 0\n",
    "for key in duplicates.keys():\n",
    "    pre_fix, suffix = key.split('\\t')\n",
    "#     print('*'*20)\n",
    "#     print(pre_fix)\n",
    "    self_filter = [ele for ele in duplicates[key] if pre_fix not in ele[0]]\n",
    "    if self_filter:\n",
    "        cnt += 1\n",
    "print(cnt/2)"
   ]
  },
  {
   "cell_type": "code",
   "execution_count": 1,
   "metadata": {},
   "outputs": [
    {
     "name": "stdout",
     "output_type": "stream",
     "text": [
      "b'{\"pic\": \"/public/video/2020/1116/20201116184748_2893555.jpg!260\", \"videourl\": \"202011/481E8D63-CEA5-7D48-3F28-3EFAD83D9A64\", \"vid\": 1500678022281, \"mp3url\": \"\"}'\n",
      "b'{\"pic\": \"/public/video/2020/1114/20201114011810_5957255.jpg!260\", \"videourl\": \"202011/189ABD42-24BC-B071-702B-9D9861C07F2C\", \"vid\": 1500677989235, \"mp3url\": \"\"}'\n"
     ]
    }
   ],
   "source": [
    "import json\n",
    "import redis    \n",
    "hostname = '10.42.158.47'\n",
    "port = 6379\n",
    "r = redis.Redis(host=hostname, port=port)\n",
    "print(r.get('url_{}'.format(1500678022281)))\n",
    "print(r.get('url_{}'.format(1500677989235)))\n",
    "# def get_urls(vid):\n",
    "#     # vid = '8982780'\n",
    "#     key = 'url_{}'.format(vid)\n",
    "#     res = json.loads(r.get(key))\n",
    "#     pic = 'http://aimg.tangdou.com'+res['pic']\n",
    "#     if '!' in pic:\n",
    "#         pic = pic.split('!')[0]\n",
    "#     return [vid, pic]\n",
    "# print(get_urls(1500656814419))"
   ]
  },
  {
   "cell_type": "code",
   "execution_count": null,
   "metadata": {},
   "outputs": [],
   "source": [
    "import json\n",
    "from datetime import datetime\n",
    "import time\n",
    "import redis\n",
    "import cv2\n",
    "hostname = '10.42.158.47'\n",
    "port = 6379\n",
    "r = redis.Redis(host=hostname, port=port)\n",
    "\n",
    "video_capture = cv2.VideoCapture()\n",
    "def is_open(url):\n",
    "    if video_capture.open(url):\n",
    "        return url\n",
    "    else:\n",
    "        url = url.replace(\"-10\", \"-20\")\n",
    "        if video_capture.open(url):\n",
    "            return url\n",
    "        else:\n",
    "            url = url.replace(\"-20.mp4\", \".mp4\")\n",
    "            if video_capture.open(url):\n",
    "                return url\n",
    "            else:\n",
    "                return None\n",
    "\n",
    "# def get_urls(vid):\n",
    "#     key = 'url_{}'.format(vid)\n",
    "#     try:\n",
    "#         res = json.loads(r.get(key))\n",
    "#     except Exception as e:\n",
    "#         print('ERROR:The key cannot find in redis')\n",
    "#         return None\n",
    "#     video = 'http://aqiniudl.tangdou.com/'+res['videourl']+'-10.mp4'\n",
    "#     video = is_open(video)\n",
    "#     if not video:\n",
    "#         print('the video url of {} is invalid!'.format(vid))\n",
    "#         return video\n",
    "#     return video\n",
    "def get_urls(vid):\n",
    "    key = 'url_{}'.format(vid)\n",
    "    try:\n",
    "        res = json.loads(r.get(key))\n",
    "    except Exception as e:\n",
    "        print('ERROR:', 'The key cannot find in redis')\n",
    "        return [None, None]\n",
    "    pic = 'http://aimg.tangdou.com'+res['pic']\n",
    "    video = 'http://aqiniudl.tangdou.com/'+res['videourl']+'-10.mp4'\n",
    "    video = is_open(video)\n",
    "    if '!' in pic:\n",
    "        pic = pic.split('!')[0]\n",
    "    if not video:\n",
    "        return [None, pic]\n",
    "    return [video, pic]\n",
    "big_dict = {}\n",
    "def convert_ts(createtime):\n",
    "    dateobj = datetime.strptime(createtime, '%Y-%m-%d %H:%M:%S.%f')\n",
    "    t = dateobj.timetuple()\n",
    "    timeStamp = int(time.mktime(t))\n",
    "    return timeStamp\n",
    "\n",
    "with open('./vid_createtime', 'r', encoding = 'utf-8') as f:\n",
    "    for line in f:\n",
    "        line_json = json.loads(line)\n",
    "        try:\n",
    "            big_dict[line_json['vid']] = convert_ts(line_json['createtime'])\n",
    "        except Exception as e:\n",
    "            print(line_json['vid'], e)\n",
    "print('createtime down')\n",
    "\n",
    "with open('./out_final_bk','r' , encoding='utf-8') as w, open('./new_out_final','w', encoding='utf-8') as w1, open('./PM_out_final','w', encoding='utf-8') as w2:\n",
    "    cnt = -0\n",
    "    for line2 in w:\n",
    "        cnt += 1\n",
    "        print(cnt)\n",
    "        detail_json = {}\n",
    "        parse = json.loads(line2)\n",
    "        org_vid = parse['id']\n",
    "        org_video, org_img  = get_urls(org_vid)\n",
    "        org_vid_time = big_dict[org_vid]\n",
    "        detail_json['query'] = {'vid':org_vid,'img':org_img,'video':org_video,'createtime':org_vid_time}\n",
    "\n",
    "\n",
    "        img_reprint_vids = parse['profileinfo']['img_reprint_vidlist']\n",
    "        # 时间戳小的为原创视频\n",
    "        detail_json['candidates'] = []\n",
    "        for x in img_reprint_vids:\n",
    "            tmp_time = big_dict[x]\n",
    "            video_url, img_url  = get_urls(x)\n",
    "            # 如果待选视频的创建时间 小于 请求视频的创建时间，则说明请求视频是盗播视频，否则为原创\n",
    "\n",
    "            detail_json['candidates'].append({'vid':x,'img':img_url,'video':video_url,'createtime':tmp_time})\n",
    "            if tmp_time < org_vid_time:\n",
    "                pass\n",
    "            else:\n",
    "                parse['profileinfo']['img_reprint_flag'] = 0\n",
    "                break\n",
    "        w1.write(json.dumps(parse)+'\\n')\n",
    "        w2.write(json.dumps(detail_json)+'\\n')"
   ]
  },
  {
   "cell_type": "code",
   "execution_count": null,
   "metadata": {},
   "outputs": [],
   "source": []
  },
  {
   "cell_type": "code",
   "execution_count": 25,
   "metadata": {},
   "outputs": [],
   "source": [
    "import json\n",
    "from datetime import datetime\n",
    "import time\n",
    "import redis\n",
    "import cv2\n",
    "hostname = '10.42.158.47'\n",
    "port = 6379\n",
    "r = redis.Redis(host=hostname, port=port)\n",
    "\n",
    "video_capture = cv2.VideoCapture()\n",
    "def is_open(url):\n",
    "    if video_capture.open(url):                 \n",
    "        return url\n",
    "    else:\n",
    "        url = url.replace(\"-10\", \"-20\")\n",
    "        if video_capture.open(url):\n",
    "            return url\n",
    "        else:\n",
    "            url = url.replace(\"-20.mp4\", \".mp4\")\n",
    "            if video_capture.open(url):\n",
    "                return url\n",
    "            else:\n",
    "                print('No url is valid!')\n",
    "                return None\n",
    "\n",
    "def get_urls(vid):\n",
    "    # vid = '8982780'\n",
    "    key = 'url_{}'.format(vid)\n",
    "    print(key)\n",
    "    try:\n",
    "        res = json.loads(r.get(key))\n",
    "    except Exception as e:\n",
    "        print('ERROR:', 'The key cannot find in redis')\n",
    "        return [None, None]\n",
    "    pic = 'http://aimg.tangdou.com'+res['pic']\n",
    "    video = 'http://aqiniudl.tangdou.com/'+res['videourl']+'-10.mp4'\n",
    "    video = is_open(video)\n",
    "    if '!' in pic:\n",
    "        pic = pic.split('!')[0]\n",
    "    if not video:\n",
    "        return [None, pic]\n",
    "    return [video, pic]"
   ]
  },
  {
   "cell_type": "code",
   "execution_count": null,
   "metadata": {},
   "outputs": [],
   "source": [
    "%%time \n",
    "file = '/Users/jiangcx/Documents/tmp'\n",
    "with open(file, 'r') as f:\n",
    "    for line in f:\n",
    "        vid = json.loads(line)['vid']\n",
    "        video , pic = get_urls(vid)\n",
    "        print(video)"
   ]
  },
  {
   "cell_type": "code",
   "execution_count": 59,
   "metadata": {},
   "outputs": [],
   "source": [
    "import pandas as pd\n",
    "file = '/Users/jiangcx/Documents/PM_out_final'\n",
    "tmplist = []\n",
    "with open(file, 'r') as f:\n",
    "    for line in f:\n",
    "        res = json.loads(line)\n",
    "        vid = res['query']['vid']\n",
    "        img = res['query']['img']\n",
    "        video = res['query']['video']\n",
    "        tmplist.append([str(vid), video, img])\n",
    "        for x in res['candidates']:\n",
    "            tmplist.append([str(x['vid']),x['video'], x['img']])\n",
    "        tmplist.append(['',''])\n",
    "        tmplist.append(['',''])\n",
    "        \n",
    "df = pd.DataFrame(tmplist)\n",
    "df.to_csv('./res.csv')"
   ]
  },
  {
   "cell_type": "code",
   "execution_count": 2,
   "metadata": {},
   "outputs": [
    {
     "name": "stdout",
     "output_type": "stream",
     "text": [
      "60\n"
     ]
    },
    {
     "ename": "NameError",
     "evalue": "name 'cnt' is not defined",
     "output_type": "error",
     "traceback": [
      "\u001b[0;31m---------------------------------------------------------------------------\u001b[0m",
      "\u001b[0;31mNameError\u001b[0m                                 Traceback (most recent call last)",
      "\u001b[0;32m<ipython-input-2-74a0d13aabaf>\u001b[0m in \u001b[0;36m<module>\u001b[0;34m\u001b[0m\n\u001b[1;32m      6\u001b[0m     \u001b[0mself_filter\u001b[0m \u001b[0;34m=\u001b[0m \u001b[0;34m[\u001b[0m\u001b[0mele\u001b[0m \u001b[0;32mfor\u001b[0m \u001b[0mele\u001b[0m \u001b[0;32min\u001b[0m \u001b[0mabc\u001b[0m\u001b[0;34m[\u001b[0m\u001b[0mkey\u001b[0m\u001b[0;34m]\u001b[0m \u001b[0;32mif\u001b[0m \u001b[0mpre_fix\u001b[0m \u001b[0;32mnot\u001b[0m \u001b[0;32min\u001b[0m \u001b[0mele\u001b[0m\u001b[0;34m[\u001b[0m\u001b[0;36m0\u001b[0m\u001b[0;34m]\u001b[0m\u001b[0;34m]\u001b[0m\u001b[0;34m\u001b[0m\u001b[0;34m\u001b[0m\u001b[0m\n\u001b[1;32m      7\u001b[0m     \u001b[0;32mif\u001b[0m \u001b[0mself_filter\u001b[0m\u001b[0;34m:\u001b[0m\u001b[0;34m\u001b[0m\u001b[0;34m\u001b[0m\u001b[0m\n\u001b[0;32m----> 8\u001b[0;31m         \u001b[0mcnt\u001b[0m \u001b[0;34m+=\u001b[0m \u001b[0;36m1\u001b[0m\u001b[0;34m\u001b[0m\u001b[0;34m\u001b[0m\u001b[0m\n\u001b[0m\u001b[1;32m      9\u001b[0m \u001b[0mint\u001b[0m\u001b[0;34m(\u001b[0m\u001b[0mcnt\u001b[0m\u001b[0;34m/\u001b[0m\u001b[0;36m2\u001b[0m\u001b[0;34m)\u001b[0m\u001b[0;34m/\u001b[0m\u001b[0;36m20\u001b[0m\u001b[0;34m\u001b[0m\u001b[0;34m\u001b[0m\u001b[0m\n",
      "\u001b[0;31mNameError\u001b[0m: name 'cnt' is not defined"
     ]
    }
   ],
   "source": [
    "abc = {'http://aqiniudl.tangdou.com/202005/A7C11FD6-D846-CD4A-81BC-4A27EFB0B45C-10.mp4\\t20': [('http://aqiniudl.tangdou.com/202005/A7C11FD6-D846-CD4A-81BC-4A27EFB0B45C-10.mp4\\t21', 0.9765388422942951), ('http://aqiniudl.tangdou.com/202004/2A6CC81A-880F-D7AA-C32D-24DDC93643BF-10.mp4\\t20', 1.0000000000000009), ('http://aqiniudl.tangdou.com/202004/2A6CC81A-880F-D7AA-C32D-24DDC93643BF-10.mp4\\t21', 0.9765388422942951), ('http://aqiniudl.tangdou.com/202005/D0249C43-5190-C475-3F5D-7EE42388FA73-10.mp4\\t20', 0.9664486817137026), ('http://aqiniudl.tangdou.com/202005/D0249C43-5190-C475-3F5D-7EE42388FA73-10.mp4\\t21', 0.9588598557276725)], 'http://aqiniudl.tangdou.com/202005/A7C11FD6-D846-CD4A-81BC-4A27EFB0B45C-10.mp4\\t21': [('http://aqiniudl.tangdou.com/202005/A7C11FD6-D846-CD4A-81BC-4A27EFB0B45C-10.mp4\\t20', 0.9765388422942951), ('http://aqiniudl.tangdou.com/202004/2A6CC81A-880F-D7AA-C32D-24DDC93643BF-10.mp4\\t20', 0.9765388422942951), ('http://aqiniudl.tangdou.com/202004/2A6CC81A-880F-D7AA-C32D-24DDC93643BF-10.mp4\\t21', 1.0), ('http://aqiniudl.tangdou.com/202005/D0249C43-5190-C475-3F5D-7EE42388FA73-10.mp4\\t20', 0.9436723184425178), ('http://aqiniudl.tangdou.com/202005/D0249C43-5190-C475-3F5D-7EE42388FA73-10.mp4\\t21', 0.9646406199659256)], 'http://aqiniudl.tangdou.com/202005/A7C11FD6-D846-CD4A-81BC-4A27EFB0B45C-10.mp4\\t22': [('http://aqiniudl.tangdou.com/202005/A7C11FD6-D846-CD4A-81BC-4A27EFB0B45C-10.mp4\\t23', 0.967515245483085), ('http://aqiniudl.tangdou.com/202005/A7C11FD6-D846-CD4A-81BC-4A27EFB0B45C-10.mp4\\t24', 0.9545908407436745), ('http://aqiniudl.tangdou.com/202005/A7C11FD6-D846-CD4A-81BC-4A27EFB0B45C-10.mp4\\t25', 0.9510320172184293), ('http://aqiniudl.tangdou.com/202005/A7C11FD6-D846-CD4A-81BC-4A27EFB0B45C-10.mp4\\t26', 0.9487988626846922), ('http://aqiniudl.tangdou.com/202005/A7C11FD6-D846-CD4A-81BC-4A27EFB0B45C-10.mp4\\t27', 0.9453426610746947), ('http://aqiniudl.tangdou.com/202005/A7C11FD6-D846-CD4A-81BC-4A27EFB0B45C-10.mp4\\t28', 0.9420269084343285), ('http://aqiniudl.tangdou.com/202004/2A6CC81A-880F-D7AA-C32D-24DDC93643BF-10.mp4\\t22', 1.0), ('http://aqiniudl.tangdou.com/202004/2A6CC81A-880F-D7AA-C32D-24DDC93643BF-10.mp4\\t23', 0.967515245483085), ('http://aqiniudl.tangdou.com/202004/2A6CC81A-880F-D7AA-C32D-24DDC93643BF-10.mp4\\t24', 0.9545908407436745), ('http://aqiniudl.tangdou.com/202004/2A6CC81A-880F-D7AA-C32D-24DDC93643BF-10.mp4\\t25', 0.9510320172184293), ('http://aqiniudl.tangdou.com/202004/2A6CC81A-880F-D7AA-C32D-24DDC93643BF-10.mp4\\t26', 0.9487988626846922), ('http://aqiniudl.tangdou.com/202004/2A6CC81A-880F-D7AA-C32D-24DDC93643BF-10.mp4\\t27', 0.9453426610746947), ('http://aqiniudl.tangdou.com/202004/2A6CC81A-880F-D7AA-C32D-24DDC93643BF-10.mp4\\t28', 0.9420269084343285), ('http://aqiniudl.tangdou.com/202005/D0249C43-5190-C475-3F5D-7EE42388FA73-10.mp4\\t22', 0.9491519198590459), ('http://aqiniudl.tangdou.com/202005/D0249C43-5190-C475-3F5D-7EE42388FA73-10.mp4\\t23', 0.9351239718210458), ('http://aqiniudl.tangdou.com/202005/D0249C43-5190-C475-3F5D-7EE42388FA73-10.mp4\\t24', 0.9084738077169975), ('http://aqiniudl.tangdou.com/202005/D0249C43-5190-C475-3F5D-7EE42388FA73-10.mp4\\t25', 0.9171167196672914), ('http://aqiniudl.tangdou.com/202005/D0249C43-5190-C475-3F5D-7EE42388FA73-10.mp4\\t26', 0.9089798950449235), ('http://aqiniudl.tangdou.com/202005/D0249C43-5190-C475-3F5D-7EE42388FA73-10.mp4\\t27', 0.9106606043748955), ('http://aqiniudl.tangdou.com/202005/D0249C43-5190-C475-3F5D-7EE42388FA73-10.mp4\\t28', 0.9119457062701004)], 'http://aqiniudl.tangdou.com/202005/A7C11FD6-D846-CD4A-81BC-4A27EFB0B45C-10.mp4\\t23': [('http://aqiniudl.tangdou.com/202005/A7C11FD6-D846-CD4A-81BC-4A27EFB0B45C-10.mp4\\t22', 0.967515245483085), ('http://aqiniudl.tangdou.com/202005/A7C11FD6-D846-CD4A-81BC-4A27EFB0B45C-10.mp4\\t24', 0.9818346198552483), ('http://aqiniudl.tangdou.com/202005/A7C11FD6-D846-CD4A-81BC-4A27EFB0B45C-10.mp4\\t25', 0.9649034425821205), ('http://aqiniudl.tangdou.com/202005/A7C11FD6-D846-CD4A-81BC-4A27EFB0B45C-10.mp4\\t26', 0.966910036964164), ('http://aqiniudl.tangdou.com/202005/A7C11FD6-D846-CD4A-81BC-4A27EFB0B45C-10.mp4\\t27', 0.9616057998149854), ('http://aqiniudl.tangdou.com/202005/A7C11FD6-D846-CD4A-81BC-4A27EFB0B45C-10.mp4\\t28', 0.9597457445108959), ('http://aqiniudl.tangdou.com/202004/2A6CC81A-880F-D7AA-C32D-24DDC93643BF-10.mp4\\t22', 0.967515245483085), ('http://aqiniudl.tangdou.com/202004/2A6CC81A-880F-D7AA-C32D-24DDC93643BF-10.mp4\\t23', 1.000000000000001), ('http://aqiniudl.tangdou.com/202004/2A6CC81A-880F-D7AA-C32D-24DDC93643BF-10.mp4\\t24', 0.9818346198552483), ('http://aqiniudl.tangdou.com/202004/2A6CC81A-880F-D7AA-C32D-24DDC93643BF-10.mp4\\t25', 0.9649034425821205), ('http://aqiniudl.tangdou.com/202004/2A6CC81A-880F-D7AA-C32D-24DDC93643BF-10.mp4\\t26', 0.966910036964164), ('http://aqiniudl.tangdou.com/202004/2A6CC81A-880F-D7AA-C32D-24DDC93643BF-10.mp4\\t27', 0.9616057998149854), ('http://aqiniudl.tangdou.com/202004/2A6CC81A-880F-D7AA-C32D-24DDC93643BF-10.mp4\\t28', 0.9597457445108959), ('http://aqiniudl.tangdou.com/202005/D0249C43-5190-C475-3F5D-7EE42388FA73-10.mp4\\t22', 0.9400363642026343), ('http://aqiniudl.tangdou.com/202005/D0249C43-5190-C475-3F5D-7EE42388FA73-10.mp4\\t23', 0.9560708161785081), ('http://aqiniudl.tangdou.com/202005/D0249C43-5190-C475-3F5D-7EE42388FA73-10.mp4\\t24', 0.9305019784237264), ('http://aqiniudl.tangdou.com/202005/D0249C43-5190-C475-3F5D-7EE42388FA73-10.mp4\\t25', 0.92839501489237), ('http://aqiniudl.tangdou.com/202005/D0249C43-5190-C475-3F5D-7EE42388FA73-10.mp4\\t26', 0.9257817614256327), ('http://aqiniudl.tangdou.com/202005/D0249C43-5190-C475-3F5D-7EE42388FA73-10.mp4\\t27', 0.9301000890342855), ('http://aqiniudl.tangdou.com/202005/D0249C43-5190-C475-3F5D-7EE42388FA73-10.mp4\\t28', 0.9268973376026303)], 'http://aqiniudl.tangdou.com/202005/A7C11FD6-D846-CD4A-81BC-4A27EFB0B45C-10.mp4\\t24': [('http://aqiniudl.tangdou.com/202005/A7C11FD6-D846-CD4A-81BC-4A27EFB0B45C-10.mp4\\t22', 0.9545908407436745), ('http://aqiniudl.tangdou.com/202005/A7C11FD6-D846-CD4A-81BC-4A27EFB0B45C-10.mp4\\t23', 0.9818346198552483), ('http://aqiniudl.tangdou.com/202005/A7C11FD6-D846-CD4A-81BC-4A27EFB0B45C-10.mp4\\t25', 0.9757896514216114), ('http://aqiniudl.tangdou.com/202005/A7C11FD6-D846-CD4A-81BC-4A27EFB0B45C-10.mp4\\t26', 0.9760264456471854), ('http://aqiniudl.tangdou.com/202005/A7C11FD6-D846-CD4A-81BC-4A27EFB0B45C-10.mp4\\t27', 0.9701891850576712), ('http://aqiniudl.tangdou.com/202005/A7C11FD6-D846-CD4A-81BC-4A27EFB0B45C-10.mp4\\t28', 0.968908924500756), ('http://aqiniudl.tangdou.com/202004/2A6CC81A-880F-D7AA-C32D-24DDC93643BF-10.mp4\\t22', 0.9545908407436745), ('http://aqiniudl.tangdou.com/202004/2A6CC81A-880F-D7AA-C32D-24DDC93643BF-10.mp4\\t23', 0.9818346198552483), ('http://aqiniudl.tangdou.com/202004/2A6CC81A-880F-D7AA-C32D-24DDC93643BF-10.mp4\\t24', 1.0000000000000009), ('http://aqiniudl.tangdou.com/202004/2A6CC81A-880F-D7AA-C32D-24DDC93643BF-10.mp4\\t25', 0.9757896514216114), ('http://aqiniudl.tangdou.com/202004/2A6CC81A-880F-D7AA-C32D-24DDC93643BF-10.mp4\\t26', 0.9760264456471854), ('http://aqiniudl.tangdou.com/202004/2A6CC81A-880F-D7AA-C32D-24DDC93643BF-10.mp4\\t27', 0.9701891850576712), ('http://aqiniudl.tangdou.com/202004/2A6CC81A-880F-D7AA-C32D-24DDC93643BF-10.mp4\\t28', 0.968908924500756), ('http://aqiniudl.tangdou.com/202005/D0249C43-5190-C475-3F5D-7EE42388FA73-10.mp4\\t22', 0.9291973085733651), ('http://aqiniudl.tangdou.com/202005/D0249C43-5190-C475-3F5D-7EE42388FA73-10.mp4\\t23', 0.9495744800017343), ('http://aqiniudl.tangdou.com/202005/D0249C43-5190-C475-3F5D-7EE42388FA73-10.mp4\\t24', 0.9434390895444374), ('http://aqiniudl.tangdou.com/202005/D0249C43-5190-C475-3F5D-7EE42388FA73-10.mp4\\t25', 0.9373351899592067), ('http://aqiniudl.tangdou.com/202005/D0249C43-5190-C475-3F5D-7EE42388FA73-10.mp4\\t26', 0.9309343154802342), ('http://aqiniudl.tangdou.com/202005/D0249C43-5190-C475-3F5D-7EE42388FA73-10.mp4\\t27', 0.9368971590351027), ('http://aqiniudl.tangdou.com/202005/D0249C43-5190-C475-3F5D-7EE42388FA73-10.mp4\\t28', 0.9322183793696175)], 'http://aqiniudl.tangdou.com/202005/A7C11FD6-D846-CD4A-81BC-4A27EFB0B45C-10.mp4\\t25': [('http://aqiniudl.tangdou.com/202005/A7C11FD6-D846-CD4A-81BC-4A27EFB0B45C-10.mp4\\t22', 0.9510320172184293), ('http://aqiniudl.tangdou.com/202005/A7C11FD6-D846-CD4A-81BC-4A27EFB0B45C-10.mp4\\t23', 0.9649034425821205), ('http://aqiniudl.tangdou.com/202005/A7C11FD6-D846-CD4A-81BC-4A27EFB0B45C-10.mp4\\t24', 0.9757896514216114), ('http://aqiniudl.tangdou.com/202005/A7C11FD6-D846-CD4A-81BC-4A27EFB0B45C-10.mp4\\t26', 0.9813168481356757), ('http://aqiniudl.tangdou.com/202005/A7C11FD6-D846-CD4A-81BC-4A27EFB0B45C-10.mp4\\t27', 0.9798131589928769), ('http://aqiniudl.tangdou.com/202005/A7C11FD6-D846-CD4A-81BC-4A27EFB0B45C-10.mp4\\t28', 0.9678316161260265), ('http://aqiniudl.tangdou.com/202004/2A6CC81A-880F-D7AA-C32D-24DDC93643BF-10.mp4\\t22', 0.9510320172184293), ('http://aqiniudl.tangdou.com/202004/2A6CC81A-880F-D7AA-C32D-24DDC93643BF-10.mp4\\t23', 0.9649034425821205), ('http://aqiniudl.tangdou.com/202004/2A6CC81A-880F-D7AA-C32D-24DDC93643BF-10.mp4\\t24', 0.9757896514216114), ('http://aqiniudl.tangdou.com/202004/2A6CC81A-880F-D7AA-C32D-24DDC93643BF-10.mp4\\t25', 1.0000000000000007), ('http://aqiniudl.tangdou.com/202004/2A6CC81A-880F-D7AA-C32D-24DDC93643BF-10.mp4\\t26', 0.9813168481356757), ('http://aqiniudl.tangdou.com/202004/2A6CC81A-880F-D7AA-C32D-24DDC93643BF-10.mp4\\t27', 0.9798131589928769), ('http://aqiniudl.tangdou.com/202004/2A6CC81A-880F-D7AA-C32D-24DDC93643BF-10.mp4\\t28', 0.9678316161260265), ('http://aqiniudl.tangdou.com/202005/D0249C43-5190-C475-3F5D-7EE42388FA73-10.mp4\\t22', 0.9272896067376721), ('http://aqiniudl.tangdou.com/202005/D0249C43-5190-C475-3F5D-7EE42388FA73-10.mp4\\t23', 0.9413088348547333), ('http://aqiniudl.tangdou.com/202005/D0249C43-5190-C475-3F5D-7EE42388FA73-10.mp4\\t24', 0.9341697105988589), ('http://aqiniudl.tangdou.com/202005/D0249C43-5190-C475-3F5D-7EE42388FA73-10.mp4\\t25', 0.9489661025120988), ('http://aqiniudl.tangdou.com/202005/D0249C43-5190-C475-3F5D-7EE42388FA73-10.mp4\\t26', 0.9358871617154356), ('http://aqiniudl.tangdou.com/202005/D0249C43-5190-C475-3F5D-7EE42388FA73-10.mp4\\t27', 0.9422774697418275), ('http://aqiniudl.tangdou.com/202005/D0249C43-5190-C475-3F5D-7EE42388FA73-10.mp4\\t28', 0.9374026542847339)], 'http://aqiniudl.tangdou.com/202005/A7C11FD6-D846-CD4A-81BC-4A27EFB0B45C-10.mp4\\t26': [('http://aqiniudl.tangdou.com/202005/A7C11FD6-D846-CD4A-81BC-4A27EFB0B45C-10.mp4\\t22', 0.9487988626846922), ('http://aqiniudl.tangdou.com/202005/A7C11FD6-D846-CD4A-81BC-4A27EFB0B45C-10.mp4\\t23', 0.966910036964164), ('http://aqiniudl.tangdou.com/202005/A7C11FD6-D846-CD4A-81BC-4A27EFB0B45C-10.mp4\\t24', 0.9760264456471854), ('http://aqiniudl.tangdou.com/202005/A7C11FD6-D846-CD4A-81BC-4A27EFB0B45C-10.mp4\\t25', 0.9813168481356757), ('http://aqiniudl.tangdou.com/202005/A7C11FD6-D846-CD4A-81BC-4A27EFB0B45C-10.mp4\\t27', 0.9862494521384304), ('http://aqiniudl.tangdou.com/202005/A7C11FD6-D846-CD4A-81BC-4A27EFB0B45C-10.mp4\\t28', 0.9787822380407533), ('http://aqiniudl.tangdou.com/202004/2A6CC81A-880F-D7AA-C32D-24DDC93643BF-10.mp4\\t22', 0.9487988626846922), ('http://aqiniudl.tangdou.com/202004/2A6CC81A-880F-D7AA-C32D-24DDC93643BF-10.mp4\\t23', 0.966910036964164), ('http://aqiniudl.tangdou.com/202004/2A6CC81A-880F-D7AA-C32D-24DDC93643BF-10.mp4\\t24', 0.9760264456471854), ('http://aqiniudl.tangdou.com/202004/2A6CC81A-880F-D7AA-C32D-24DDC93643BF-10.mp4\\t25', 0.9813168481356757), ('http://aqiniudl.tangdou.com/202004/2A6CC81A-880F-D7AA-C32D-24DDC93643BF-10.mp4\\t26', 1.0000000000000004), ('http://aqiniudl.tangdou.com/202004/2A6CC81A-880F-D7AA-C32D-24DDC93643BF-10.mp4\\t27', 0.9862494521384304), ('http://aqiniudl.tangdou.com/202004/2A6CC81A-880F-D7AA-C32D-24DDC93643BF-10.mp4\\t28', 0.9787822380407533), ('http://aqiniudl.tangdou.com/202005/D0249C43-5190-C475-3F5D-7EE42388FA73-10.mp4\\t22', 0.9296208229415251), ('http://aqiniudl.tangdou.com/202005/D0249C43-5190-C475-3F5D-7EE42388FA73-10.mp4\\t23', 0.9452322099265886), ('http://aqiniudl.tangdou.com/202005/D0249C43-5190-C475-3F5D-7EE42388FA73-10.mp4\\t24', 0.9397803629458887), ('http://aqiniudl.tangdou.com/202005/D0249C43-5190-C475-3F5D-7EE42388FA73-10.mp4\\t25', 0.9453139022289001), ('http://aqiniudl.tangdou.com/202005/D0249C43-5190-C475-3F5D-7EE42388FA73-10.mp4\\t26', 0.9515441646365497), ('http://aqiniudl.tangdou.com/202005/D0249C43-5190-C475-3F5D-7EE42388FA73-10.mp4\\t27', 0.9530722903217728), ('http://aqiniudl.tangdou.com/202005/D0249C43-5190-C475-3F5D-7EE42388FA73-10.mp4\\t28', 0.9496321905336094)], 'http://aqiniudl.tangdou.com/202005/A7C11FD6-D846-CD4A-81BC-4A27EFB0B45C-10.mp4\\t27': [('http://aqiniudl.tangdou.com/202005/A7C11FD6-D846-CD4A-81BC-4A27EFB0B45C-10.mp4\\t22', 0.9453426610746947), ('http://aqiniudl.tangdou.com/202005/A7C11FD6-D846-CD4A-81BC-4A27EFB0B45C-10.mp4\\t23', 0.9616057998149854), ('http://aqiniudl.tangdou.com/202005/A7C11FD6-D846-CD4A-81BC-4A27EFB0B45C-10.mp4\\t24', 0.9701891850576712), ('http://aqiniudl.tangdou.com/202005/A7C11FD6-D846-CD4A-81BC-4A27EFB0B45C-10.mp4\\t25', 0.9798131589928769), ('http://aqiniudl.tangdou.com/202005/A7C11FD6-D846-CD4A-81BC-4A27EFB0B45C-10.mp4\\t26', 0.9862494521384304), ('http://aqiniudl.tangdou.com/202005/A7C11FD6-D846-CD4A-81BC-4A27EFB0B45C-10.mp4\\t28', 0.982430499112139), ('http://aqiniudl.tangdou.com/202004/2A6CC81A-880F-D7AA-C32D-24DDC93643BF-10.mp4\\t22', 0.9453426610746947), ('http://aqiniudl.tangdou.com/202004/2A6CC81A-880F-D7AA-C32D-24DDC93643BF-10.mp4\\t23', 0.9616057998149854), ('http://aqiniudl.tangdou.com/202004/2A6CC81A-880F-D7AA-C32D-24DDC93643BF-10.mp4\\t24', 0.9701891850576712), ('http://aqiniudl.tangdou.com/202004/2A6CC81A-880F-D7AA-C32D-24DDC93643BF-10.mp4\\t25', 0.9798131589928769), ('http://aqiniudl.tangdou.com/202004/2A6CC81A-880F-D7AA-C32D-24DDC93643BF-10.mp4\\t26', 0.9862494521384304), ('http://aqiniudl.tangdou.com/202004/2A6CC81A-880F-D7AA-C32D-24DDC93643BF-10.mp4\\t27', 1.0000000000000004), ('http://aqiniudl.tangdou.com/202004/2A6CC81A-880F-D7AA-C32D-24DDC93643BF-10.mp4\\t28', 0.982430499112139), ('http://aqiniudl.tangdou.com/202005/D0249C43-5190-C475-3F5D-7EE42388FA73-10.mp4\\t22', 0.921649955436247), ('http://aqiniudl.tangdou.com/202005/D0249C43-5190-C475-3F5D-7EE42388FA73-10.mp4\\t23', 0.9360003821012137), ('http://aqiniudl.tangdou.com/202005/D0249C43-5190-C475-3F5D-7EE42388FA73-10.mp4\\t24', 0.9283951159869825), ('http://aqiniudl.tangdou.com/202005/D0249C43-5190-C475-3F5D-7EE42388FA73-10.mp4\\t25', 0.9392071640747245), ('http://aqiniudl.tangdou.com/202005/D0249C43-5190-C475-3F5D-7EE42388FA73-10.mp4\\t26', 0.9395799123508236), ('http://aqiniudl.tangdou.com/202005/D0249C43-5190-C475-3F5D-7EE42388FA73-10.mp4\\t27', 0.9524461287113019), ('http://aqiniudl.tangdou.com/202005/D0249C43-5190-C475-3F5D-7EE42388FA73-10.mp4\\t28', 0.9451253443641043)], 'http://aqiniudl.tangdou.com/202005/A7C11FD6-D846-CD4A-81BC-4A27EFB0B45C-10.mp4\\t28': [('http://aqiniudl.tangdou.com/202005/A7C11FD6-D846-CD4A-81BC-4A27EFB0B45C-10.mp4\\t22', 0.9420269084343285), ('http://aqiniudl.tangdou.com/202005/A7C11FD6-D846-CD4A-81BC-4A27EFB0B45C-10.mp4\\t23', 0.9597457445108959), ('http://aqiniudl.tangdou.com/202005/A7C11FD6-D846-CD4A-81BC-4A27EFB0B45C-10.mp4\\t24', 0.968908924500756), ('http://aqiniudl.tangdou.com/202005/A7C11FD6-D846-CD4A-81BC-4A27EFB0B45C-10.mp4\\t25', 0.9678316161260265), ('http://aqiniudl.tangdou.com/202005/A7C11FD6-D846-CD4A-81BC-4A27EFB0B45C-10.mp4\\t26', 0.9787822380407533), ('http://aqiniudl.tangdou.com/202005/A7C11FD6-D846-CD4A-81BC-4A27EFB0B45C-10.mp4\\t27', 0.982430499112139), ('http://aqiniudl.tangdou.com/202004/2A6CC81A-880F-D7AA-C32D-24DDC93643BF-10.mp4\\t22', 0.9420269084343285), ('http://aqiniudl.tangdou.com/202004/2A6CC81A-880F-D7AA-C32D-24DDC93643BF-10.mp4\\t23', 0.9597457445108959), ('http://aqiniudl.tangdou.com/202004/2A6CC81A-880F-D7AA-C32D-24DDC93643BF-10.mp4\\t24', 0.968908924500756), ('http://aqiniudl.tangdou.com/202004/2A6CC81A-880F-D7AA-C32D-24DDC93643BF-10.mp4\\t25', 0.9678316161260265), ('http://aqiniudl.tangdou.com/202004/2A6CC81A-880F-D7AA-C32D-24DDC93643BF-10.mp4\\t26', 0.9787822380407533), ('http://aqiniudl.tangdou.com/202004/2A6CC81A-880F-D7AA-C32D-24DDC93643BF-10.mp4\\t27', 0.982430499112139), ('http://aqiniudl.tangdou.com/202004/2A6CC81A-880F-D7AA-C32D-24DDC93643BF-10.mp4\\t28', 1.0000000000000004), ('http://aqiniudl.tangdou.com/202005/D0249C43-5190-C475-3F5D-7EE42388FA73-10.mp4\\t22', 0.9234526654131376), ('http://aqiniudl.tangdou.com/202005/D0249C43-5190-C475-3F5D-7EE42388FA73-10.mp4\\t23', 0.9411918862872091), ('http://aqiniudl.tangdou.com/202005/D0249C43-5190-C475-3F5D-7EE42388FA73-10.mp4\\t24', 0.9344789106443988), ('http://aqiniudl.tangdou.com/202005/D0249C43-5190-C475-3F5D-7EE42388FA73-10.mp4\\t25', 0.9382183991985195), ('http://aqiniudl.tangdou.com/202005/D0249C43-5190-C475-3F5D-7EE42388FA73-10.mp4\\t26', 0.9398913499278009), ('http://aqiniudl.tangdou.com/202005/D0249C43-5190-C475-3F5D-7EE42388FA73-10.mp4\\t27', 0.9527468905013836), ('http://aqiniudl.tangdou.com/202005/D0249C43-5190-C475-3F5D-7EE42388FA73-10.mp4\\t28', 0.9569073020467556)], 'http://aqiniudl.tangdou.com/202005/A7C11FD6-D846-CD4A-81BC-4A27EFB0B45C-10.mp4\\t29': [('http://aqiniudl.tangdou.com/202005/A7C11FD6-D846-CD4A-81BC-4A27EFB0B45C-10.mp4\\t30', 0.9602142625588338), ('http://aqiniudl.tangdou.com/202004/2A6CC81A-880F-D7AA-C32D-24DDC93643BF-10.mp4\\t29', 1.0000000000000002), ('http://aqiniudl.tangdou.com/202004/2A6CC81A-880F-D7AA-C32D-24DDC93643BF-10.mp4\\t30', 0.9602142625588338), ('http://aqiniudl.tangdou.com/202005/D0249C43-5190-C475-3F5D-7EE42388FA73-10.mp4\\t29', 0.9749872228647614), ('http://aqiniudl.tangdou.com/202005/D0249C43-5190-C475-3F5D-7EE42388FA73-10.mp4\\t30', 0.9361024691663535)], 'http://aqiniudl.tangdou.com/202005/A7C11FD6-D846-CD4A-81BC-4A27EFB0B45C-10.mp4\\t30': [('http://aqiniudl.tangdou.com/202005/A7C11FD6-D846-CD4A-81BC-4A27EFB0B45C-10.mp4\\t29', 0.9602142625588338), ('http://aqiniudl.tangdou.com/202005/A7C11FD6-D846-CD4A-81BC-4A27EFB0B45C-10.mp4\\t31', 0.9329775016329104), ('http://aqiniudl.tangdou.com/202005/A7C11FD6-D846-CD4A-81BC-4A27EFB0B45C-10.mp4\\t33', 0.9002383409722086), ('http://aqiniudl.tangdou.com/202004/2A6CC81A-880F-D7AA-C32D-24DDC93643BF-10.mp4\\t29', 0.9602142625588338), ('http://aqiniudl.tangdou.com/202004/2A6CC81A-880F-D7AA-C32D-24DDC93643BF-10.mp4\\t30', 0.9999999999999997), ('http://aqiniudl.tangdou.com/202004/2A6CC81A-880F-D7AA-C32D-24DDC93643BF-10.mp4\\t31', 0.9329775016329104), ('http://aqiniudl.tangdou.com/202004/2A6CC81A-880F-D7AA-C32D-24DDC93643BF-10.mp4\\t33', 0.9002383409722086), ('http://aqiniudl.tangdou.com/202005/D0249C43-5190-C475-3F5D-7EE42388FA73-10.mp4\\t29', 0.9418503817589083), ('http://aqiniudl.tangdou.com/202005/D0249C43-5190-C475-3F5D-7EE42388FA73-10.mp4\\t30', 0.9727964551823969), ('http://aqiniudl.tangdou.com/202005/D0249C43-5190-C475-3F5D-7EE42388FA73-10.mp4\\t31', 0.9129105029679255)], 'http://aqiniudl.tangdou.com/202005/A7C11FD6-D846-CD4A-81BC-4A27EFB0B45C-10.mp4\\t31': [('http://aqiniudl.tangdou.com/202005/A7C11FD6-D846-CD4A-81BC-4A27EFB0B45C-10.mp4\\t30', 0.9329775016329104), ('http://aqiniudl.tangdou.com/202005/A7C11FD6-D846-CD4A-81BC-4A27EFB0B45C-10.mp4\\t32', 0.9662461941334398), ('http://aqiniudl.tangdou.com/202005/A7C11FD6-D846-CD4A-81BC-4A27EFB0B45C-10.mp4\\t33', 0.9602653270963092), ('http://aqiniudl.tangdou.com/202005/A7C11FD6-D846-CD4A-81BC-4A27EFB0B45C-10.mp4\\t34', 0.96018658990498), ('http://aqiniudl.tangdou.com/202005/A7C11FD6-D846-CD4A-81BC-4A27EFB0B45C-10.mp4\\t35', 0.9601679493737644), ('http://aqiniudl.tangdou.com/202005/A7C11FD6-D846-CD4A-81BC-4A27EFB0B45C-10.mp4\\t36', 0.9610760196231306), ('http://aqiniudl.tangdou.com/202004/2A6CC81A-880F-D7AA-C32D-24DDC93643BF-10.mp4\\t30', 0.9329775016329104), ('http://aqiniudl.tangdou.com/202004/2A6CC81A-880F-D7AA-C32D-24DDC93643BF-10.mp4\\t31', 1.0000000000000004), ('http://aqiniudl.tangdou.com/202004/2A6CC81A-880F-D7AA-C32D-24DDC93643BF-10.mp4\\t32', 0.9662461941334398), ('http://aqiniudl.tangdou.com/202004/2A6CC81A-880F-D7AA-C32D-24DDC93643BF-10.mp4\\t33', 0.9602653270963092), ('http://aqiniudl.tangdou.com/202004/2A6CC81A-880F-D7AA-C32D-24DDC93643BF-10.mp4\\t34', 0.96018658990498), ('http://aqiniudl.tangdou.com/202004/2A6CC81A-880F-D7AA-C32D-24DDC93643BF-10.mp4\\t35', 0.9601679493737644), ('http://aqiniudl.tangdou.com/202004/2A6CC81A-880F-D7AA-C32D-24DDC93643BF-10.mp4\\t36', 0.9610760196231306), ('http://aqiniudl.tangdou.com/202005/D0249C43-5190-C475-3F5D-7EE42388FA73-10.mp4\\t30', 0.9314439003567179), ('http://aqiniudl.tangdou.com/202005/D0249C43-5190-C475-3F5D-7EE42388FA73-10.mp4\\t31', 0.9718049183382965), ('http://aqiniudl.tangdou.com/202005/D0249C43-5190-C475-3F5D-7EE42388FA73-10.mp4\\t32', 0.9385714067723657), ('http://aqiniudl.tangdou.com/202005/D0249C43-5190-C475-3F5D-7EE42388FA73-10.mp4\\t33', 0.9387688286138868), ('http://aqiniudl.tangdou.com/202005/D0249C43-5190-C475-3F5D-7EE42388FA73-10.mp4\\t34', 0.9391945464479733), ('http://aqiniudl.tangdou.com/202005/D0249C43-5190-C475-3F5D-7EE42388FA73-10.mp4\\t35', 0.9368265497597607), ('http://aqiniudl.tangdou.com/202005/D0249C43-5190-C475-3F5D-7EE42388FA73-10.mp4\\t36', 0.938042874780895)], 'http://aqiniudl.tangdou.com/202005/A7C11FD6-D846-CD4A-81BC-4A27EFB0B45C-10.mp4\\t32': [('http://aqiniudl.tangdou.com/202005/A7C11FD6-D846-CD4A-81BC-4A27EFB0B45C-10.mp4\\t31', 0.9662461941334398), ('http://aqiniudl.tangdou.com/202005/A7C11FD6-D846-CD4A-81BC-4A27EFB0B45C-10.mp4\\t33', 0.9837549904627184), ('http://aqiniudl.tangdou.com/202005/A7C11FD6-D846-CD4A-81BC-4A27EFB0B45C-10.mp4\\t34', 0.9850403789422094), ('http://aqiniudl.tangdou.com/202005/A7C11FD6-D846-CD4A-81BC-4A27EFB0B45C-10.mp4\\t35', 0.975302226950986), ('http://aqiniudl.tangdou.com/202005/A7C11FD6-D846-CD4A-81BC-4A27EFB0B45C-10.mp4\\t36', 0.9720601921271065), ('http://aqiniudl.tangdou.com/202004/2A6CC81A-880F-D7AA-C32D-24DDC93643BF-10.mp4\\t31', 0.9662461941334398), ('http://aqiniudl.tangdou.com/202004/2A6CC81A-880F-D7AA-C32D-24DDC93643BF-10.mp4\\t32', 1.0000000000000002), ('http://aqiniudl.tangdou.com/202004/2A6CC81A-880F-D7AA-C32D-24DDC93643BF-10.mp4\\t33', 0.9837549904627184), ('http://aqiniudl.tangdou.com/202004/2A6CC81A-880F-D7AA-C32D-24DDC93643BF-10.mp4\\t34', 0.9850403789422094), ('http://aqiniudl.tangdou.com/202004/2A6CC81A-880F-D7AA-C32D-24DDC93643BF-10.mp4\\t35', 0.975302226950986), ('http://aqiniudl.tangdou.com/202004/2A6CC81A-880F-D7AA-C32D-24DDC93643BF-10.mp4\\t36', 0.9720601921271065), ('http://aqiniudl.tangdou.com/202005/D0249C43-5190-C475-3F5D-7EE42388FA73-10.mp4\\t30', 0.9079345003475547), ('http://aqiniudl.tangdou.com/202005/D0249C43-5190-C475-3F5D-7EE42388FA73-10.mp4\\t31', 0.9583071856743355), ('http://aqiniudl.tangdou.com/202005/D0249C43-5190-C475-3F5D-7EE42388FA73-10.mp4\\t32', 0.9686259404537378), ('http://aqiniudl.tangdou.com/202005/D0249C43-5190-C475-3F5D-7EE42388FA73-10.mp4\\t33', 0.9660352858307433), ('http://aqiniudl.tangdou.com/202005/D0249C43-5190-C475-3F5D-7EE42388FA73-10.mp4\\t34', 0.9633912545363514), ('http://aqiniudl.tangdou.com/202005/D0249C43-5190-C475-3F5D-7EE42388FA73-10.mp4\\t35', 0.9571694600729512), ('http://aqiniudl.tangdou.com/202005/D0249C43-5190-C475-3F5D-7EE42388FA73-10.mp4\\t36', 0.9570082710573644)], 'http://aqiniudl.tangdou.com/202005/A7C11FD6-D846-CD4A-81BC-4A27EFB0B45C-10.mp4\\t33': [('http://aqiniudl.tangdou.com/202005/A7C11FD6-D846-CD4A-81BC-4A27EFB0B45C-10.mp4\\t30', 0.9002383409722086), ('http://aqiniudl.tangdou.com/202005/A7C11FD6-D846-CD4A-81BC-4A27EFB0B45C-10.mp4\\t31', 0.9602653270963092), ('http://aqiniudl.tangdou.com/202005/A7C11FD6-D846-CD4A-81BC-4A27EFB0B45C-10.mp4\\t32', 0.9837549904627184), ('http://aqiniudl.tangdou.com/202005/A7C11FD6-D846-CD4A-81BC-4A27EFB0B45C-10.mp4\\t34', 0.9811495107350076), ('http://aqiniudl.tangdou.com/202005/A7C11FD6-D846-CD4A-81BC-4A27EFB0B45C-10.mp4\\t35', 0.977244443843203), ('http://aqiniudl.tangdou.com/202005/A7C11FD6-D846-CD4A-81BC-4A27EFB0B45C-10.mp4\\t36', 0.973117515305824), ('http://aqiniudl.tangdou.com/202004/2A6CC81A-880F-D7AA-C32D-24DDC93643BF-10.mp4\\t30', 0.9002383409722086), ('http://aqiniudl.tangdou.com/202004/2A6CC81A-880F-D7AA-C32D-24DDC93643BF-10.mp4\\t31', 0.9602653270963092), ('http://aqiniudl.tangdou.com/202004/2A6CC81A-880F-D7AA-C32D-24DDC93643BF-10.mp4\\t32', 0.9837549904627184), ('http://aqiniudl.tangdou.com/202004/2A6CC81A-880F-D7AA-C32D-24DDC93643BF-10.mp4\\t33', 1.0000000000000004), ('http://aqiniudl.tangdou.com/202004/2A6CC81A-880F-D7AA-C32D-24DDC93643BF-10.mp4\\t34', 0.9811495107350076), ('http://aqiniudl.tangdou.com/202004/2A6CC81A-880F-D7AA-C32D-24DDC93643BF-10.mp4\\t35', 0.977244443843203), ('http://aqiniudl.tangdou.com/202004/2A6CC81A-880F-D7AA-C32D-24DDC93643BF-10.mp4\\t36', 0.973117515305824), ('http://aqiniudl.tangdou.com/202005/D0249C43-5190-C475-3F5D-7EE42388FA73-10.mp4\\t30', 0.9083020645080476), ('http://aqiniudl.tangdou.com/202005/D0249C43-5190-C475-3F5D-7EE42388FA73-10.mp4\\t31', 0.9498034721821738), ('http://aqiniudl.tangdou.com/202005/D0249C43-5190-C475-3F5D-7EE42388FA73-10.mp4\\t32', 0.9539787386005629), ('http://aqiniudl.tangdou.com/202005/D0249C43-5190-C475-3F5D-7EE42388FA73-10.mp4\\t33', 0.9661357152692859), ('http://aqiniudl.tangdou.com/202005/D0249C43-5190-C475-3F5D-7EE42388FA73-10.mp4\\t34', 0.9563006068196144), ('http://aqiniudl.tangdou.com/202005/D0249C43-5190-C475-3F5D-7EE42388FA73-10.mp4\\t35', 0.9524802100124091), ('http://aqiniudl.tangdou.com/202005/D0249C43-5190-C475-3F5D-7EE42388FA73-10.mp4\\t36', 0.9520292446367055)], 'http://aqiniudl.tangdou.com/202005/A7C11FD6-D846-CD4A-81BC-4A27EFB0B45C-10.mp4\\t34': [('http://aqiniudl.tangdou.com/202005/A7C11FD6-D846-CD4A-81BC-4A27EFB0B45C-10.mp4\\t31', 0.96018658990498), ('http://aqiniudl.tangdou.com/202005/A7C11FD6-D846-CD4A-81BC-4A27EFB0B45C-10.mp4\\t32', 0.9850403789422094), ('http://aqiniudl.tangdou.com/202005/A7C11FD6-D846-CD4A-81BC-4A27EFB0B45C-10.mp4\\t33', 0.9811495107350076), ('http://aqiniudl.tangdou.com/202005/A7C11FD6-D846-CD4A-81BC-4A27EFB0B45C-10.mp4\\t35', 0.9844114308710198), ('http://aqiniudl.tangdou.com/202005/A7C11FD6-D846-CD4A-81BC-4A27EFB0B45C-10.mp4\\t36', 0.9753468523378317), ('http://aqiniudl.tangdou.com/202004/2A6CC81A-880F-D7AA-C32D-24DDC93643BF-10.mp4\\t31', 0.96018658990498), ('http://aqiniudl.tangdou.com/202004/2A6CC81A-880F-D7AA-C32D-24DDC93643BF-10.mp4\\t32', 0.9850403789422094), ('http://aqiniudl.tangdou.com/202004/2A6CC81A-880F-D7AA-C32D-24DDC93643BF-10.mp4\\t33', 0.9811495107350076), ('http://aqiniudl.tangdou.com/202004/2A6CC81A-880F-D7AA-C32D-24DDC93643BF-10.mp4\\t34', 1.0000000000000004), ('http://aqiniudl.tangdou.com/202004/2A6CC81A-880F-D7AA-C32D-24DDC93643BF-10.mp4\\t35', 0.9844114308710198), ('http://aqiniudl.tangdou.com/202004/2A6CC81A-880F-D7AA-C32D-24DDC93643BF-10.mp4\\t36', 0.9753468523378317), ('http://aqiniudl.tangdou.com/202005/D0249C43-5190-C475-3F5D-7EE42388FA73-10.mp4\\t30', 0.9046881958011269), ('http://aqiniudl.tangdou.com/202005/D0249C43-5190-C475-3F5D-7EE42388FA73-10.mp4\\t31', 0.9551670741574686), ('http://aqiniudl.tangdou.com/202005/D0249C43-5190-C475-3F5D-7EE42388FA73-10.mp4\\t32', 0.9645524740167776), ('http://aqiniudl.tangdou.com/202005/D0249C43-5190-C475-3F5D-7EE42388FA73-10.mp4\\t33', 0.9660379136704926), ('http://aqiniudl.tangdou.com/202005/D0249C43-5190-C475-3F5D-7EE42388FA73-10.mp4\\t34', 0.9697019009972268), ('http://aqiniudl.tangdou.com/202005/D0249C43-5190-C475-3F5D-7EE42388FA73-10.mp4\\t35', 0.9612475627035132), ('http://aqiniudl.tangdou.com/202005/D0249C43-5190-C475-3F5D-7EE42388FA73-10.mp4\\t36', 0.9602304292367366)], 'http://aqiniudl.tangdou.com/202005/A7C11FD6-D846-CD4A-81BC-4A27EFB0B45C-10.mp4\\t35': [('http://aqiniudl.tangdou.com/202005/A7C11FD6-D846-CD4A-81BC-4A27EFB0B45C-10.mp4\\t31', 0.9601679493737644), ('http://aqiniudl.tangdou.com/202005/A7C11FD6-D846-CD4A-81BC-4A27EFB0B45C-10.mp4\\t32', 0.975302226950986), ('http://aqiniudl.tangdou.com/202005/A7C11FD6-D846-CD4A-81BC-4A27EFB0B45C-10.mp4\\t33', 0.977244443843203), ('http://aqiniudl.tangdou.com/202005/A7C11FD6-D846-CD4A-81BC-4A27EFB0B45C-10.mp4\\t34', 0.9844114308710198), ('http://aqiniudl.tangdou.com/202005/A7C11FD6-D846-CD4A-81BC-4A27EFB0B45C-10.mp4\\t36', 0.9860145261877805), ('http://aqiniudl.tangdou.com/202004/2A6CC81A-880F-D7AA-C32D-24DDC93643BF-10.mp4\\t31', 0.9601679493737644), ('http://aqiniudl.tangdou.com/202004/2A6CC81A-880F-D7AA-C32D-24DDC93643BF-10.mp4\\t32', 0.975302226950986), ('http://aqiniudl.tangdou.com/202004/2A6CC81A-880F-D7AA-C32D-24DDC93643BF-10.mp4\\t33', 0.977244443843203), ('http://aqiniudl.tangdou.com/202004/2A6CC81A-880F-D7AA-C32D-24DDC93643BF-10.mp4\\t34', 0.9844114308710198), ('http://aqiniudl.tangdou.com/202004/2A6CC81A-880F-D7AA-C32D-24DDC93643BF-10.mp4\\t35', 1.0000000000000016), ('http://aqiniudl.tangdou.com/202004/2A6CC81A-880F-D7AA-C32D-24DDC93643BF-10.mp4\\t36', 0.9860145261877805), ('http://aqiniudl.tangdou.com/202005/D0249C43-5190-C475-3F5D-7EE42388FA73-10.mp4\\t30', 0.9062776627607819), ('http://aqiniudl.tangdou.com/202005/D0249C43-5190-C475-3F5D-7EE42388FA73-10.mp4\\t31', 0.9547850670800789), ('http://aqiniudl.tangdou.com/202005/D0249C43-5190-C475-3F5D-7EE42388FA73-10.mp4\\t32', 0.9529711788078387), ('http://aqiniudl.tangdou.com/202005/D0249C43-5190-C475-3F5D-7EE42388FA73-10.mp4\\t33', 0.958930654419969), ('http://aqiniudl.tangdou.com/202005/D0249C43-5190-C475-3F5D-7EE42388FA73-10.mp4\\t34', 0.9626388749816811), ('http://aqiniudl.tangdou.com/202005/D0249C43-5190-C475-3F5D-7EE42388FA73-10.mp4\\t35', 0.9678330355473781), ('http://aqiniudl.tangdou.com/202005/D0249C43-5190-C475-3F5D-7EE42388FA73-10.mp4\\t36', 0.9654679871617633)], 'http://aqiniudl.tangdou.com/202005/A7C11FD6-D846-CD4A-81BC-4A27EFB0B45C-10.mp4\\t36': [('http://aqiniudl.tangdou.com/202005/A7C11FD6-D846-CD4A-81BC-4A27EFB0B45C-10.mp4\\t31', 0.9610760196231306), ('http://aqiniudl.tangdou.com/202005/A7C11FD6-D846-CD4A-81BC-4A27EFB0B45C-10.mp4\\t32', 0.9720601921271065), ('http://aqiniudl.tangdou.com/202005/A7C11FD6-D846-CD4A-81BC-4A27EFB0B45C-10.mp4\\t33', 0.973117515305824), ('http://aqiniudl.tangdou.com/202005/A7C11FD6-D846-CD4A-81BC-4A27EFB0B45C-10.mp4\\t34', 0.9753468523378317), ('http://aqiniudl.tangdou.com/202005/A7C11FD6-D846-CD4A-81BC-4A27EFB0B45C-10.mp4\\t35', 0.9860145261877805), ('http://aqiniudl.tangdou.com/202004/2A6CC81A-880F-D7AA-C32D-24DDC93643BF-10.mp4\\t31', 0.9610760196231306), ('http://aqiniudl.tangdou.com/202004/2A6CC81A-880F-D7AA-C32D-24DDC93643BF-10.mp4\\t32', 0.9720601921271065), ('http://aqiniudl.tangdou.com/202004/2A6CC81A-880F-D7AA-C32D-24DDC93643BF-10.mp4\\t33', 0.973117515305824), ('http://aqiniudl.tangdou.com/202004/2A6CC81A-880F-D7AA-C32D-24DDC93643BF-10.mp4\\t34', 0.9753468523378317), ('http://aqiniudl.tangdou.com/202004/2A6CC81A-880F-D7AA-C32D-24DDC93643BF-10.mp4\\t35', 0.9860145261877805), ('http://aqiniudl.tangdou.com/202004/2A6CC81A-880F-D7AA-C32D-24DDC93643BF-10.mp4\\t36', 0.9999999999999996), ('http://aqiniudl.tangdou.com/202005/D0249C43-5190-C475-3F5D-7EE42388FA73-10.mp4\\t30', 0.9089780621125239), ('http://aqiniudl.tangdou.com/202005/D0249C43-5190-C475-3F5D-7EE42388FA73-10.mp4\\t31', 0.9548422445650534), ('http://aqiniudl.tangdou.com/202005/D0249C43-5190-C475-3F5D-7EE42388FA73-10.mp4\\t32', 0.9483997729129185), ('http://aqiniudl.tangdou.com/202005/D0249C43-5190-C475-3F5D-7EE42388FA73-10.mp4\\t33', 0.9520979134980109), ('http://aqiniudl.tangdou.com/202005/D0249C43-5190-C475-3F5D-7EE42388FA73-10.mp4\\t34', 0.9539353277901782), ('http://aqiniudl.tangdou.com/202005/D0249C43-5190-C475-3F5D-7EE42388FA73-10.mp4\\t35', 0.9618731414101533), ('http://aqiniudl.tangdou.com/202005/D0249C43-5190-C475-3F5D-7EE42388FA73-10.mp4\\t36', 0.9687344950837457)], 'http://aqiniudl.tangdou.com/202005/A7C11FD6-D846-CD4A-81BC-4A27EFB0B45C-10.mp4\\t37': [('http://aqiniudl.tangdou.com/202005/A7C11FD6-D846-CD4A-81BC-4A27EFB0B45C-10.mp4\\t38', 0.9726189135005472), ('http://aqiniudl.tangdou.com/202005/A7C11FD6-D846-CD4A-81BC-4A27EFB0B45C-10.mp4\\t39', 0.9556185567745769), ('http://aqiniudl.tangdou.com/202004/2A6CC81A-880F-D7AA-C32D-24DDC93643BF-10.mp4\\t37', 1.0000000000000004), ('http://aqiniudl.tangdou.com/202004/2A6CC81A-880F-D7AA-C32D-24DDC93643BF-10.mp4\\t38', 0.9726189135005472), ('http://aqiniudl.tangdou.com/202004/2A6CC81A-880F-D7AA-C32D-24DDC93643BF-10.mp4\\t39', 0.9556185567745769), ('http://aqiniudl.tangdou.com/202005/D0249C43-5190-C475-3F5D-7EE42388FA73-10.mp4\\t37', 0.9678946256910758), ('http://aqiniudl.tangdou.com/202005/D0249C43-5190-C475-3F5D-7EE42388FA73-10.mp4\\t38', 0.9492862901829382), ('http://aqiniudl.tangdou.com/202005/D0249C43-5190-C475-3F5D-7EE42388FA73-10.mp4\\t39', 0.9285383458413126)], 'http://aqiniudl.tangdou.com/202005/A7C11FD6-D846-CD4A-81BC-4A27EFB0B45C-10.mp4\\t38': [('http://aqiniudl.tangdou.com/202005/A7C11FD6-D846-CD4A-81BC-4A27EFB0B45C-10.mp4\\t37', 0.9726189135005472), ('http://aqiniudl.tangdou.com/202005/A7C11FD6-D846-CD4A-81BC-4A27EFB0B45C-10.mp4\\t39', 0.9753692658584407), ('http://aqiniudl.tangdou.com/202004/2A6CC81A-880F-D7AA-C32D-24DDC93643BF-10.mp4\\t37', 0.9726189135005472), ('http://aqiniudl.tangdou.com/202004/2A6CC81A-880F-D7AA-C32D-24DDC93643BF-10.mp4\\t38', 1.0000000000000004), ('http://aqiniudl.tangdou.com/202004/2A6CC81A-880F-D7AA-C32D-24DDC93643BF-10.mp4\\t39', 0.9753692658584407), ('http://aqiniudl.tangdou.com/202005/D0249C43-5190-C475-3F5D-7EE42388FA73-10.mp4\\t37', 0.9575510242255703), ('http://aqiniudl.tangdou.com/202005/D0249C43-5190-C475-3F5D-7EE42388FA73-10.mp4\\t38', 0.9703131167279909), ('http://aqiniudl.tangdou.com/202005/D0249C43-5190-C475-3F5D-7EE42388FA73-10.mp4\\t39', 0.9482410342776318)], 'http://aqiniudl.tangdou.com/202005/A7C11FD6-D846-CD4A-81BC-4A27EFB0B45C-10.mp4\\t39': [('http://aqiniudl.tangdou.com/202005/A7C11FD6-D846-CD4A-81BC-4A27EFB0B45C-10.mp4\\t37', 0.9556185567745769), ('http://aqiniudl.tangdou.com/202005/A7C11FD6-D846-CD4A-81BC-4A27EFB0B45C-10.mp4\\t38', 0.9753692658584407), ('http://aqiniudl.tangdou.com/202004/2A6CC81A-880F-D7AA-C32D-24DDC93643BF-10.mp4\\t37', 0.9556185567745769), ('http://aqiniudl.tangdou.com/202004/2A6CC81A-880F-D7AA-C32D-24DDC93643BF-10.mp4\\t38', 0.9753692658584407), ('http://aqiniudl.tangdou.com/202004/2A6CC81A-880F-D7AA-C32D-24DDC93643BF-10.mp4\\t39', 1.0000000000000002), ('http://aqiniudl.tangdou.com/202005/D0249C43-5190-C475-3F5D-7EE42388FA73-10.mp4\\t37', 0.9511900537357373), ('http://aqiniudl.tangdou.com/202005/D0249C43-5190-C475-3F5D-7EE42388FA73-10.mp4\\t38', 0.9629753703589079), ('http://aqiniudl.tangdou.com/202005/D0249C43-5190-C475-3F5D-7EE42388FA73-10.mp4\\t39', 0.9721080561167931)], 'http://aqiniudl.tangdou.com/202004/2A6CC81A-880F-D7AA-C32D-24DDC93643BF-10.mp4\\t20': [('http://aqiniudl.tangdou.com/202005/A7C11FD6-D846-CD4A-81BC-4A27EFB0B45C-10.mp4\\t20', 1.0000000000000009), ('http://aqiniudl.tangdou.com/202005/A7C11FD6-D846-CD4A-81BC-4A27EFB0B45C-10.mp4\\t21', 0.9765388422942951), ('http://aqiniudl.tangdou.com/202004/2A6CC81A-880F-D7AA-C32D-24DDC93643BF-10.mp4\\t21', 0.9765388422942951), ('http://aqiniudl.tangdou.com/202005/D0249C43-5190-C475-3F5D-7EE42388FA73-10.mp4\\t20', 0.9664486817137026), ('http://aqiniudl.tangdou.com/202005/D0249C43-5190-C475-3F5D-7EE42388FA73-10.mp4\\t21', 0.9588598557276725)], 'http://aqiniudl.tangdou.com/202004/2A6CC81A-880F-D7AA-C32D-24DDC93643BF-10.mp4\\t21': [('http://aqiniudl.tangdou.com/202005/A7C11FD6-D846-CD4A-81BC-4A27EFB0B45C-10.mp4\\t20', 0.9765388422942951), ('http://aqiniudl.tangdou.com/202005/A7C11FD6-D846-CD4A-81BC-4A27EFB0B45C-10.mp4\\t21', 1.0), ('http://aqiniudl.tangdou.com/202004/2A6CC81A-880F-D7AA-C32D-24DDC93643BF-10.mp4\\t20', 0.9765388422942951), ('http://aqiniudl.tangdou.com/202005/D0249C43-5190-C475-3F5D-7EE42388FA73-10.mp4\\t20', 0.9436723184425178), ('http://aqiniudl.tangdou.com/202005/D0249C43-5190-C475-3F5D-7EE42388FA73-10.mp4\\t21', 0.9646406199659256)], 'http://aqiniudl.tangdou.com/202004/2A6CC81A-880F-D7AA-C32D-24DDC93643BF-10.mp4\\t22': [('http://aqiniudl.tangdou.com/202005/A7C11FD6-D846-CD4A-81BC-4A27EFB0B45C-10.mp4\\t22', 1.0), ('http://aqiniudl.tangdou.com/202005/A7C11FD6-D846-CD4A-81BC-4A27EFB0B45C-10.mp4\\t23', 0.967515245483085), ('http://aqiniudl.tangdou.com/202005/A7C11FD6-D846-CD4A-81BC-4A27EFB0B45C-10.mp4\\t24', 0.9545908407436745), ('http://aqiniudl.tangdou.com/202005/A7C11FD6-D846-CD4A-81BC-4A27EFB0B45C-10.mp4\\t25', 0.9510320172184293), ('http://aqiniudl.tangdou.com/202005/A7C11FD6-D846-CD4A-81BC-4A27EFB0B45C-10.mp4\\t26', 0.9487988626846922), ('http://aqiniudl.tangdou.com/202005/A7C11FD6-D846-CD4A-81BC-4A27EFB0B45C-10.mp4\\t27', 0.9453426610746947), ('http://aqiniudl.tangdou.com/202005/A7C11FD6-D846-CD4A-81BC-4A27EFB0B45C-10.mp4\\t28', 0.9420269084343285), ('http://aqiniudl.tangdou.com/202004/2A6CC81A-880F-D7AA-C32D-24DDC93643BF-10.mp4\\t23', 0.967515245483085), ('http://aqiniudl.tangdou.com/202004/2A6CC81A-880F-D7AA-C32D-24DDC93643BF-10.mp4\\t24', 0.9545908407436745), ('http://aqiniudl.tangdou.com/202004/2A6CC81A-880F-D7AA-C32D-24DDC93643BF-10.mp4\\t25', 0.9510320172184293), ('http://aqiniudl.tangdou.com/202004/2A6CC81A-880F-D7AA-C32D-24DDC93643BF-10.mp4\\t26', 0.9487988626846922), ('http://aqiniudl.tangdou.com/202004/2A6CC81A-880F-D7AA-C32D-24DDC93643BF-10.mp4\\t27', 0.9453426610746947), ('http://aqiniudl.tangdou.com/202004/2A6CC81A-880F-D7AA-C32D-24DDC93643BF-10.mp4\\t28', 0.9420269084343285), ('http://aqiniudl.tangdou.com/202005/D0249C43-5190-C475-3F5D-7EE42388FA73-10.mp4\\t22', 0.9491519198590459), ('http://aqiniudl.tangdou.com/202005/D0249C43-5190-C475-3F5D-7EE42388FA73-10.mp4\\t23', 0.9351239718210458), ('http://aqiniudl.tangdou.com/202005/D0249C43-5190-C475-3F5D-7EE42388FA73-10.mp4\\t24', 0.9084738077169975), ('http://aqiniudl.tangdou.com/202005/D0249C43-5190-C475-3F5D-7EE42388FA73-10.mp4\\t25', 0.9171167196672914), ('http://aqiniudl.tangdou.com/202005/D0249C43-5190-C475-3F5D-7EE42388FA73-10.mp4\\t26', 0.9089798950449235), ('http://aqiniudl.tangdou.com/202005/D0249C43-5190-C475-3F5D-7EE42388FA73-10.mp4\\t27', 0.9106606043748955), ('http://aqiniudl.tangdou.com/202005/D0249C43-5190-C475-3F5D-7EE42388FA73-10.mp4\\t28', 0.9119457062701004)], 'http://aqiniudl.tangdou.com/202004/2A6CC81A-880F-D7AA-C32D-24DDC93643BF-10.mp4\\t23': [('http://aqiniudl.tangdou.com/202005/A7C11FD6-D846-CD4A-81BC-4A27EFB0B45C-10.mp4\\t22', 0.967515245483085), ('http://aqiniudl.tangdou.com/202005/A7C11FD6-D846-CD4A-81BC-4A27EFB0B45C-10.mp4\\t23', 1.000000000000001), ('http://aqiniudl.tangdou.com/202005/A7C11FD6-D846-CD4A-81BC-4A27EFB0B45C-10.mp4\\t24', 0.9818346198552483), ('http://aqiniudl.tangdou.com/202005/A7C11FD6-D846-CD4A-81BC-4A27EFB0B45C-10.mp4\\t25', 0.9649034425821205), ('http://aqiniudl.tangdou.com/202005/A7C11FD6-D846-CD4A-81BC-4A27EFB0B45C-10.mp4\\t26', 0.966910036964164), ('http://aqiniudl.tangdou.com/202005/A7C11FD6-D846-CD4A-81BC-4A27EFB0B45C-10.mp4\\t27', 0.9616057998149854), ('http://aqiniudl.tangdou.com/202005/A7C11FD6-D846-CD4A-81BC-4A27EFB0B45C-10.mp4\\t28', 0.9597457445108959), ('http://aqiniudl.tangdou.com/202004/2A6CC81A-880F-D7AA-C32D-24DDC93643BF-10.mp4\\t22', 0.967515245483085), ('http://aqiniudl.tangdou.com/202004/2A6CC81A-880F-D7AA-C32D-24DDC93643BF-10.mp4\\t24', 0.9818346198552483), ('http://aqiniudl.tangdou.com/202004/2A6CC81A-880F-D7AA-C32D-24DDC93643BF-10.mp4\\t25', 0.9649034425821205), ('http://aqiniudl.tangdou.com/202004/2A6CC81A-880F-D7AA-C32D-24DDC93643BF-10.mp4\\t26', 0.966910036964164), ('http://aqiniudl.tangdou.com/202004/2A6CC81A-880F-D7AA-C32D-24DDC93643BF-10.mp4\\t27', 0.9616057998149854), ('http://aqiniudl.tangdou.com/202004/2A6CC81A-880F-D7AA-C32D-24DDC93643BF-10.mp4\\t28', 0.9597457445108959), ('http://aqiniudl.tangdou.com/202005/D0249C43-5190-C475-3F5D-7EE42388FA73-10.mp4\\t22', 0.9400363642026343), ('http://aqiniudl.tangdou.com/202005/D0249C43-5190-C475-3F5D-7EE42388FA73-10.mp4\\t23', 0.9560708161785081), ('http://aqiniudl.tangdou.com/202005/D0249C43-5190-C475-3F5D-7EE42388FA73-10.mp4\\t24', 0.9305019784237264), ('http://aqiniudl.tangdou.com/202005/D0249C43-5190-C475-3F5D-7EE42388FA73-10.mp4\\t25', 0.92839501489237), ('http://aqiniudl.tangdou.com/202005/D0249C43-5190-C475-3F5D-7EE42388FA73-10.mp4\\t26', 0.9257817614256327), ('http://aqiniudl.tangdou.com/202005/D0249C43-5190-C475-3F5D-7EE42388FA73-10.mp4\\t27', 0.9301000890342855), ('http://aqiniudl.tangdou.com/202005/D0249C43-5190-C475-3F5D-7EE42388FA73-10.mp4\\t28', 0.9268973376026303)], 'http://aqiniudl.tangdou.com/202004/2A6CC81A-880F-D7AA-C32D-24DDC93643BF-10.mp4\\t24': [('http://aqiniudl.tangdou.com/202005/A7C11FD6-D846-CD4A-81BC-4A27EFB0B45C-10.mp4\\t22', 0.9545908407436745), ('http://aqiniudl.tangdou.com/202005/A7C11FD6-D846-CD4A-81BC-4A27EFB0B45C-10.mp4\\t23', 0.9818346198552483), ('http://aqiniudl.tangdou.com/202005/A7C11FD6-D846-CD4A-81BC-4A27EFB0B45C-10.mp4\\t24', 1.0000000000000009), ('http://aqiniudl.tangdou.com/202005/A7C11FD6-D846-CD4A-81BC-4A27EFB0B45C-10.mp4\\t25', 0.9757896514216114), ('http://aqiniudl.tangdou.com/202005/A7C11FD6-D846-CD4A-81BC-4A27EFB0B45C-10.mp4\\t26', 0.9760264456471854), ('http://aqiniudl.tangdou.com/202005/A7C11FD6-D846-CD4A-81BC-4A27EFB0B45C-10.mp4\\t27', 0.9701891850576712), ('http://aqiniudl.tangdou.com/202005/A7C11FD6-D846-CD4A-81BC-4A27EFB0B45C-10.mp4\\t28', 0.968908924500756), ('http://aqiniudl.tangdou.com/202004/2A6CC81A-880F-D7AA-C32D-24DDC93643BF-10.mp4\\t22', 0.9545908407436745), ('http://aqiniudl.tangdou.com/202004/2A6CC81A-880F-D7AA-C32D-24DDC93643BF-10.mp4\\t23', 0.9818346198552483), ('http://aqiniudl.tangdou.com/202004/2A6CC81A-880F-D7AA-C32D-24DDC93643BF-10.mp4\\t25', 0.9757896514216114), ('http://aqiniudl.tangdou.com/202004/2A6CC81A-880F-D7AA-C32D-24DDC93643BF-10.mp4\\t26', 0.9760264456471854), ('http://aqiniudl.tangdou.com/202004/2A6CC81A-880F-D7AA-C32D-24DDC93643BF-10.mp4\\t27', 0.9701891850576712), ('http://aqiniudl.tangdou.com/202004/2A6CC81A-880F-D7AA-C32D-24DDC93643BF-10.mp4\\t28', 0.968908924500756), ('http://aqiniudl.tangdou.com/202005/D0249C43-5190-C475-3F5D-7EE42388FA73-10.mp4\\t22', 0.9291973085733651), ('http://aqiniudl.tangdou.com/202005/D0249C43-5190-C475-3F5D-7EE42388FA73-10.mp4\\t23', 0.9495744800017343), ('http://aqiniudl.tangdou.com/202005/D0249C43-5190-C475-3F5D-7EE42388FA73-10.mp4\\t24', 0.9434390895444374), ('http://aqiniudl.tangdou.com/202005/D0249C43-5190-C475-3F5D-7EE42388FA73-10.mp4\\t25', 0.9373351899592067), ('http://aqiniudl.tangdou.com/202005/D0249C43-5190-C475-3F5D-7EE42388FA73-10.mp4\\t26', 0.9309343154802342), ('http://aqiniudl.tangdou.com/202005/D0249C43-5190-C475-3F5D-7EE42388FA73-10.mp4\\t27', 0.9368971590351027), ('http://aqiniudl.tangdou.com/202005/D0249C43-5190-C475-3F5D-7EE42388FA73-10.mp4\\t28', 0.9322183793696175)], 'http://aqiniudl.tangdou.com/202004/2A6CC81A-880F-D7AA-C32D-24DDC93643BF-10.mp4\\t25': [('http://aqiniudl.tangdou.com/202005/A7C11FD6-D846-CD4A-81BC-4A27EFB0B45C-10.mp4\\t22', 0.9510320172184293), ('http://aqiniudl.tangdou.com/202005/A7C11FD6-D846-CD4A-81BC-4A27EFB0B45C-10.mp4\\t23', 0.9649034425821205), ('http://aqiniudl.tangdou.com/202005/A7C11FD6-D846-CD4A-81BC-4A27EFB0B45C-10.mp4\\t24', 0.9757896514216114), ('http://aqiniudl.tangdou.com/202005/A7C11FD6-D846-CD4A-81BC-4A27EFB0B45C-10.mp4\\t25', 1.0000000000000007), ('http://aqiniudl.tangdou.com/202005/A7C11FD6-D846-CD4A-81BC-4A27EFB0B45C-10.mp4\\t26', 0.9813168481356757), ('http://aqiniudl.tangdou.com/202005/A7C11FD6-D846-CD4A-81BC-4A27EFB0B45C-10.mp4\\t27', 0.9798131589928769), ('http://aqiniudl.tangdou.com/202005/A7C11FD6-D846-CD4A-81BC-4A27EFB0B45C-10.mp4\\t28', 0.9678316161260265), ('http://aqiniudl.tangdou.com/202004/2A6CC81A-880F-D7AA-C32D-24DDC93643BF-10.mp4\\t22', 0.9510320172184293), ('http://aqiniudl.tangdou.com/202004/2A6CC81A-880F-D7AA-C32D-24DDC93643BF-10.mp4\\t23', 0.9649034425821205), ('http://aqiniudl.tangdou.com/202004/2A6CC81A-880F-D7AA-C32D-24DDC93643BF-10.mp4\\t24', 0.9757896514216114), ('http://aqiniudl.tangdou.com/202004/2A6CC81A-880F-D7AA-C32D-24DDC93643BF-10.mp4\\t26', 0.9813168481356757), ('http://aqiniudl.tangdou.com/202004/2A6CC81A-880F-D7AA-C32D-24DDC93643BF-10.mp4\\t27', 0.9798131589928769), ('http://aqiniudl.tangdou.com/202004/2A6CC81A-880F-D7AA-C32D-24DDC93643BF-10.mp4\\t28', 0.9678316161260265), ('http://aqiniudl.tangdou.com/202005/D0249C43-5190-C475-3F5D-7EE42388FA73-10.mp4\\t22', 0.9272896067376721), ('http://aqiniudl.tangdou.com/202005/D0249C43-5190-C475-3F5D-7EE42388FA73-10.mp4\\t23', 0.9413088348547333), ('http://aqiniudl.tangdou.com/202005/D0249C43-5190-C475-3F5D-7EE42388FA73-10.mp4\\t24', 0.9341697105988589), ('http://aqiniudl.tangdou.com/202005/D0249C43-5190-C475-3F5D-7EE42388FA73-10.mp4\\t25', 0.9489661025120988), ('http://aqiniudl.tangdou.com/202005/D0249C43-5190-C475-3F5D-7EE42388FA73-10.mp4\\t26', 0.9358871617154356), ('http://aqiniudl.tangdou.com/202005/D0249C43-5190-C475-3F5D-7EE42388FA73-10.mp4\\t27', 0.9422774697418275), ('http://aqiniudl.tangdou.com/202005/D0249C43-5190-C475-3F5D-7EE42388FA73-10.mp4\\t28', 0.9374026542847339)], 'http://aqiniudl.tangdou.com/202004/2A6CC81A-880F-D7AA-C32D-24DDC93643BF-10.mp4\\t26': [('http://aqiniudl.tangdou.com/202005/A7C11FD6-D846-CD4A-81BC-4A27EFB0B45C-10.mp4\\t22', 0.9487988626846922), ('http://aqiniudl.tangdou.com/202005/A7C11FD6-D846-CD4A-81BC-4A27EFB0B45C-10.mp4\\t23', 0.966910036964164), ('http://aqiniudl.tangdou.com/202005/A7C11FD6-D846-CD4A-81BC-4A27EFB0B45C-10.mp4\\t24', 0.9760264456471854), ('http://aqiniudl.tangdou.com/202005/A7C11FD6-D846-CD4A-81BC-4A27EFB0B45C-10.mp4\\t25', 0.9813168481356757), ('http://aqiniudl.tangdou.com/202005/A7C11FD6-D846-CD4A-81BC-4A27EFB0B45C-10.mp4\\t26', 1.0000000000000004), ('http://aqiniudl.tangdou.com/202005/A7C11FD6-D846-CD4A-81BC-4A27EFB0B45C-10.mp4\\t27', 0.9862494521384304), ('http://aqiniudl.tangdou.com/202005/A7C11FD6-D846-CD4A-81BC-4A27EFB0B45C-10.mp4\\t28', 0.9787822380407533), ('http://aqiniudl.tangdou.com/202004/2A6CC81A-880F-D7AA-C32D-24DDC93643BF-10.mp4\\t22', 0.9487988626846922), ('http://aqiniudl.tangdou.com/202004/2A6CC81A-880F-D7AA-C32D-24DDC93643BF-10.mp4\\t23', 0.966910036964164), ('http://aqiniudl.tangdou.com/202004/2A6CC81A-880F-D7AA-C32D-24DDC93643BF-10.mp4\\t24', 0.9760264456471854), ('http://aqiniudl.tangdou.com/202004/2A6CC81A-880F-D7AA-C32D-24DDC93643BF-10.mp4\\t25', 0.9813168481356757), ('http://aqiniudl.tangdou.com/202004/2A6CC81A-880F-D7AA-C32D-24DDC93643BF-10.mp4\\t27', 0.9862494521384304), ('http://aqiniudl.tangdou.com/202004/2A6CC81A-880F-D7AA-C32D-24DDC93643BF-10.mp4\\t28', 0.9787822380407533), ('http://aqiniudl.tangdou.com/202005/D0249C43-5190-C475-3F5D-7EE42388FA73-10.mp4\\t22', 0.9296208229415251), ('http://aqiniudl.tangdou.com/202005/D0249C43-5190-C475-3F5D-7EE42388FA73-10.mp4\\t23', 0.9452322099265886), ('http://aqiniudl.tangdou.com/202005/D0249C43-5190-C475-3F5D-7EE42388FA73-10.mp4\\t24', 0.9397803629458887), ('http://aqiniudl.tangdou.com/202005/D0249C43-5190-C475-3F5D-7EE42388FA73-10.mp4\\t25', 0.9453139022289001), ('http://aqiniudl.tangdou.com/202005/D0249C43-5190-C475-3F5D-7EE42388FA73-10.mp4\\t26', 0.9515441646365497), ('http://aqiniudl.tangdou.com/202005/D0249C43-5190-C475-3F5D-7EE42388FA73-10.mp4\\t27', 0.9530722903217728), ('http://aqiniudl.tangdou.com/202005/D0249C43-5190-C475-3F5D-7EE42388FA73-10.mp4\\t28', 0.9496321905336094)], 'http://aqiniudl.tangdou.com/202004/2A6CC81A-880F-D7AA-C32D-24DDC93643BF-10.mp4\\t27': [('http://aqiniudl.tangdou.com/202005/A7C11FD6-D846-CD4A-81BC-4A27EFB0B45C-10.mp4\\t22', 0.9453426610746947), ('http://aqiniudl.tangdou.com/202005/A7C11FD6-D846-CD4A-81BC-4A27EFB0B45C-10.mp4\\t23', 0.9616057998149854), ('http://aqiniudl.tangdou.com/202005/A7C11FD6-D846-CD4A-81BC-4A27EFB0B45C-10.mp4\\t24', 0.9701891850576712), ('http://aqiniudl.tangdou.com/202005/A7C11FD6-D846-CD4A-81BC-4A27EFB0B45C-10.mp4\\t25', 0.9798131589928769), ('http://aqiniudl.tangdou.com/202005/A7C11FD6-D846-CD4A-81BC-4A27EFB0B45C-10.mp4\\t26', 0.9862494521384304), ('http://aqiniudl.tangdou.com/202005/A7C11FD6-D846-CD4A-81BC-4A27EFB0B45C-10.mp4\\t27', 1.0000000000000004), ('http://aqiniudl.tangdou.com/202005/A7C11FD6-D846-CD4A-81BC-4A27EFB0B45C-10.mp4\\t28', 0.982430499112139), ('http://aqiniudl.tangdou.com/202004/2A6CC81A-880F-D7AA-C32D-24DDC93643BF-10.mp4\\t22', 0.9453426610746947), ('http://aqiniudl.tangdou.com/202004/2A6CC81A-880F-D7AA-C32D-24DDC93643BF-10.mp4\\t23', 0.9616057998149854), ('http://aqiniudl.tangdou.com/202004/2A6CC81A-880F-D7AA-C32D-24DDC93643BF-10.mp4\\t24', 0.9701891850576712), ('http://aqiniudl.tangdou.com/202004/2A6CC81A-880F-D7AA-C32D-24DDC93643BF-10.mp4\\t25', 0.9798131589928769), ('http://aqiniudl.tangdou.com/202004/2A6CC81A-880F-D7AA-C32D-24DDC93643BF-10.mp4\\t26', 0.9862494521384304), ('http://aqiniudl.tangdou.com/202004/2A6CC81A-880F-D7AA-C32D-24DDC93643BF-10.mp4\\t28', 0.982430499112139), ('http://aqiniudl.tangdou.com/202005/D0249C43-5190-C475-3F5D-7EE42388FA73-10.mp4\\t22', 0.921649955436247), ('http://aqiniudl.tangdou.com/202005/D0249C43-5190-C475-3F5D-7EE42388FA73-10.mp4\\t23', 0.9360003821012137), ('http://aqiniudl.tangdou.com/202005/D0249C43-5190-C475-3F5D-7EE42388FA73-10.mp4\\t24', 0.9283951159869825), ('http://aqiniudl.tangdou.com/202005/D0249C43-5190-C475-3F5D-7EE42388FA73-10.mp4\\t25', 0.9392071640747245), ('http://aqiniudl.tangdou.com/202005/D0249C43-5190-C475-3F5D-7EE42388FA73-10.mp4\\t26', 0.9395799123508236), ('http://aqiniudl.tangdou.com/202005/D0249C43-5190-C475-3F5D-7EE42388FA73-10.mp4\\t27', 0.9524461287113019), ('http://aqiniudl.tangdou.com/202005/D0249C43-5190-C475-3F5D-7EE42388FA73-10.mp4\\t28', 0.9451253443641043)], 'http://aqiniudl.tangdou.com/202004/2A6CC81A-880F-D7AA-C32D-24DDC93643BF-10.mp4\\t28': [('http://aqiniudl.tangdou.com/202005/A7C11FD6-D846-CD4A-81BC-4A27EFB0B45C-10.mp4\\t22', 0.9420269084343285), ('http://aqiniudl.tangdou.com/202005/A7C11FD6-D846-CD4A-81BC-4A27EFB0B45C-10.mp4\\t23', 0.9597457445108959), ('http://aqiniudl.tangdou.com/202005/A7C11FD6-D846-CD4A-81BC-4A27EFB0B45C-10.mp4\\t24', 0.968908924500756), ('http://aqiniudl.tangdou.com/202005/A7C11FD6-D846-CD4A-81BC-4A27EFB0B45C-10.mp4\\t25', 0.9678316161260265), ('http://aqiniudl.tangdou.com/202005/A7C11FD6-D846-CD4A-81BC-4A27EFB0B45C-10.mp4\\t26', 0.9787822380407533), ('http://aqiniudl.tangdou.com/202005/A7C11FD6-D846-CD4A-81BC-4A27EFB0B45C-10.mp4\\t27', 0.982430499112139), ('http://aqiniudl.tangdou.com/202005/A7C11FD6-D846-CD4A-81BC-4A27EFB0B45C-10.mp4\\t28', 1.0000000000000004), ('http://aqiniudl.tangdou.com/202004/2A6CC81A-880F-D7AA-C32D-24DDC93643BF-10.mp4\\t22', 0.9420269084343285), ('http://aqiniudl.tangdou.com/202004/2A6CC81A-880F-D7AA-C32D-24DDC93643BF-10.mp4\\t23', 0.9597457445108959), ('http://aqiniudl.tangdou.com/202004/2A6CC81A-880F-D7AA-C32D-24DDC93643BF-10.mp4\\t24', 0.968908924500756), ('http://aqiniudl.tangdou.com/202004/2A6CC81A-880F-D7AA-C32D-24DDC93643BF-10.mp4\\t25', 0.9678316161260265), ('http://aqiniudl.tangdou.com/202004/2A6CC81A-880F-D7AA-C32D-24DDC93643BF-10.mp4\\t26', 0.9787822380407533), ('http://aqiniudl.tangdou.com/202004/2A6CC81A-880F-D7AA-C32D-24DDC93643BF-10.mp4\\t27', 0.982430499112139), ('http://aqiniudl.tangdou.com/202005/D0249C43-5190-C475-3F5D-7EE42388FA73-10.mp4\\t22', 0.9234526654131376), ('http://aqiniudl.tangdou.com/202005/D0249C43-5190-C475-3F5D-7EE42388FA73-10.mp4\\t23', 0.9411918862872091), ('http://aqiniudl.tangdou.com/202005/D0249C43-5190-C475-3F5D-7EE42388FA73-10.mp4\\t24', 0.9344789106443988), ('http://aqiniudl.tangdou.com/202005/D0249C43-5190-C475-3F5D-7EE42388FA73-10.mp4\\t25', 0.9382183991985195), ('http://aqiniudl.tangdou.com/202005/D0249C43-5190-C475-3F5D-7EE42388FA73-10.mp4\\t26', 0.9398913499278009), ('http://aqiniudl.tangdou.com/202005/D0249C43-5190-C475-3F5D-7EE42388FA73-10.mp4\\t27', 0.9527468905013836), ('http://aqiniudl.tangdou.com/202005/D0249C43-5190-C475-3F5D-7EE42388FA73-10.mp4\\t28', 0.9569073020467556)], 'http://aqiniudl.tangdou.com/202004/2A6CC81A-880F-D7AA-C32D-24DDC93643BF-10.mp4\\t29': [('http://aqiniudl.tangdou.com/202005/A7C11FD6-D846-CD4A-81BC-4A27EFB0B45C-10.mp4\\t29', 1.0000000000000002), ('http://aqiniudl.tangdou.com/202005/A7C11FD6-D846-CD4A-81BC-4A27EFB0B45C-10.mp4\\t30', 0.9602142625588338), ('http://aqiniudl.tangdou.com/202004/2A6CC81A-880F-D7AA-C32D-24DDC93643BF-10.mp4\\t30', 0.9602142625588338), ('http://aqiniudl.tangdou.com/202005/D0249C43-5190-C475-3F5D-7EE42388FA73-10.mp4\\t29', 0.9749872228647614), ('http://aqiniudl.tangdou.com/202005/D0249C43-5190-C475-3F5D-7EE42388FA73-10.mp4\\t30', 0.9361024691663535)], 'http://aqiniudl.tangdou.com/202004/2A6CC81A-880F-D7AA-C32D-24DDC93643BF-10.mp4\\t30': [('http://aqiniudl.tangdou.com/202005/A7C11FD6-D846-CD4A-81BC-4A27EFB0B45C-10.mp4\\t29', 0.9602142625588338), ('http://aqiniudl.tangdou.com/202005/A7C11FD6-D846-CD4A-81BC-4A27EFB0B45C-10.mp4\\t30', 0.9999999999999997), ('http://aqiniudl.tangdou.com/202005/A7C11FD6-D846-CD4A-81BC-4A27EFB0B45C-10.mp4\\t31', 0.9329775016329104), ('http://aqiniudl.tangdou.com/202005/A7C11FD6-D846-CD4A-81BC-4A27EFB0B45C-10.mp4\\t33', 0.9002383409722086), ('http://aqiniudl.tangdou.com/202004/2A6CC81A-880F-D7AA-C32D-24DDC93643BF-10.mp4\\t29', 0.9602142625588338), ('http://aqiniudl.tangdou.com/202004/2A6CC81A-880F-D7AA-C32D-24DDC93643BF-10.mp4\\t31', 0.9329775016329104), ('http://aqiniudl.tangdou.com/202004/2A6CC81A-880F-D7AA-C32D-24DDC93643BF-10.mp4\\t33', 0.9002383409722086), ('http://aqiniudl.tangdou.com/202005/D0249C43-5190-C475-3F5D-7EE42388FA73-10.mp4\\t29', 0.9418503817589083), ('http://aqiniudl.tangdou.com/202005/D0249C43-5190-C475-3F5D-7EE42388FA73-10.mp4\\t30', 0.9727964551823969), ('http://aqiniudl.tangdou.com/202005/D0249C43-5190-C475-3F5D-7EE42388FA73-10.mp4\\t31', 0.9129105029679255)], 'http://aqiniudl.tangdou.com/202004/2A6CC81A-880F-D7AA-C32D-24DDC93643BF-10.mp4\\t31': [('http://aqiniudl.tangdou.com/202005/A7C11FD6-D846-CD4A-81BC-4A27EFB0B45C-10.mp4\\t30', 0.9329775016329104), ('http://aqiniudl.tangdou.com/202005/A7C11FD6-D846-CD4A-81BC-4A27EFB0B45C-10.mp4\\t31', 1.0000000000000004), ('http://aqiniudl.tangdou.com/202005/A7C11FD6-D846-CD4A-81BC-4A27EFB0B45C-10.mp4\\t32', 0.9662461941334398), ('http://aqiniudl.tangdou.com/202005/A7C11FD6-D846-CD4A-81BC-4A27EFB0B45C-10.mp4\\t33', 0.9602653270963092), ('http://aqiniudl.tangdou.com/202005/A7C11FD6-D846-CD4A-81BC-4A27EFB0B45C-10.mp4\\t34', 0.96018658990498), ('http://aqiniudl.tangdou.com/202005/A7C11FD6-D846-CD4A-81BC-4A27EFB0B45C-10.mp4\\t35', 0.9601679493737644), ('http://aqiniudl.tangdou.com/202005/A7C11FD6-D846-CD4A-81BC-4A27EFB0B45C-10.mp4\\t36', 0.9610760196231306), ('http://aqiniudl.tangdou.com/202004/2A6CC81A-880F-D7AA-C32D-24DDC93643BF-10.mp4\\t30', 0.9329775016329104), ('http://aqiniudl.tangdou.com/202004/2A6CC81A-880F-D7AA-C32D-24DDC93643BF-10.mp4\\t32', 0.9662461941334398), ('http://aqiniudl.tangdou.com/202004/2A6CC81A-880F-D7AA-C32D-24DDC93643BF-10.mp4\\t33', 0.9602653270963092), ('http://aqiniudl.tangdou.com/202004/2A6CC81A-880F-D7AA-C32D-24DDC93643BF-10.mp4\\t34', 0.96018658990498), ('http://aqiniudl.tangdou.com/202004/2A6CC81A-880F-D7AA-C32D-24DDC93643BF-10.mp4\\t35', 0.9601679493737644), ('http://aqiniudl.tangdou.com/202004/2A6CC81A-880F-D7AA-C32D-24DDC93643BF-10.mp4\\t36', 0.9610760196231306), ('http://aqiniudl.tangdou.com/202005/D0249C43-5190-C475-3F5D-7EE42388FA73-10.mp4\\t30', 0.9314439003567179), ('http://aqiniudl.tangdou.com/202005/D0249C43-5190-C475-3F5D-7EE42388FA73-10.mp4\\t31', 0.9718049183382965), ('http://aqiniudl.tangdou.com/202005/D0249C43-5190-C475-3F5D-7EE42388FA73-10.mp4\\t32', 0.9385714067723657), ('http://aqiniudl.tangdou.com/202005/D0249C43-5190-C475-3F5D-7EE42388FA73-10.mp4\\t33', 0.9387688286138868), ('http://aqiniudl.tangdou.com/202005/D0249C43-5190-C475-3F5D-7EE42388FA73-10.mp4\\t34', 0.9391945464479733), ('http://aqiniudl.tangdou.com/202005/D0249C43-5190-C475-3F5D-7EE42388FA73-10.mp4\\t35', 0.9368265497597607), ('http://aqiniudl.tangdou.com/202005/D0249C43-5190-C475-3F5D-7EE42388FA73-10.mp4\\t36', 0.938042874780895)], 'http://aqiniudl.tangdou.com/202004/2A6CC81A-880F-D7AA-C32D-24DDC93643BF-10.mp4\\t32': [('http://aqiniudl.tangdou.com/202005/A7C11FD6-D846-CD4A-81BC-4A27EFB0B45C-10.mp4\\t31', 0.9662461941334398), ('http://aqiniudl.tangdou.com/202005/A7C11FD6-D846-CD4A-81BC-4A27EFB0B45C-10.mp4\\t32', 1.0000000000000002), ('http://aqiniudl.tangdou.com/202005/A7C11FD6-D846-CD4A-81BC-4A27EFB0B45C-10.mp4\\t33', 0.9837549904627184), ('http://aqiniudl.tangdou.com/202005/A7C11FD6-D846-CD4A-81BC-4A27EFB0B45C-10.mp4\\t34', 0.9850403789422094), ('http://aqiniudl.tangdou.com/202005/A7C11FD6-D846-CD4A-81BC-4A27EFB0B45C-10.mp4\\t35', 0.975302226950986), ('http://aqiniudl.tangdou.com/202005/A7C11FD6-D846-CD4A-81BC-4A27EFB0B45C-10.mp4\\t36', 0.9720601921271065), ('http://aqiniudl.tangdou.com/202004/2A6CC81A-880F-D7AA-C32D-24DDC93643BF-10.mp4\\t31', 0.9662461941334398), ('http://aqiniudl.tangdou.com/202004/2A6CC81A-880F-D7AA-C32D-24DDC93643BF-10.mp4\\t33', 0.9837549904627184), ('http://aqiniudl.tangdou.com/202004/2A6CC81A-880F-D7AA-C32D-24DDC93643BF-10.mp4\\t34', 0.9850403789422094), ('http://aqiniudl.tangdou.com/202004/2A6CC81A-880F-D7AA-C32D-24DDC93643BF-10.mp4\\t35', 0.975302226950986), ('http://aqiniudl.tangdou.com/202004/2A6CC81A-880F-D7AA-C32D-24DDC93643BF-10.mp4\\t36', 0.9720601921271065), ('http://aqiniudl.tangdou.com/202005/D0249C43-5190-C475-3F5D-7EE42388FA73-10.mp4\\t30', 0.9079345003475547), ('http://aqiniudl.tangdou.com/202005/D0249C43-5190-C475-3F5D-7EE42388FA73-10.mp4\\t31', 0.9583071856743355), ('http://aqiniudl.tangdou.com/202005/D0249C43-5190-C475-3F5D-7EE42388FA73-10.mp4\\t32', 0.9686259404537378), ('http://aqiniudl.tangdou.com/202005/D0249C43-5190-C475-3F5D-7EE42388FA73-10.mp4\\t33', 0.9660352858307433), ('http://aqiniudl.tangdou.com/202005/D0249C43-5190-C475-3F5D-7EE42388FA73-10.mp4\\t34', 0.9633912545363514), ('http://aqiniudl.tangdou.com/202005/D0249C43-5190-C475-3F5D-7EE42388FA73-10.mp4\\t35', 0.9571694600729512), ('http://aqiniudl.tangdou.com/202005/D0249C43-5190-C475-3F5D-7EE42388FA73-10.mp4\\t36', 0.9570082710573644)], 'http://aqiniudl.tangdou.com/202004/2A6CC81A-880F-D7AA-C32D-24DDC93643BF-10.mp4\\t33': [('http://aqiniudl.tangdou.com/202005/A7C11FD6-D846-CD4A-81BC-4A27EFB0B45C-10.mp4\\t30', 0.9002383409722086), ('http://aqiniudl.tangdou.com/202005/A7C11FD6-D846-CD4A-81BC-4A27EFB0B45C-10.mp4\\t31', 0.9602653270963092), ('http://aqiniudl.tangdou.com/202005/A7C11FD6-D846-CD4A-81BC-4A27EFB0B45C-10.mp4\\t32', 0.9837549904627184), ('http://aqiniudl.tangdou.com/202005/A7C11FD6-D846-CD4A-81BC-4A27EFB0B45C-10.mp4\\t33', 1.0000000000000004), ('http://aqiniudl.tangdou.com/202005/A7C11FD6-D846-CD4A-81BC-4A27EFB0B45C-10.mp4\\t34', 0.9811495107350076), ('http://aqiniudl.tangdou.com/202005/A7C11FD6-D846-CD4A-81BC-4A27EFB0B45C-10.mp4\\t35', 0.977244443843203), ('http://aqiniudl.tangdou.com/202005/A7C11FD6-D846-CD4A-81BC-4A27EFB0B45C-10.mp4\\t36', 0.973117515305824), ('http://aqiniudl.tangdou.com/202004/2A6CC81A-880F-D7AA-C32D-24DDC93643BF-10.mp4\\t30', 0.9002383409722086), ('http://aqiniudl.tangdou.com/202004/2A6CC81A-880F-D7AA-C32D-24DDC93643BF-10.mp4\\t31', 0.9602653270963092), ('http://aqiniudl.tangdou.com/202004/2A6CC81A-880F-D7AA-C32D-24DDC93643BF-10.mp4\\t32', 0.9837549904627184), ('http://aqiniudl.tangdou.com/202004/2A6CC81A-880F-D7AA-C32D-24DDC93643BF-10.mp4\\t34', 0.9811495107350076), ('http://aqiniudl.tangdou.com/202004/2A6CC81A-880F-D7AA-C32D-24DDC93643BF-10.mp4\\t35', 0.977244443843203), ('http://aqiniudl.tangdou.com/202004/2A6CC81A-880F-D7AA-C32D-24DDC93643BF-10.mp4\\t36', 0.973117515305824), ('http://aqiniudl.tangdou.com/202005/D0249C43-5190-C475-3F5D-7EE42388FA73-10.mp4\\t30', 0.9083020645080476), ('http://aqiniudl.tangdou.com/202005/D0249C43-5190-C475-3F5D-7EE42388FA73-10.mp4\\t31', 0.9498034721821738), ('http://aqiniudl.tangdou.com/202005/D0249C43-5190-C475-3F5D-7EE42388FA73-10.mp4\\t32', 0.9539787386005629), ('http://aqiniudl.tangdou.com/202005/D0249C43-5190-C475-3F5D-7EE42388FA73-10.mp4\\t33', 0.9661357152692859), ('http://aqiniudl.tangdou.com/202005/D0249C43-5190-C475-3F5D-7EE42388FA73-10.mp4\\t34', 0.9563006068196144), ('http://aqiniudl.tangdou.com/202005/D0249C43-5190-C475-3F5D-7EE42388FA73-10.mp4\\t35', 0.9524802100124091), ('http://aqiniudl.tangdou.com/202005/D0249C43-5190-C475-3F5D-7EE42388FA73-10.mp4\\t36', 0.9520292446367055)], 'http://aqiniudl.tangdou.com/202004/2A6CC81A-880F-D7AA-C32D-24DDC93643BF-10.mp4\\t34': [('http://aqiniudl.tangdou.com/202005/A7C11FD6-D846-CD4A-81BC-4A27EFB0B45C-10.mp4\\t31', 0.96018658990498), ('http://aqiniudl.tangdou.com/202005/A7C11FD6-D846-CD4A-81BC-4A27EFB0B45C-10.mp4\\t32', 0.9850403789422094), ('http://aqiniudl.tangdou.com/202005/A7C11FD6-D846-CD4A-81BC-4A27EFB0B45C-10.mp4\\t33', 0.9811495107350076), ('http://aqiniudl.tangdou.com/202005/A7C11FD6-D846-CD4A-81BC-4A27EFB0B45C-10.mp4\\t34', 1.0000000000000004), ('http://aqiniudl.tangdou.com/202005/A7C11FD6-D846-CD4A-81BC-4A27EFB0B45C-10.mp4\\t35', 0.9844114308710198), ('http://aqiniudl.tangdou.com/202005/A7C11FD6-D846-CD4A-81BC-4A27EFB0B45C-10.mp4\\t36', 0.9753468523378317), ('http://aqiniudl.tangdou.com/202004/2A6CC81A-880F-D7AA-C32D-24DDC93643BF-10.mp4\\t31', 0.96018658990498), ('http://aqiniudl.tangdou.com/202004/2A6CC81A-880F-D7AA-C32D-24DDC93643BF-10.mp4\\t32', 0.9850403789422094), ('http://aqiniudl.tangdou.com/202004/2A6CC81A-880F-D7AA-C32D-24DDC93643BF-10.mp4\\t33', 0.9811495107350076), ('http://aqiniudl.tangdou.com/202004/2A6CC81A-880F-D7AA-C32D-24DDC93643BF-10.mp4\\t35', 0.9844114308710198), ('http://aqiniudl.tangdou.com/202004/2A6CC81A-880F-D7AA-C32D-24DDC93643BF-10.mp4\\t36', 0.9753468523378317), ('http://aqiniudl.tangdou.com/202005/D0249C43-5190-C475-3F5D-7EE42388FA73-10.mp4\\t30', 0.9046881958011269), ('http://aqiniudl.tangdou.com/202005/D0249C43-5190-C475-3F5D-7EE42388FA73-10.mp4\\t31', 0.9551670741574686), ('http://aqiniudl.tangdou.com/202005/D0249C43-5190-C475-3F5D-7EE42388FA73-10.mp4\\t32', 0.9645524740167776), ('http://aqiniudl.tangdou.com/202005/D0249C43-5190-C475-3F5D-7EE42388FA73-10.mp4\\t33', 0.9660379136704926), ('http://aqiniudl.tangdou.com/202005/D0249C43-5190-C475-3F5D-7EE42388FA73-10.mp4\\t34', 0.9697019009972268), ('http://aqiniudl.tangdou.com/202005/D0249C43-5190-C475-3F5D-7EE42388FA73-10.mp4\\t35', 0.9612475627035132), ('http://aqiniudl.tangdou.com/202005/D0249C43-5190-C475-3F5D-7EE42388FA73-10.mp4\\t36', 0.9602304292367366)], 'http://aqiniudl.tangdou.com/202004/2A6CC81A-880F-D7AA-C32D-24DDC93643BF-10.mp4\\t35': [('http://aqiniudl.tangdou.com/202005/A7C11FD6-D846-CD4A-81BC-4A27EFB0B45C-10.mp4\\t31', 0.9601679493737644), ('http://aqiniudl.tangdou.com/202005/A7C11FD6-D846-CD4A-81BC-4A27EFB0B45C-10.mp4\\t32', 0.975302226950986), ('http://aqiniudl.tangdou.com/202005/A7C11FD6-D846-CD4A-81BC-4A27EFB0B45C-10.mp4\\t33', 0.977244443843203), ('http://aqiniudl.tangdou.com/202005/A7C11FD6-D846-CD4A-81BC-4A27EFB0B45C-10.mp4\\t34', 0.9844114308710198), ('http://aqiniudl.tangdou.com/202005/A7C11FD6-D846-CD4A-81BC-4A27EFB0B45C-10.mp4\\t35', 1.0000000000000016), ('http://aqiniudl.tangdou.com/202005/A7C11FD6-D846-CD4A-81BC-4A27EFB0B45C-10.mp4\\t36', 0.9860145261877805), ('http://aqiniudl.tangdou.com/202004/2A6CC81A-880F-D7AA-C32D-24DDC93643BF-10.mp4\\t31', 0.9601679493737644), ('http://aqiniudl.tangdou.com/202004/2A6CC81A-880F-D7AA-C32D-24DDC93643BF-10.mp4\\t32', 0.975302226950986), ('http://aqiniudl.tangdou.com/202004/2A6CC81A-880F-D7AA-C32D-24DDC93643BF-10.mp4\\t33', 0.977244443843203), ('http://aqiniudl.tangdou.com/202004/2A6CC81A-880F-D7AA-C32D-24DDC93643BF-10.mp4\\t34', 0.9844114308710198), ('http://aqiniudl.tangdou.com/202004/2A6CC81A-880F-D7AA-C32D-24DDC93643BF-10.mp4\\t36', 0.9860145261877805), ('http://aqiniudl.tangdou.com/202005/D0249C43-5190-C475-3F5D-7EE42388FA73-10.mp4\\t30', 0.9062776627607819), ('http://aqiniudl.tangdou.com/202005/D0249C43-5190-C475-3F5D-7EE42388FA73-10.mp4\\t31', 0.9547850670800789), ('http://aqiniudl.tangdou.com/202005/D0249C43-5190-C475-3F5D-7EE42388FA73-10.mp4\\t32', 0.9529711788078387), ('http://aqiniudl.tangdou.com/202005/D0249C43-5190-C475-3F5D-7EE42388FA73-10.mp4\\t33', 0.958930654419969), ('http://aqiniudl.tangdou.com/202005/D0249C43-5190-C475-3F5D-7EE42388FA73-10.mp4\\t34', 0.9626388749816811), ('http://aqiniudl.tangdou.com/202005/D0249C43-5190-C475-3F5D-7EE42388FA73-10.mp4\\t35', 0.9678330355473781), ('http://aqiniudl.tangdou.com/202005/D0249C43-5190-C475-3F5D-7EE42388FA73-10.mp4\\t36', 0.9654679871617633)], 'http://aqiniudl.tangdou.com/202004/2A6CC81A-880F-D7AA-C32D-24DDC93643BF-10.mp4\\t36': [('http://aqiniudl.tangdou.com/202005/A7C11FD6-D846-CD4A-81BC-4A27EFB0B45C-10.mp4\\t31', 0.9610760196231306), ('http://aqiniudl.tangdou.com/202005/A7C11FD6-D846-CD4A-81BC-4A27EFB0B45C-10.mp4\\t32', 0.9720601921271065), ('http://aqiniudl.tangdou.com/202005/A7C11FD6-D846-CD4A-81BC-4A27EFB0B45C-10.mp4\\t33', 0.973117515305824), ('http://aqiniudl.tangdou.com/202005/A7C11FD6-D846-CD4A-81BC-4A27EFB0B45C-10.mp4\\t34', 0.9753468523378317), ('http://aqiniudl.tangdou.com/202005/A7C11FD6-D846-CD4A-81BC-4A27EFB0B45C-10.mp4\\t35', 0.9860145261877805), ('http://aqiniudl.tangdou.com/202005/A7C11FD6-D846-CD4A-81BC-4A27EFB0B45C-10.mp4\\t36', 0.9999999999999996), ('http://aqiniudl.tangdou.com/202004/2A6CC81A-880F-D7AA-C32D-24DDC93643BF-10.mp4\\t31', 0.9610760196231306), ('http://aqiniudl.tangdou.com/202004/2A6CC81A-880F-D7AA-C32D-24DDC93643BF-10.mp4\\t32', 0.9720601921271065), ('http://aqiniudl.tangdou.com/202004/2A6CC81A-880F-D7AA-C32D-24DDC93643BF-10.mp4\\t33', 0.973117515305824), ('http://aqiniudl.tangdou.com/202004/2A6CC81A-880F-D7AA-C32D-24DDC93643BF-10.mp4\\t34', 0.9753468523378317), ('http://aqiniudl.tangdou.com/202004/2A6CC81A-880F-D7AA-C32D-24DDC93643BF-10.mp4\\t35', 0.9860145261877805), ('http://aqiniudl.tangdou.com/202005/D0249C43-5190-C475-3F5D-7EE42388FA73-10.mp4\\t30', 0.9089780621125239), ('http://aqiniudl.tangdou.com/202005/D0249C43-5190-C475-3F5D-7EE42388FA73-10.mp4\\t31', 0.9548422445650534), ('http://aqiniudl.tangdou.com/202005/D0249C43-5190-C475-3F5D-7EE42388FA73-10.mp4\\t32', 0.9483997729129185), ('http://aqiniudl.tangdou.com/202005/D0249C43-5190-C475-3F5D-7EE42388FA73-10.mp4\\t33', 0.9520979134980109), ('http://aqiniudl.tangdou.com/202005/D0249C43-5190-C475-3F5D-7EE42388FA73-10.mp4\\t34', 0.9539353277901782), ('http://aqiniudl.tangdou.com/202005/D0249C43-5190-C475-3F5D-7EE42388FA73-10.mp4\\t35', 0.9618731414101533), ('http://aqiniudl.tangdou.com/202005/D0249C43-5190-C475-3F5D-7EE42388FA73-10.mp4\\t36', 0.9687344950837457)], 'http://aqiniudl.tangdou.com/202004/2A6CC81A-880F-D7AA-C32D-24DDC93643BF-10.mp4\\t37': [('http://aqiniudl.tangdou.com/202005/A7C11FD6-D846-CD4A-81BC-4A27EFB0B45C-10.mp4\\t37', 1.0000000000000004), ('http://aqiniudl.tangdou.com/202005/A7C11FD6-D846-CD4A-81BC-4A27EFB0B45C-10.mp4\\t38', 0.9726189135005472), ('http://aqiniudl.tangdou.com/202005/A7C11FD6-D846-CD4A-81BC-4A27EFB0B45C-10.mp4\\t39', 0.9556185567745769), ('http://aqiniudl.tangdou.com/202004/2A6CC81A-880F-D7AA-C32D-24DDC93643BF-10.mp4\\t38', 0.9726189135005472), ('http://aqiniudl.tangdou.com/202004/2A6CC81A-880F-D7AA-C32D-24DDC93643BF-10.mp4\\t39', 0.9556185567745769), ('http://aqiniudl.tangdou.com/202005/D0249C43-5190-C475-3F5D-7EE42388FA73-10.mp4\\t37', 0.9678946256910758), ('http://aqiniudl.tangdou.com/202005/D0249C43-5190-C475-3F5D-7EE42388FA73-10.mp4\\t38', 0.9492862901829382), ('http://aqiniudl.tangdou.com/202005/D0249C43-5190-C475-3F5D-7EE42388FA73-10.mp4\\t39', 0.9285383458413126)], 'http://aqiniudl.tangdou.com/202004/2A6CC81A-880F-D7AA-C32D-24DDC93643BF-10.mp4\\t38': [('http://aqiniudl.tangdou.com/202005/A7C11FD6-D846-CD4A-81BC-4A27EFB0B45C-10.mp4\\t37', 0.9726189135005472), ('http://aqiniudl.tangdou.com/202005/A7C11FD6-D846-CD4A-81BC-4A27EFB0B45C-10.mp4\\t38', 1.0000000000000004), ('http://aqiniudl.tangdou.com/202005/A7C11FD6-D846-CD4A-81BC-4A27EFB0B45C-10.mp4\\t39', 0.9753692658584407), ('http://aqiniudl.tangdou.com/202004/2A6CC81A-880F-D7AA-C32D-24DDC93643BF-10.mp4\\t37', 0.9726189135005472), ('http://aqiniudl.tangdou.com/202004/2A6CC81A-880F-D7AA-C32D-24DDC93643BF-10.mp4\\t39', 0.9753692658584407), ('http://aqiniudl.tangdou.com/202005/D0249C43-5190-C475-3F5D-7EE42388FA73-10.mp4\\t37', 0.9575510242255703), ('http://aqiniudl.tangdou.com/202005/D0249C43-5190-C475-3F5D-7EE42388FA73-10.mp4\\t38', 0.9703131167279909), ('http://aqiniudl.tangdou.com/202005/D0249C43-5190-C475-3F5D-7EE42388FA73-10.mp4\\t39', 0.9482410342776318)], 'http://aqiniudl.tangdou.com/202004/2A6CC81A-880F-D7AA-C32D-24DDC93643BF-10.mp4\\t39': [('http://aqiniudl.tangdou.com/202005/A7C11FD6-D846-CD4A-81BC-4A27EFB0B45C-10.mp4\\t37', 0.9556185567745769), ('http://aqiniudl.tangdou.com/202005/A7C11FD6-D846-CD4A-81BC-4A27EFB0B45C-10.mp4\\t38', 0.9753692658584407), ('http://aqiniudl.tangdou.com/202005/A7C11FD6-D846-CD4A-81BC-4A27EFB0B45C-10.mp4\\t39', 1.0000000000000002), ('http://aqiniudl.tangdou.com/202004/2A6CC81A-880F-D7AA-C32D-24DDC93643BF-10.mp4\\t37', 0.9556185567745769), ('http://aqiniudl.tangdou.com/202004/2A6CC81A-880F-D7AA-C32D-24DDC93643BF-10.mp4\\t38', 0.9753692658584407), ('http://aqiniudl.tangdou.com/202005/D0249C43-5190-C475-3F5D-7EE42388FA73-10.mp4\\t37', 0.9511900537357373), ('http://aqiniudl.tangdou.com/202005/D0249C43-5190-C475-3F5D-7EE42388FA73-10.mp4\\t38', 0.9629753703589079), ('http://aqiniudl.tangdou.com/202005/D0249C43-5190-C475-3F5D-7EE42388FA73-10.mp4\\t39', 0.9721080561167931)], 'http://aqiniudl.tangdou.com/202005/D0249C43-5190-C475-3F5D-7EE42388FA73-10.mp4\\t20': [('http://aqiniudl.tangdou.com/202005/A7C11FD6-D846-CD4A-81BC-4A27EFB0B45C-10.mp4\\t20', 0.9664486817137026), ('http://aqiniudl.tangdou.com/202005/A7C11FD6-D846-CD4A-81BC-4A27EFB0B45C-10.mp4\\t21', 0.9436723184425178), ('http://aqiniudl.tangdou.com/202004/2A6CC81A-880F-D7AA-C32D-24DDC93643BF-10.mp4\\t20', 0.9664486817137026), ('http://aqiniudl.tangdou.com/202004/2A6CC81A-880F-D7AA-C32D-24DDC93643BF-10.mp4\\t21', 0.9436723184425178), ('http://aqiniudl.tangdou.com/202005/D0249C43-5190-C475-3F5D-7EE42388FA73-10.mp4\\t21', 0.9751654571876353)], 'http://aqiniudl.tangdou.com/202005/D0249C43-5190-C475-3F5D-7EE42388FA73-10.mp4\\t21': [('http://aqiniudl.tangdou.com/202005/A7C11FD6-D846-CD4A-81BC-4A27EFB0B45C-10.mp4\\t20', 0.9588598557276725), ('http://aqiniudl.tangdou.com/202005/A7C11FD6-D846-CD4A-81BC-4A27EFB0B45C-10.mp4\\t21', 0.9646406199659256), ('http://aqiniudl.tangdou.com/202004/2A6CC81A-880F-D7AA-C32D-24DDC93643BF-10.mp4\\t20', 0.9588598557276725), ('http://aqiniudl.tangdou.com/202004/2A6CC81A-880F-D7AA-C32D-24DDC93643BF-10.mp4\\t21', 0.9646406199659256), ('http://aqiniudl.tangdou.com/202005/D0249C43-5190-C475-3F5D-7EE42388FA73-10.mp4\\t20', 0.9751654571876353)], 'http://aqiniudl.tangdou.com/202005/D0249C43-5190-C475-3F5D-7EE42388FA73-10.mp4\\t22': [('http://aqiniudl.tangdou.com/202005/A7C11FD6-D846-CD4A-81BC-4A27EFB0B45C-10.mp4\\t22', 0.9491519198590459), ('http://aqiniudl.tangdou.com/202005/A7C11FD6-D846-CD4A-81BC-4A27EFB0B45C-10.mp4\\t23', 0.9400363642026343), ('http://aqiniudl.tangdou.com/202005/A7C11FD6-D846-CD4A-81BC-4A27EFB0B45C-10.mp4\\t24', 0.9291973085733651), ('http://aqiniudl.tangdou.com/202005/A7C11FD6-D846-CD4A-81BC-4A27EFB0B45C-10.mp4\\t25', 0.9272896067376721), ('http://aqiniudl.tangdou.com/202005/A7C11FD6-D846-CD4A-81BC-4A27EFB0B45C-10.mp4\\t26', 0.9296208229415251), ('http://aqiniudl.tangdou.com/202005/A7C11FD6-D846-CD4A-81BC-4A27EFB0B45C-10.mp4\\t27', 0.921649955436247), ('http://aqiniudl.tangdou.com/202005/A7C11FD6-D846-CD4A-81BC-4A27EFB0B45C-10.mp4\\t28', 0.9234526654131376), ('http://aqiniudl.tangdou.com/202004/2A6CC81A-880F-D7AA-C32D-24DDC93643BF-10.mp4\\t22', 0.9491519198590459), ('http://aqiniudl.tangdou.com/202004/2A6CC81A-880F-D7AA-C32D-24DDC93643BF-10.mp4\\t23', 0.9400363642026343), ('http://aqiniudl.tangdou.com/202004/2A6CC81A-880F-D7AA-C32D-24DDC93643BF-10.mp4\\t24', 0.9291973085733651), ('http://aqiniudl.tangdou.com/202004/2A6CC81A-880F-D7AA-C32D-24DDC93643BF-10.mp4\\t25', 0.9272896067376721), ('http://aqiniudl.tangdou.com/202004/2A6CC81A-880F-D7AA-C32D-24DDC93643BF-10.mp4\\t26', 0.9296208229415251), ('http://aqiniudl.tangdou.com/202004/2A6CC81A-880F-D7AA-C32D-24DDC93643BF-10.mp4\\t27', 0.921649955436247), ('http://aqiniudl.tangdou.com/202004/2A6CC81A-880F-D7AA-C32D-24DDC93643BF-10.mp4\\t28', 0.9234526654131376), ('http://aqiniudl.tangdou.com/202005/D0249C43-5190-C475-3F5D-7EE42388FA73-10.mp4\\t23', 0.9765229123639702), ('http://aqiniudl.tangdou.com/202005/D0249C43-5190-C475-3F5D-7EE42388FA73-10.mp4\\t24', 0.9607787093489811), ('http://aqiniudl.tangdou.com/202005/D0249C43-5190-C475-3F5D-7EE42388FA73-10.mp4\\t25', 0.958914699961778), ('http://aqiniudl.tangdou.com/202005/D0249C43-5190-C475-3F5D-7EE42388FA73-10.mp4\\t26', 0.9587685794321341), ('http://aqiniudl.tangdou.com/202005/D0249C43-5190-C475-3F5D-7EE42388FA73-10.mp4\\t27', 0.9572857036420732), ('http://aqiniudl.tangdou.com/202005/D0249C43-5190-C475-3F5D-7EE42388FA73-10.mp4\\t28', 0.9538537506084557)], 'http://aqiniudl.tangdou.com/202005/D0249C43-5190-C475-3F5D-7EE42388FA73-10.mp4\\t23': [('http://aqiniudl.tangdou.com/202005/A7C11FD6-D846-CD4A-81BC-4A27EFB0B45C-10.mp4\\t22', 0.9351239718210458), ('http://aqiniudl.tangdou.com/202005/A7C11FD6-D846-CD4A-81BC-4A27EFB0B45C-10.mp4\\t23', 0.9560708161785081), ('http://aqiniudl.tangdou.com/202005/A7C11FD6-D846-CD4A-81BC-4A27EFB0B45C-10.mp4\\t24', 0.9495744800017343), ('http://aqiniudl.tangdou.com/202005/A7C11FD6-D846-CD4A-81BC-4A27EFB0B45C-10.mp4\\t25', 0.9413088348547333), ('http://aqiniudl.tangdou.com/202005/A7C11FD6-D846-CD4A-81BC-4A27EFB0B45C-10.mp4\\t26', 0.9452322099265886), ('http://aqiniudl.tangdou.com/202005/A7C11FD6-D846-CD4A-81BC-4A27EFB0B45C-10.mp4\\t27', 0.9360003821012137), ('http://aqiniudl.tangdou.com/202005/A7C11FD6-D846-CD4A-81BC-4A27EFB0B45C-10.mp4\\t28', 0.9411918862872091), ('http://aqiniudl.tangdou.com/202004/2A6CC81A-880F-D7AA-C32D-24DDC93643BF-10.mp4\\t22', 0.9351239718210458), ('http://aqiniudl.tangdou.com/202004/2A6CC81A-880F-D7AA-C32D-24DDC93643BF-10.mp4\\t23', 0.9560708161785081), ('http://aqiniudl.tangdou.com/202004/2A6CC81A-880F-D7AA-C32D-24DDC93643BF-10.mp4\\t24', 0.9495744800017343), ('http://aqiniudl.tangdou.com/202004/2A6CC81A-880F-D7AA-C32D-24DDC93643BF-10.mp4\\t25', 0.9413088348547333), ('http://aqiniudl.tangdou.com/202004/2A6CC81A-880F-D7AA-C32D-24DDC93643BF-10.mp4\\t26', 0.9452322099265886), ('http://aqiniudl.tangdou.com/202004/2A6CC81A-880F-D7AA-C32D-24DDC93643BF-10.mp4\\t27', 0.9360003821012137), ('http://aqiniudl.tangdou.com/202004/2A6CC81A-880F-D7AA-C32D-24DDC93643BF-10.mp4\\t28', 0.9411918862872091), ('http://aqiniudl.tangdou.com/202005/D0249C43-5190-C475-3F5D-7EE42388FA73-10.mp4\\t22', 0.9765229123639702), ('http://aqiniudl.tangdou.com/202005/D0249C43-5190-C475-3F5D-7EE42388FA73-10.mp4\\t24', 0.9796119509870681), ('http://aqiniudl.tangdou.com/202005/D0249C43-5190-C475-3F5D-7EE42388FA73-10.mp4\\t25', 0.9716671182490222), ('http://aqiniudl.tangdou.com/202005/D0249C43-5190-C475-3F5D-7EE42388FA73-10.mp4\\t26', 0.9698816487432775), ('http://aqiniudl.tangdou.com/202005/D0249C43-5190-C475-3F5D-7EE42388FA73-10.mp4\\t27', 0.9705072221229458), ('http://aqiniudl.tangdou.com/202005/D0249C43-5190-C475-3F5D-7EE42388FA73-10.mp4\\t28', 0.9670699187161881)], 'http://aqiniudl.tangdou.com/202005/D0249C43-5190-C475-3F5D-7EE42388FA73-10.mp4\\t24': [('http://aqiniudl.tangdou.com/202005/A7C11FD6-D846-CD4A-81BC-4A27EFB0B45C-10.mp4\\t22', 0.9084738077169975), ('http://aqiniudl.tangdou.com/202005/A7C11FD6-D846-CD4A-81BC-4A27EFB0B45C-10.mp4\\t23', 0.9305019784237264), ('http://aqiniudl.tangdou.com/202005/A7C11FD6-D846-CD4A-81BC-4A27EFB0B45C-10.mp4\\t24', 0.9434390895444374), ('http://aqiniudl.tangdou.com/202005/A7C11FD6-D846-CD4A-81BC-4A27EFB0B45C-10.mp4\\t25', 0.9341697105988589), ('http://aqiniudl.tangdou.com/202005/A7C11FD6-D846-CD4A-81BC-4A27EFB0B45C-10.mp4\\t26', 0.9397803629458887), ('http://aqiniudl.tangdou.com/202005/A7C11FD6-D846-CD4A-81BC-4A27EFB0B45C-10.mp4\\t27', 0.9283951159869825), ('http://aqiniudl.tangdou.com/202005/A7C11FD6-D846-CD4A-81BC-4A27EFB0B45C-10.mp4\\t28', 0.9344789106443988), ('http://aqiniudl.tangdou.com/202004/2A6CC81A-880F-D7AA-C32D-24DDC93643BF-10.mp4\\t22', 0.9084738077169975), ('http://aqiniudl.tangdou.com/202004/2A6CC81A-880F-D7AA-C32D-24DDC93643BF-10.mp4\\t23', 0.9305019784237264), ('http://aqiniudl.tangdou.com/202004/2A6CC81A-880F-D7AA-C32D-24DDC93643BF-10.mp4\\t24', 0.9434390895444374), ('http://aqiniudl.tangdou.com/202004/2A6CC81A-880F-D7AA-C32D-24DDC93643BF-10.mp4\\t25', 0.9341697105988589), ('http://aqiniudl.tangdou.com/202004/2A6CC81A-880F-D7AA-C32D-24DDC93643BF-10.mp4\\t26', 0.9397803629458887), ('http://aqiniudl.tangdou.com/202004/2A6CC81A-880F-D7AA-C32D-24DDC93643BF-10.mp4\\t27', 0.9283951159869825), ('http://aqiniudl.tangdou.com/202004/2A6CC81A-880F-D7AA-C32D-24DDC93643BF-10.mp4\\t28', 0.9344789106443988), ('http://aqiniudl.tangdou.com/202005/D0249C43-5190-C475-3F5D-7EE42388FA73-10.mp4\\t22', 0.9607787093489811), ('http://aqiniudl.tangdou.com/202005/D0249C43-5190-C475-3F5D-7EE42388FA73-10.mp4\\t23', 0.9796119509870681), ('http://aqiniudl.tangdou.com/202005/D0249C43-5190-C475-3F5D-7EE42388FA73-10.mp4\\t25', 0.981223160483698), ('http://aqiniudl.tangdou.com/202005/D0249C43-5190-C475-3F5D-7EE42388FA73-10.mp4\\t26', 0.9762421500638099), ('http://aqiniudl.tangdou.com/202005/D0249C43-5190-C475-3F5D-7EE42388FA73-10.mp4\\t27', 0.9755005032605898), ('http://aqiniudl.tangdou.com/202005/D0249C43-5190-C475-3F5D-7EE42388FA73-10.mp4\\t28', 0.9706384703405834)], 'http://aqiniudl.tangdou.com/202005/D0249C43-5190-C475-3F5D-7EE42388FA73-10.mp4\\t25': [('http://aqiniudl.tangdou.com/202005/A7C11FD6-D846-CD4A-81BC-4A27EFB0B45C-10.mp4\\t22', 0.9171167196672914), ('http://aqiniudl.tangdou.com/202005/A7C11FD6-D846-CD4A-81BC-4A27EFB0B45C-10.mp4\\t23', 0.92839501489237), ('http://aqiniudl.tangdou.com/202005/A7C11FD6-D846-CD4A-81BC-4A27EFB0B45C-10.mp4\\t24', 0.9373351899592067), ('http://aqiniudl.tangdou.com/202005/A7C11FD6-D846-CD4A-81BC-4A27EFB0B45C-10.mp4\\t25', 0.9489661025120988), ('http://aqiniudl.tangdou.com/202005/A7C11FD6-D846-CD4A-81BC-4A27EFB0B45C-10.mp4\\t26', 0.9453139022289001), ('http://aqiniudl.tangdou.com/202005/A7C11FD6-D846-CD4A-81BC-4A27EFB0B45C-10.mp4\\t27', 0.9392071640747245), ('http://aqiniudl.tangdou.com/202005/A7C11FD6-D846-CD4A-81BC-4A27EFB0B45C-10.mp4\\t28', 0.9382183991985195), ('http://aqiniudl.tangdou.com/202004/2A6CC81A-880F-D7AA-C32D-24DDC93643BF-10.mp4\\t22', 0.9171167196672914), ('http://aqiniudl.tangdou.com/202004/2A6CC81A-880F-D7AA-C32D-24DDC93643BF-10.mp4\\t23', 0.92839501489237), ('http://aqiniudl.tangdou.com/202004/2A6CC81A-880F-D7AA-C32D-24DDC93643BF-10.mp4\\t24', 0.9373351899592067), ('http://aqiniudl.tangdou.com/202004/2A6CC81A-880F-D7AA-C32D-24DDC93643BF-10.mp4\\t25', 0.9489661025120988), ('http://aqiniudl.tangdou.com/202004/2A6CC81A-880F-D7AA-C32D-24DDC93643BF-10.mp4\\t26', 0.9453139022289001), ('http://aqiniudl.tangdou.com/202004/2A6CC81A-880F-D7AA-C32D-24DDC93643BF-10.mp4\\t27', 0.9392071640747245), ('http://aqiniudl.tangdou.com/202004/2A6CC81A-880F-D7AA-C32D-24DDC93643BF-10.mp4\\t28', 0.9382183991985195), ('http://aqiniudl.tangdou.com/202005/D0249C43-5190-C475-3F5D-7EE42388FA73-10.mp4\\t22', 0.958914699961778), ('http://aqiniudl.tangdou.com/202005/D0249C43-5190-C475-3F5D-7EE42388FA73-10.mp4\\t23', 0.9716671182490222), ('http://aqiniudl.tangdou.com/202005/D0249C43-5190-C475-3F5D-7EE42388FA73-10.mp4\\t24', 0.981223160483698), ('http://aqiniudl.tangdou.com/202005/D0249C43-5190-C475-3F5D-7EE42388FA73-10.mp4\\t26', 0.9816984398546024), ('http://aqiniudl.tangdou.com/202005/D0249C43-5190-C475-3F5D-7EE42388FA73-10.mp4\\t27', 0.9806672268273319), ('http://aqiniudl.tangdou.com/202005/D0249C43-5190-C475-3F5D-7EE42388FA73-10.mp4\\t28', 0.9773222475395629)], 'http://aqiniudl.tangdou.com/202005/D0249C43-5190-C475-3F5D-7EE42388FA73-10.mp4\\t26': [('http://aqiniudl.tangdou.com/202005/A7C11FD6-D846-CD4A-81BC-4A27EFB0B45C-10.mp4\\t22', 0.9089798950449235), ('http://aqiniudl.tangdou.com/202005/A7C11FD6-D846-CD4A-81BC-4A27EFB0B45C-10.mp4\\t23', 0.9257817614256327), ('http://aqiniudl.tangdou.com/202005/A7C11FD6-D846-CD4A-81BC-4A27EFB0B45C-10.mp4\\t24', 0.9309343154802342), ('http://aqiniudl.tangdou.com/202005/A7C11FD6-D846-CD4A-81BC-4A27EFB0B45C-10.mp4\\t25', 0.9358871617154356), ('http://aqiniudl.tangdou.com/202005/A7C11FD6-D846-CD4A-81BC-4A27EFB0B45C-10.mp4\\t26', 0.9515441646365497), ('http://aqiniudl.tangdou.com/202005/A7C11FD6-D846-CD4A-81BC-4A27EFB0B45C-10.mp4\\t27', 0.9395799123508236), ('http://aqiniudl.tangdou.com/202005/A7C11FD6-D846-CD4A-81BC-4A27EFB0B45C-10.mp4\\t28', 0.9398913499278009), ('http://aqiniudl.tangdou.com/202004/2A6CC81A-880F-D7AA-C32D-24DDC93643BF-10.mp4\\t22', 0.9089798950449235), ('http://aqiniudl.tangdou.com/202004/2A6CC81A-880F-D7AA-C32D-24DDC93643BF-10.mp4\\t23', 0.9257817614256327), ('http://aqiniudl.tangdou.com/202004/2A6CC81A-880F-D7AA-C32D-24DDC93643BF-10.mp4\\t24', 0.9309343154802342), ('http://aqiniudl.tangdou.com/202004/2A6CC81A-880F-D7AA-C32D-24DDC93643BF-10.mp4\\t25', 0.9358871617154356), ('http://aqiniudl.tangdou.com/202004/2A6CC81A-880F-D7AA-C32D-24DDC93643BF-10.mp4\\t26', 0.9515441646365497), ('http://aqiniudl.tangdou.com/202004/2A6CC81A-880F-D7AA-C32D-24DDC93643BF-10.mp4\\t27', 0.9395799123508236), ('http://aqiniudl.tangdou.com/202004/2A6CC81A-880F-D7AA-C32D-24DDC93643BF-10.mp4\\t28', 0.9398913499278009), ('http://aqiniudl.tangdou.com/202005/D0249C43-5190-C475-3F5D-7EE42388FA73-10.mp4\\t22', 0.9587685794321341), ('http://aqiniudl.tangdou.com/202005/D0249C43-5190-C475-3F5D-7EE42388FA73-10.mp4\\t23', 0.9698816487432775), ('http://aqiniudl.tangdou.com/202005/D0249C43-5190-C475-3F5D-7EE42388FA73-10.mp4\\t24', 0.9762421500638099), ('http://aqiniudl.tangdou.com/202005/D0249C43-5190-C475-3F5D-7EE42388FA73-10.mp4\\t25', 0.9816984398546024), ('http://aqiniudl.tangdou.com/202005/D0249C43-5190-C475-3F5D-7EE42388FA73-10.mp4\\t27', 0.9863134037901574), ('http://aqiniudl.tangdou.com/202005/D0249C43-5190-C475-3F5D-7EE42388FA73-10.mp4\\t28', 0.9835810595412817)], 'http://aqiniudl.tangdou.com/202005/D0249C43-5190-C475-3F5D-7EE42388FA73-10.mp4\\t27': [('http://aqiniudl.tangdou.com/202005/A7C11FD6-D846-CD4A-81BC-4A27EFB0B45C-10.mp4\\t22', 0.9106606043748955), ('http://aqiniudl.tangdou.com/202005/A7C11FD6-D846-CD4A-81BC-4A27EFB0B45C-10.mp4\\t23', 0.9301000890342855), ('http://aqiniudl.tangdou.com/202005/A7C11FD6-D846-CD4A-81BC-4A27EFB0B45C-10.mp4\\t24', 0.9368971590351027), ('http://aqiniudl.tangdou.com/202005/A7C11FD6-D846-CD4A-81BC-4A27EFB0B45C-10.mp4\\t25', 0.9422774697418275), ('http://aqiniudl.tangdou.com/202005/A7C11FD6-D846-CD4A-81BC-4A27EFB0B45C-10.mp4\\t26', 0.9530722903217728), ('http://aqiniudl.tangdou.com/202005/A7C11FD6-D846-CD4A-81BC-4A27EFB0B45C-10.mp4\\t27', 0.9524461287113019), ('http://aqiniudl.tangdou.com/202005/A7C11FD6-D846-CD4A-81BC-4A27EFB0B45C-10.mp4\\t28', 0.9527468905013836), ('http://aqiniudl.tangdou.com/202004/2A6CC81A-880F-D7AA-C32D-24DDC93643BF-10.mp4\\t22', 0.9106606043748955), ('http://aqiniudl.tangdou.com/202004/2A6CC81A-880F-D7AA-C32D-24DDC93643BF-10.mp4\\t23', 0.9301000890342855), ('http://aqiniudl.tangdou.com/202004/2A6CC81A-880F-D7AA-C32D-24DDC93643BF-10.mp4\\t24', 0.9368971590351027), ('http://aqiniudl.tangdou.com/202004/2A6CC81A-880F-D7AA-C32D-24DDC93643BF-10.mp4\\t25', 0.9422774697418275), ('http://aqiniudl.tangdou.com/202004/2A6CC81A-880F-D7AA-C32D-24DDC93643BF-10.mp4\\t26', 0.9530722903217728), ('http://aqiniudl.tangdou.com/202004/2A6CC81A-880F-D7AA-C32D-24DDC93643BF-10.mp4\\t27', 0.9524461287113019), ('http://aqiniudl.tangdou.com/202004/2A6CC81A-880F-D7AA-C32D-24DDC93643BF-10.mp4\\t28', 0.9527468905013836), ('http://aqiniudl.tangdou.com/202005/D0249C43-5190-C475-3F5D-7EE42388FA73-10.mp4\\t22', 0.9572857036420732), ('http://aqiniudl.tangdou.com/202005/D0249C43-5190-C475-3F5D-7EE42388FA73-10.mp4\\t23', 0.9705072221229458), ('http://aqiniudl.tangdou.com/202005/D0249C43-5190-C475-3F5D-7EE42388FA73-10.mp4\\t24', 0.9755005032605898), ('http://aqiniudl.tangdou.com/202005/D0249C43-5190-C475-3F5D-7EE42388FA73-10.mp4\\t25', 0.9806672268273319), ('http://aqiniudl.tangdou.com/202005/D0249C43-5190-C475-3F5D-7EE42388FA73-10.mp4\\t26', 0.9863134037901574), ('http://aqiniudl.tangdou.com/202005/D0249C43-5190-C475-3F5D-7EE42388FA73-10.mp4\\t28', 0.9869325463034782)], 'http://aqiniudl.tangdou.com/202005/D0249C43-5190-C475-3F5D-7EE42388FA73-10.mp4\\t28': [('http://aqiniudl.tangdou.com/202005/A7C11FD6-D846-CD4A-81BC-4A27EFB0B45C-10.mp4\\t22', 0.9119457062701004), ('http://aqiniudl.tangdou.com/202005/A7C11FD6-D846-CD4A-81BC-4A27EFB0B45C-10.mp4\\t23', 0.9268973376026303), ('http://aqiniudl.tangdou.com/202005/A7C11FD6-D846-CD4A-81BC-4A27EFB0B45C-10.mp4\\t24', 0.9322183793696175), ('http://aqiniudl.tangdou.com/202005/A7C11FD6-D846-CD4A-81BC-4A27EFB0B45C-10.mp4\\t25', 0.9374026542847339), ('http://aqiniudl.tangdou.com/202005/A7C11FD6-D846-CD4A-81BC-4A27EFB0B45C-10.mp4\\t26', 0.9496321905336094), ('http://aqiniudl.tangdou.com/202005/A7C11FD6-D846-CD4A-81BC-4A27EFB0B45C-10.mp4\\t27', 0.9451253443641043), ('http://aqiniudl.tangdou.com/202005/A7C11FD6-D846-CD4A-81BC-4A27EFB0B45C-10.mp4\\t28', 0.9569073020467556), ('http://aqiniudl.tangdou.com/202004/2A6CC81A-880F-D7AA-C32D-24DDC93643BF-10.mp4\\t22', 0.9119457062701004), ('http://aqiniudl.tangdou.com/202004/2A6CC81A-880F-D7AA-C32D-24DDC93643BF-10.mp4\\t23', 0.9268973376026303), ('http://aqiniudl.tangdou.com/202004/2A6CC81A-880F-D7AA-C32D-24DDC93643BF-10.mp4\\t24', 0.9322183793696175), ('http://aqiniudl.tangdou.com/202004/2A6CC81A-880F-D7AA-C32D-24DDC93643BF-10.mp4\\t25', 0.9374026542847339), ('http://aqiniudl.tangdou.com/202004/2A6CC81A-880F-D7AA-C32D-24DDC93643BF-10.mp4\\t26', 0.9496321905336094), ('http://aqiniudl.tangdou.com/202004/2A6CC81A-880F-D7AA-C32D-24DDC93643BF-10.mp4\\t27', 0.9451253443641043), ('http://aqiniudl.tangdou.com/202004/2A6CC81A-880F-D7AA-C32D-24DDC93643BF-10.mp4\\t28', 0.9569073020467556), ('http://aqiniudl.tangdou.com/202005/D0249C43-5190-C475-3F5D-7EE42388FA73-10.mp4\\t22', 0.9538537506084557), ('http://aqiniudl.tangdou.com/202005/D0249C43-5190-C475-3F5D-7EE42388FA73-10.mp4\\t23', 0.9670699187161881), ('http://aqiniudl.tangdou.com/202005/D0249C43-5190-C475-3F5D-7EE42388FA73-10.mp4\\t24', 0.9706384703405834), ('http://aqiniudl.tangdou.com/202005/D0249C43-5190-C475-3F5D-7EE42388FA73-10.mp4\\t25', 0.9773222475395629), ('http://aqiniudl.tangdou.com/202005/D0249C43-5190-C475-3F5D-7EE42388FA73-10.mp4\\t26', 0.9835810595412817), ('http://aqiniudl.tangdou.com/202005/D0249C43-5190-C475-3F5D-7EE42388FA73-10.mp4\\t27', 0.9869325463034782)], 'http://aqiniudl.tangdou.com/202005/D0249C43-5190-C475-3F5D-7EE42388FA73-10.mp4\\t29': [('http://aqiniudl.tangdou.com/202005/A7C11FD6-D846-CD4A-81BC-4A27EFB0B45C-10.mp4\\t29', 0.9749872228647614), ('http://aqiniudl.tangdou.com/202005/A7C11FD6-D846-CD4A-81BC-4A27EFB0B45C-10.mp4\\t30', 0.9418503817589083), ('http://aqiniudl.tangdou.com/202004/2A6CC81A-880F-D7AA-C32D-24DDC93643BF-10.mp4\\t29', 0.9749872228647614), ('http://aqiniudl.tangdou.com/202004/2A6CC81A-880F-D7AA-C32D-24DDC93643BF-10.mp4\\t30', 0.9418503817589083), ('http://aqiniudl.tangdou.com/202005/D0249C43-5190-C475-3F5D-7EE42388FA73-10.mp4\\t30', 0.9519152411053851), ('http://aqiniudl.tangdou.com/202005/D0249C43-5190-C475-3F5D-7EE42388FA73-10.mp4\\t31', 0.9021967975774545)], 'http://aqiniudl.tangdou.com/202005/D0249C43-5190-C475-3F5D-7EE42388FA73-10.mp4\\t30': [('http://aqiniudl.tangdou.com/202005/A7C11FD6-D846-CD4A-81BC-4A27EFB0B45C-10.mp4\\t29', 0.9361024691663535), ('http://aqiniudl.tangdou.com/202005/A7C11FD6-D846-CD4A-81BC-4A27EFB0B45C-10.mp4\\t30', 0.9727964551823969), ('http://aqiniudl.tangdou.com/202005/A7C11FD6-D846-CD4A-81BC-4A27EFB0B45C-10.mp4\\t31', 0.9314439003567179), ('http://aqiniudl.tangdou.com/202005/A7C11FD6-D846-CD4A-81BC-4A27EFB0B45C-10.mp4\\t32', 0.9079345003475547), ('http://aqiniudl.tangdou.com/202005/A7C11FD6-D846-CD4A-81BC-4A27EFB0B45C-10.mp4\\t33', 0.9083020645080476), ('http://aqiniudl.tangdou.com/202005/A7C11FD6-D846-CD4A-81BC-4A27EFB0B45C-10.mp4\\t34', 0.9046881958011269), ('http://aqiniudl.tangdou.com/202005/A7C11FD6-D846-CD4A-81BC-4A27EFB0B45C-10.mp4\\t35', 0.9062776627607819), ('http://aqiniudl.tangdou.com/202005/A7C11FD6-D846-CD4A-81BC-4A27EFB0B45C-10.mp4\\t36', 0.9089780621125239), ('http://aqiniudl.tangdou.com/202004/2A6CC81A-880F-D7AA-C32D-24DDC93643BF-10.mp4\\t29', 0.9361024691663535), ('http://aqiniudl.tangdou.com/202004/2A6CC81A-880F-D7AA-C32D-24DDC93643BF-10.mp4\\t30', 0.9727964551823969), ('http://aqiniudl.tangdou.com/202004/2A6CC81A-880F-D7AA-C32D-24DDC93643BF-10.mp4\\t31', 0.9314439003567179), ('http://aqiniudl.tangdou.com/202004/2A6CC81A-880F-D7AA-C32D-24DDC93643BF-10.mp4\\t32', 0.9079345003475547), ('http://aqiniudl.tangdou.com/202004/2A6CC81A-880F-D7AA-C32D-24DDC93643BF-10.mp4\\t33', 0.9083020645080476), ('http://aqiniudl.tangdou.com/202004/2A6CC81A-880F-D7AA-C32D-24DDC93643BF-10.mp4\\t34', 0.9046881958011269), ('http://aqiniudl.tangdou.com/202004/2A6CC81A-880F-D7AA-C32D-24DDC93643BF-10.mp4\\t35', 0.9062776627607819), ('http://aqiniudl.tangdou.com/202004/2A6CC81A-880F-D7AA-C32D-24DDC93643BF-10.mp4\\t36', 0.9089780621125239), ('http://aqiniudl.tangdou.com/202005/D0249C43-5190-C475-3F5D-7EE42388FA73-10.mp4\\t29', 0.9519152411053851), ('http://aqiniudl.tangdou.com/202005/D0249C43-5190-C475-3F5D-7EE42388FA73-10.mp4\\t31', 0.9390220707693655), ('http://aqiniudl.tangdou.com/202005/D0249C43-5190-C475-3F5D-7EE42388FA73-10.mp4\\t32', 0.9055626339848731), ('http://aqiniudl.tangdou.com/202005/D0249C43-5190-C475-3F5D-7EE42388FA73-10.mp4\\t33', 0.9126602155010046), ('http://aqiniudl.tangdou.com/202005/D0249C43-5190-C475-3F5D-7EE42388FA73-10.mp4\\t34', 0.9108404984302801), ('http://aqiniudl.tangdou.com/202005/D0249C43-5190-C475-3F5D-7EE42388FA73-10.mp4\\t35', 0.9145415186576021), ('http://aqiniudl.tangdou.com/202005/D0249C43-5190-C475-3F5D-7EE42388FA73-10.mp4\\t36', 0.912488702544453)], 'http://aqiniudl.tangdou.com/202005/D0249C43-5190-C475-3F5D-7EE42388FA73-10.mp4\\t31': [('http://aqiniudl.tangdou.com/202005/A7C11FD6-D846-CD4A-81BC-4A27EFB0B45C-10.mp4\\t30', 0.9129105029679255), ('http://aqiniudl.tangdou.com/202005/A7C11FD6-D846-CD4A-81BC-4A27EFB0B45C-10.mp4\\t31', 0.9718049183382965), ('http://aqiniudl.tangdou.com/202005/A7C11FD6-D846-CD4A-81BC-4A27EFB0B45C-10.mp4\\t32', 0.9583071856743355), ('http://aqiniudl.tangdou.com/202005/A7C11FD6-D846-CD4A-81BC-4A27EFB0B45C-10.mp4\\t33', 0.9498034721821738), ('http://aqiniudl.tangdou.com/202005/A7C11FD6-D846-CD4A-81BC-4A27EFB0B45C-10.mp4\\t34', 0.9551670741574686), ('http://aqiniudl.tangdou.com/202005/A7C11FD6-D846-CD4A-81BC-4A27EFB0B45C-10.mp4\\t35', 0.9547850670800789), ('http://aqiniudl.tangdou.com/202005/A7C11FD6-D846-CD4A-81BC-4A27EFB0B45C-10.mp4\\t36', 0.9548422445650534), ('http://aqiniudl.tangdou.com/202004/2A6CC81A-880F-D7AA-C32D-24DDC93643BF-10.mp4\\t30', 0.9129105029679255), ('http://aqiniudl.tangdou.com/202004/2A6CC81A-880F-D7AA-C32D-24DDC93643BF-10.mp4\\t31', 0.9718049183382965), ('http://aqiniudl.tangdou.com/202004/2A6CC81A-880F-D7AA-C32D-24DDC93643BF-10.mp4\\t32', 0.9583071856743355), ('http://aqiniudl.tangdou.com/202004/2A6CC81A-880F-D7AA-C32D-24DDC93643BF-10.mp4\\t33', 0.9498034721821738), ('http://aqiniudl.tangdou.com/202004/2A6CC81A-880F-D7AA-C32D-24DDC93643BF-10.mp4\\t34', 0.9551670741574686), ('http://aqiniudl.tangdou.com/202004/2A6CC81A-880F-D7AA-C32D-24DDC93643BF-10.mp4\\t35', 0.9547850670800789), ('http://aqiniudl.tangdou.com/202004/2A6CC81A-880F-D7AA-C32D-24DDC93643BF-10.mp4\\t36', 0.9548422445650534), ('http://aqiniudl.tangdou.com/202005/D0249C43-5190-C475-3F5D-7EE42388FA73-10.mp4\\t29', 0.9021967975774545), ('http://aqiniudl.tangdou.com/202005/D0249C43-5190-C475-3F5D-7EE42388FA73-10.mp4\\t30', 0.9390220707693655), ('http://aqiniudl.tangdou.com/202005/D0249C43-5190-C475-3F5D-7EE42388FA73-10.mp4\\t32', 0.9673788127257743), ('http://aqiniudl.tangdou.com/202005/D0249C43-5190-C475-3F5D-7EE42388FA73-10.mp4\\t33', 0.9643890726645791), ('http://aqiniudl.tangdou.com/202005/D0249C43-5190-C475-3F5D-7EE42388FA73-10.mp4\\t34', 0.9664114008404745), ('http://aqiniudl.tangdou.com/202005/D0249C43-5190-C475-3F5D-7EE42388FA73-10.mp4\\t35', 0.9661398549474679), ('http://aqiniudl.tangdou.com/202005/D0249C43-5190-C475-3F5D-7EE42388FA73-10.mp4\\t36', 0.9668487798273079)], 'http://aqiniudl.tangdou.com/202005/D0249C43-5190-C475-3F5D-7EE42388FA73-10.mp4\\t32': [('http://aqiniudl.tangdou.com/202005/A7C11FD6-D846-CD4A-81BC-4A27EFB0B45C-10.mp4\\t31', 0.9385714067723657), ('http://aqiniudl.tangdou.com/202005/A7C11FD6-D846-CD4A-81BC-4A27EFB0B45C-10.mp4\\t32', 0.9686259404537378), ('http://aqiniudl.tangdou.com/202005/A7C11FD6-D846-CD4A-81BC-4A27EFB0B45C-10.mp4\\t33', 0.9539787386005629), ('http://aqiniudl.tangdou.com/202005/A7C11FD6-D846-CD4A-81BC-4A27EFB0B45C-10.mp4\\t34', 0.9645524740167776), ('http://aqiniudl.tangdou.com/202005/A7C11FD6-D846-CD4A-81BC-4A27EFB0B45C-10.mp4\\t35', 0.9529711788078387), ('http://aqiniudl.tangdou.com/202005/A7C11FD6-D846-CD4A-81BC-4A27EFB0B45C-10.mp4\\t36', 0.9483997729129185), ('http://aqiniudl.tangdou.com/202004/2A6CC81A-880F-D7AA-C32D-24DDC93643BF-10.mp4\\t31', 0.9385714067723657), ('http://aqiniudl.tangdou.com/202004/2A6CC81A-880F-D7AA-C32D-24DDC93643BF-10.mp4\\t32', 0.9686259404537378), ('http://aqiniudl.tangdou.com/202004/2A6CC81A-880F-D7AA-C32D-24DDC93643BF-10.mp4\\t33', 0.9539787386005629), ('http://aqiniudl.tangdou.com/202004/2A6CC81A-880F-D7AA-C32D-24DDC93643BF-10.mp4\\t34', 0.9645524740167776), ('http://aqiniudl.tangdou.com/202004/2A6CC81A-880F-D7AA-C32D-24DDC93643BF-10.mp4\\t35', 0.9529711788078387), ('http://aqiniudl.tangdou.com/202004/2A6CC81A-880F-D7AA-C32D-24DDC93643BF-10.mp4\\t36', 0.9483997729129185), ('http://aqiniudl.tangdou.com/202005/D0249C43-5190-C475-3F5D-7EE42388FA73-10.mp4\\t30', 0.9055626339848731), ('http://aqiniudl.tangdou.com/202005/D0249C43-5190-C475-3F5D-7EE42388FA73-10.mp4\\t31', 0.9673788127257743), ('http://aqiniudl.tangdou.com/202005/D0249C43-5190-C475-3F5D-7EE42388FA73-10.mp4\\t33', 0.9849195487881457), ('http://aqiniudl.tangdou.com/202005/D0249C43-5190-C475-3F5D-7EE42388FA73-10.mp4\\t34', 0.9859085412552211), ('http://aqiniudl.tangdou.com/202005/D0249C43-5190-C475-3F5D-7EE42388FA73-10.mp4\\t35', 0.9760612426667575), ('http://aqiniudl.tangdou.com/202005/D0249C43-5190-C475-3F5D-7EE42388FA73-10.mp4\\t36', 0.975341424324142)], 'http://aqiniudl.tangdou.com/202005/D0249C43-5190-C475-3F5D-7EE42388FA73-10.mp4\\t33': [('http://aqiniudl.tangdou.com/202005/A7C11FD6-D846-CD4A-81BC-4A27EFB0B45C-10.mp4\\t31', 0.9387688286138868), ('http://aqiniudl.tangdou.com/202005/A7C11FD6-D846-CD4A-81BC-4A27EFB0B45C-10.mp4\\t32', 0.9660352858307433), ('http://aqiniudl.tangdou.com/202005/A7C11FD6-D846-CD4A-81BC-4A27EFB0B45C-10.mp4\\t33', 0.9661357152692859), ('http://aqiniudl.tangdou.com/202005/A7C11FD6-D846-CD4A-81BC-4A27EFB0B45C-10.mp4\\t34', 0.9660379136704926), ('http://aqiniudl.tangdou.com/202005/A7C11FD6-D846-CD4A-81BC-4A27EFB0B45C-10.mp4\\t35', 0.958930654419969), ('http://aqiniudl.tangdou.com/202005/A7C11FD6-D846-CD4A-81BC-4A27EFB0B45C-10.mp4\\t36', 0.9520979134980109), ('http://aqiniudl.tangdou.com/202004/2A6CC81A-880F-D7AA-C32D-24DDC93643BF-10.mp4\\t31', 0.9387688286138868), ('http://aqiniudl.tangdou.com/202004/2A6CC81A-880F-D7AA-C32D-24DDC93643BF-10.mp4\\t32', 0.9660352858307433), ('http://aqiniudl.tangdou.com/202004/2A6CC81A-880F-D7AA-C32D-24DDC93643BF-10.mp4\\t33', 0.9661357152692859), ('http://aqiniudl.tangdou.com/202004/2A6CC81A-880F-D7AA-C32D-24DDC93643BF-10.mp4\\t34', 0.9660379136704926), ('http://aqiniudl.tangdou.com/202004/2A6CC81A-880F-D7AA-C32D-24DDC93643BF-10.mp4\\t35', 0.958930654419969), ('http://aqiniudl.tangdou.com/202004/2A6CC81A-880F-D7AA-C32D-24DDC93643BF-10.mp4\\t36', 0.9520979134980109), ('http://aqiniudl.tangdou.com/202005/D0249C43-5190-C475-3F5D-7EE42388FA73-10.mp4\\t30', 0.9126602155010046), ('http://aqiniudl.tangdou.com/202005/D0249C43-5190-C475-3F5D-7EE42388FA73-10.mp4\\t31', 0.9643890726645791), ('http://aqiniudl.tangdou.com/202005/D0249C43-5190-C475-3F5D-7EE42388FA73-10.mp4\\t32', 0.9849195487881457), ('http://aqiniudl.tangdou.com/202005/D0249C43-5190-C475-3F5D-7EE42388FA73-10.mp4\\t34', 0.9871133344952977), ('http://aqiniudl.tangdou.com/202005/D0249C43-5190-C475-3F5D-7EE42388FA73-10.mp4\\t35', 0.9813227308794694), ('http://aqiniudl.tangdou.com/202005/D0249C43-5190-C475-3F5D-7EE42388FA73-10.mp4\\t36', 0.9773489299757616)], 'http://aqiniudl.tangdou.com/202005/D0249C43-5190-C475-3F5D-7EE42388FA73-10.mp4\\t34': [('http://aqiniudl.tangdou.com/202005/A7C11FD6-D846-CD4A-81BC-4A27EFB0B45C-10.mp4\\t31', 0.9391945464479733), ('http://aqiniudl.tangdou.com/202005/A7C11FD6-D846-CD4A-81BC-4A27EFB0B45C-10.mp4\\t32', 0.9633912545363514), ('http://aqiniudl.tangdou.com/202005/A7C11FD6-D846-CD4A-81BC-4A27EFB0B45C-10.mp4\\t33', 0.9563006068196144), ('http://aqiniudl.tangdou.com/202005/A7C11FD6-D846-CD4A-81BC-4A27EFB0B45C-10.mp4\\t34', 0.9697019009972268), ('http://aqiniudl.tangdou.com/202005/A7C11FD6-D846-CD4A-81BC-4A27EFB0B45C-10.mp4\\t35', 0.9626388749816811), ('http://aqiniudl.tangdou.com/202005/A7C11FD6-D846-CD4A-81BC-4A27EFB0B45C-10.mp4\\t36', 0.9539353277901782), ('http://aqiniudl.tangdou.com/202004/2A6CC81A-880F-D7AA-C32D-24DDC93643BF-10.mp4\\t31', 0.9391945464479733), ('http://aqiniudl.tangdou.com/202004/2A6CC81A-880F-D7AA-C32D-24DDC93643BF-10.mp4\\t32', 0.9633912545363514), ('http://aqiniudl.tangdou.com/202004/2A6CC81A-880F-D7AA-C32D-24DDC93643BF-10.mp4\\t33', 0.9563006068196144), ('http://aqiniudl.tangdou.com/202004/2A6CC81A-880F-D7AA-C32D-24DDC93643BF-10.mp4\\t34', 0.9697019009972268), ('http://aqiniudl.tangdou.com/202004/2A6CC81A-880F-D7AA-C32D-24DDC93643BF-10.mp4\\t35', 0.9626388749816811), ('http://aqiniudl.tangdou.com/202004/2A6CC81A-880F-D7AA-C32D-24DDC93643BF-10.mp4\\t36', 0.9539353277901782), ('http://aqiniudl.tangdou.com/202005/D0249C43-5190-C475-3F5D-7EE42388FA73-10.mp4\\t30', 0.9108404984302801), ('http://aqiniudl.tangdou.com/202005/D0249C43-5190-C475-3F5D-7EE42388FA73-10.mp4\\t31', 0.9664114008404745), ('http://aqiniudl.tangdou.com/202005/D0249C43-5190-C475-3F5D-7EE42388FA73-10.mp4\\t32', 0.9859085412552211), ('http://aqiniudl.tangdou.com/202005/D0249C43-5190-C475-3F5D-7EE42388FA73-10.mp4\\t33', 0.9871133344952977), ('http://aqiniudl.tangdou.com/202005/D0249C43-5190-C475-3F5D-7EE42388FA73-10.mp4\\t35', 0.98684025272767), ('http://aqiniudl.tangdou.com/202005/D0249C43-5190-C475-3F5D-7EE42388FA73-10.mp4\\t36', 0.9823030696835358)], 'http://aqiniudl.tangdou.com/202005/D0249C43-5190-C475-3F5D-7EE42388FA73-10.mp4\\t35': [('http://aqiniudl.tangdou.com/202005/A7C11FD6-D846-CD4A-81BC-4A27EFB0B45C-10.mp4\\t31', 0.9368265497597607), ('http://aqiniudl.tangdou.com/202005/A7C11FD6-D846-CD4A-81BC-4A27EFB0B45C-10.mp4\\t32', 0.9571694600729512), ('http://aqiniudl.tangdou.com/202005/A7C11FD6-D846-CD4A-81BC-4A27EFB0B45C-10.mp4\\t33', 0.9524802100124091), ('http://aqiniudl.tangdou.com/202005/A7C11FD6-D846-CD4A-81BC-4A27EFB0B45C-10.mp4\\t34', 0.9612475627035132), ('http://aqiniudl.tangdou.com/202005/A7C11FD6-D846-CD4A-81BC-4A27EFB0B45C-10.mp4\\t35', 0.9678330355473781), ('http://aqiniudl.tangdou.com/202005/A7C11FD6-D846-CD4A-81BC-4A27EFB0B45C-10.mp4\\t36', 0.9618731414101533), ('http://aqiniudl.tangdou.com/202004/2A6CC81A-880F-D7AA-C32D-24DDC93643BF-10.mp4\\t31', 0.9368265497597607), ('http://aqiniudl.tangdou.com/202004/2A6CC81A-880F-D7AA-C32D-24DDC93643BF-10.mp4\\t32', 0.9571694600729512), ('http://aqiniudl.tangdou.com/202004/2A6CC81A-880F-D7AA-C32D-24DDC93643BF-10.mp4\\t33', 0.9524802100124091), ('http://aqiniudl.tangdou.com/202004/2A6CC81A-880F-D7AA-C32D-24DDC93643BF-10.mp4\\t34', 0.9612475627035132), ('http://aqiniudl.tangdou.com/202004/2A6CC81A-880F-D7AA-C32D-24DDC93643BF-10.mp4\\t35', 0.9678330355473781), ('http://aqiniudl.tangdou.com/202004/2A6CC81A-880F-D7AA-C32D-24DDC93643BF-10.mp4\\t36', 0.9618731414101533), ('http://aqiniudl.tangdou.com/202005/D0249C43-5190-C475-3F5D-7EE42388FA73-10.mp4\\t30', 0.9145415186576021), ('http://aqiniudl.tangdou.com/202005/D0249C43-5190-C475-3F5D-7EE42388FA73-10.mp4\\t31', 0.9661398549474679), ('http://aqiniudl.tangdou.com/202005/D0249C43-5190-C475-3F5D-7EE42388FA73-10.mp4\\t32', 0.9760612426667575), ('http://aqiniudl.tangdou.com/202005/D0249C43-5190-C475-3F5D-7EE42388FA73-10.mp4\\t33', 0.9813227308794694), ('http://aqiniudl.tangdou.com/202005/D0249C43-5190-C475-3F5D-7EE42388FA73-10.mp4\\t34', 0.98684025272767), ('http://aqiniudl.tangdou.com/202005/D0249C43-5190-C475-3F5D-7EE42388FA73-10.mp4\\t36', 0.989514611591274)], 'http://aqiniudl.tangdou.com/202005/D0249C43-5190-C475-3F5D-7EE42388FA73-10.mp4\\t36': [('http://aqiniudl.tangdou.com/202005/A7C11FD6-D846-CD4A-81BC-4A27EFB0B45C-10.mp4\\t31', 0.938042874780895), ('http://aqiniudl.tangdou.com/202005/A7C11FD6-D846-CD4A-81BC-4A27EFB0B45C-10.mp4\\t32', 0.9570082710573644), ('http://aqiniudl.tangdou.com/202005/A7C11FD6-D846-CD4A-81BC-4A27EFB0B45C-10.mp4\\t33', 0.9520292446367055), ('http://aqiniudl.tangdou.com/202005/A7C11FD6-D846-CD4A-81BC-4A27EFB0B45C-10.mp4\\t34', 0.9602304292367366), ('http://aqiniudl.tangdou.com/202005/A7C11FD6-D846-CD4A-81BC-4A27EFB0B45C-10.mp4\\t35', 0.9654679871617633), ('http://aqiniudl.tangdou.com/202005/A7C11FD6-D846-CD4A-81BC-4A27EFB0B45C-10.mp4\\t36', 0.9687344950837457), ('http://aqiniudl.tangdou.com/202004/2A6CC81A-880F-D7AA-C32D-24DDC93643BF-10.mp4\\t31', 0.938042874780895), ('http://aqiniudl.tangdou.com/202004/2A6CC81A-880F-D7AA-C32D-24DDC93643BF-10.mp4\\t32', 0.9570082710573644), ('http://aqiniudl.tangdou.com/202004/2A6CC81A-880F-D7AA-C32D-24DDC93643BF-10.mp4\\t33', 0.9520292446367055), ('http://aqiniudl.tangdou.com/202004/2A6CC81A-880F-D7AA-C32D-24DDC93643BF-10.mp4\\t34', 0.9602304292367366), ('http://aqiniudl.tangdou.com/202004/2A6CC81A-880F-D7AA-C32D-24DDC93643BF-10.mp4\\t35', 0.9654679871617633), ('http://aqiniudl.tangdou.com/202004/2A6CC81A-880F-D7AA-C32D-24DDC93643BF-10.mp4\\t36', 0.9687344950837457), ('http://aqiniudl.tangdou.com/202005/D0249C43-5190-C475-3F5D-7EE42388FA73-10.mp4\\t30', 0.912488702544453), ('http://aqiniudl.tangdou.com/202005/D0249C43-5190-C475-3F5D-7EE42388FA73-10.mp4\\t31', 0.9668487798273079), ('http://aqiniudl.tangdou.com/202005/D0249C43-5190-C475-3F5D-7EE42388FA73-10.mp4\\t32', 0.975341424324142), ('http://aqiniudl.tangdou.com/202005/D0249C43-5190-C475-3F5D-7EE42388FA73-10.mp4\\t33', 0.9773489299757616), ('http://aqiniudl.tangdou.com/202005/D0249C43-5190-C475-3F5D-7EE42388FA73-10.mp4\\t34', 0.9823030696835358), ('http://aqiniudl.tangdou.com/202005/D0249C43-5190-C475-3F5D-7EE42388FA73-10.mp4\\t35', 0.989514611591274)], 'http://aqiniudl.tangdou.com/202005/D0249C43-5190-C475-3F5D-7EE42388FA73-10.mp4\\t37': [('http://aqiniudl.tangdou.com/202005/A7C11FD6-D846-CD4A-81BC-4A27EFB0B45C-10.mp4\\t37', 0.9678946256910758), ('http://aqiniudl.tangdou.com/202005/A7C11FD6-D846-CD4A-81BC-4A27EFB0B45C-10.mp4\\t38', 0.9575510242255703), ('http://aqiniudl.tangdou.com/202005/A7C11FD6-D846-CD4A-81BC-4A27EFB0B45C-10.mp4\\t39', 0.9511900537357373), ('http://aqiniudl.tangdou.com/202004/2A6CC81A-880F-D7AA-C32D-24DDC93643BF-10.mp4\\t37', 0.9678946256910758), ('http://aqiniudl.tangdou.com/202004/2A6CC81A-880F-D7AA-C32D-24DDC93643BF-10.mp4\\t38', 0.9575510242255703), ('http://aqiniudl.tangdou.com/202004/2A6CC81A-880F-D7AA-C32D-24DDC93643BF-10.mp4\\t39', 0.9511900537357373), ('http://aqiniudl.tangdou.com/202005/D0249C43-5190-C475-3F5D-7EE42388FA73-10.mp4\\t38', 0.9783525091392066), ('http://aqiniudl.tangdou.com/202005/D0249C43-5190-C475-3F5D-7EE42388FA73-10.mp4\\t39', 0.9555963183347729)], 'http://aqiniudl.tangdou.com/202005/D0249C43-5190-C475-3F5D-7EE42388FA73-10.mp4\\t38': [('http://aqiniudl.tangdou.com/202005/A7C11FD6-D846-CD4A-81BC-4A27EFB0B45C-10.mp4\\t37', 0.9492862901829382), ('http://aqiniudl.tangdou.com/202005/A7C11FD6-D846-CD4A-81BC-4A27EFB0B45C-10.mp4\\t38', 0.9703131167279909), ('http://aqiniudl.tangdou.com/202005/A7C11FD6-D846-CD4A-81BC-4A27EFB0B45C-10.mp4\\t39', 0.9629753703589079), ('http://aqiniudl.tangdou.com/202004/2A6CC81A-880F-D7AA-C32D-24DDC93643BF-10.mp4\\t37', 0.9492862901829382), ('http://aqiniudl.tangdou.com/202004/2A6CC81A-880F-D7AA-C32D-24DDC93643BF-10.mp4\\t38', 0.9703131167279909), ('http://aqiniudl.tangdou.com/202004/2A6CC81A-880F-D7AA-C32D-24DDC93643BF-10.mp4\\t39', 0.9629753703589079), ('http://aqiniudl.tangdou.com/202005/D0249C43-5190-C475-3F5D-7EE42388FA73-10.mp4\\t37', 0.9783525091392066), ('http://aqiniudl.tangdou.com/202005/D0249C43-5190-C475-3F5D-7EE42388FA73-10.mp4\\t39', 0.96836331000726)], 'http://aqiniudl.tangdou.com/202005/D0249C43-5190-C475-3F5D-7EE42388FA73-10.mp4\\t39': [('http://aqiniudl.tangdou.com/202005/A7C11FD6-D846-CD4A-81BC-4A27EFB0B45C-10.mp4\\t37', 0.9285383458413126), ('http://aqiniudl.tangdou.com/202005/A7C11FD6-D846-CD4A-81BC-4A27EFB0B45C-10.mp4\\t38', 0.9482410342776318), ('http://aqiniudl.tangdou.com/202005/A7C11FD6-D846-CD4A-81BC-4A27EFB0B45C-10.mp4\\t39', 0.9721080561167931), ('http://aqiniudl.tangdou.com/202004/2A6CC81A-880F-D7AA-C32D-24DDC93643BF-10.mp4\\t37', 0.9285383458413126), ('http://aqiniudl.tangdou.com/202004/2A6CC81A-880F-D7AA-C32D-24DDC93643BF-10.mp4\\t38', 0.9482410342776318), ('http://aqiniudl.tangdou.com/202004/2A6CC81A-880F-D7AA-C32D-24DDC93643BF-10.mp4\\t39', 0.9721080561167931), ('http://aqiniudl.tangdou.com/202005/D0249C43-5190-C475-3F5D-7EE42388FA73-10.mp4\\t37', 0.9555963183347729), ('http://aqiniudl.tangdou.com/202005/D0249C43-5190-C475-3F5D-7EE42388FA73-10.mp4\\t38', 0.96836331000726)]}\n",
    "#print(abc)   \n",
    "print(len(abc.keys()))\n",
    "cnt = 0.9765388422942951\n",
    "for key in abc.keys():\n",
    "    pre_fix, suffix = key.split('\\t')\n",
    "    self_filter = [ele for ele in abc[key] if pre_fix not in ele[0]]\n",
    "    if self_filter:\n",
    "        cnt += 1\n",
    "int(cnt/2)/20"
   ]
  },
  {
   "cell_type": "code",
   "execution_count": 61,
   "metadata": {},
   "outputs": [],
   "source": [
    "r = redis.Redis(host='10.42.158.47', port=6379)\n",
    "key = 'video_feature_1500675673760'\n",
    "abc = r.get(key)\n",
    "import pickle\n",
    "to_pickle = './abc.pkl'\n",
    "pickle.dump(abc, open(to_pickle,'wb'),protocol=2)\n",
    "\n"
   ]
  },
  {
   "cell_type": "markdown",
   "metadata": {},
   "source": [
    "# 过滤盗播视频 需要抽特征的"
   ]
  },
  {
   "cell_type": "code",
   "execution_count": 1,
   "metadata": {},
   "outputs": [],
   "source": [
    "import pandas as pd \n",
    "df1 = pd.read_csv('/Users/jiangcx/Downloads/vid_for_video.csv')\n",
    "df2 = pd.read_csv('/Users/jiangcx/Documents/vid_for_video(2).csv')\n",
    "set1 = set(df1['vid'].tolist())\n",
    "set2 = set( df2[   (df2['teach']=='教学') & (df2['star']>=3)  & (df2['duration']>=40) ]['vid'].tolist())\n",
    "df3 = df2[(df2['teach']=='教学') & (df2['star']>=3)  & (df2['duration']>=40)]\n",
    "myset = set2.difference(set1) #173311\n",
    "df3[df3['vid'].isin(myset)].reset_index().to_csv('/Users/jiangcx/Documents/vid_for_video_filted.csv')\n",
    "\n"
   ]
  },
  {
   "cell_type": "code",
   "execution_count": 25,
   "metadata": {},
   "outputs": [],
   "source": [
    "%%time\n",
    "# 快速解析一天数据,bad case：训练吧\n",
    "import json\n",
    "import requests\n",
    "import pandas as pd \n",
    "\n",
    "def dup(jsonbody):\n",
    "    #url = \"http://10.19.21.255:9005/polls/dup_detector\"\n",
    "    #url = \"http://10.19.6.41:9003/polls/dup_detector\"\n",
    "    #url = \"http://127.0.0.1:8000/polls/dup_detector\"\n",
    "    url = \"http://10.10.5.41:9003/polls/dup_detector\"\n",
    "    url = \"http://10.10.25.182:9003/polls/dup_detector\"\n",
    "    resp1 = requests.post(url, data=jsonbody)\n",
    "    return resp1.text\n",
    "\n",
    "\n",
    "df = pd.read_csv('/Users/jiangcx/Documents/jianshenba.csv')\n",
    "df = df.iloc[230:]\n",
    "with open('/Users/jiangcx/Documents/jianshen_pro.txt', 'a', encoding='utf-8') as f: \n",
    "    for ind, row in df.iterrows(): \n",
    "        #print(row['vid'])\n",
    "        parms = {\"vid\":row['vid'], \"title\":row['title'], \"uname\":row['uname'] ,\"teacher_id\": '', 'mp3_name': '', 'createtime': row['createtime']}\n",
    "        res1 = dup(parms)\n",
    "        res = json.loads(res1)\n",
    "        print(parms)\n",
    "        if res['reprint']['img_reprint_flag'] == 1:\n",
    "#             print(\"*\"*50)\n",
    "#             print(parms) \n",
    "#             print(res1)\n",
    "            f.write(res1+'\\n')\n"
   ]
  },
  {
   "cell_type": "code",
   "execution_count": 6,
   "metadata": {},
   "outputs": [
    {
     "name": "stdout",
     "output_type": "stream",
     "text": [
      "1500678648721\n",
      "http://aimg.tangdou.com/public/video/2021/0101/20210101235122_173559.jpg!260\n",
      "http://aqiniudl.tangdou.com/202101/622A1FAE-471F-BE13-11F5-431D810C0946-10.mp4\n"
     ]
    },
    {
     "data": {
      "text/plain": [
       "'http://aimg.tangdou.com/public/video/2021/0101/20210101235122_173559.jpg!260'"
      ]
     },
     "execution_count": 6,
     "metadata": {},
     "output_type": "execute_result"
    }
   ],
   "source": [
    "import redis\n",
    "import matplotlib.pyplot as plt\n",
    "import numpy as np\n",
    "import json\n",
    "from PIL import Image as pil_image\n",
    "import urllib\n",
    "import io\n",
    "import cv2 \n",
    "r = redis.Redis(host='10.42.158.47', port=6379)\n",
    "def func(vid):\n",
    "    print(vid)\n",
    "    key = \"url_{}\".format(vid)\n",
    "    abc = r.get(key)\n",
    "    pic = 'http://aimg.tangdou.com' + json.loads(abc)['pic']\n",
    "    print(pic)\n",
    "    video = 'http://aqiniudl.tangdou.com/' + json.loads(abc)['videourl']+'-10.mp4'\n",
    "    print(video)\n",
    "    return pic\n",
    "func(1500678648721)"
   ]
  },
  {
   "cell_type": "code",
   "execution_count": null,
   "metadata": {},
   "outputs": [],
   "source": []
  },
  {
   "cell_type": "code",
   "execution_count": 1,
   "metadata": {},
   "outputs": [],
   "source": [
    "# %matplotlib inline\n",
    "# import redis\n",
    "# import matplotlib.pyplot as plt\n",
    "# import numpy as np\n",
    "# import json\n",
    "# from PIL import Image as pil_image\n",
    "# import urllib\n",
    "# import io\n",
    "# import cv2 \n",
    "# r = redis.Redis(host='10.42.158.47', port=6379)\n",
    "# def func(vid):\n",
    "#     print(vid)\n",
    "#     key = \"url_{}\".format(vid)\n",
    "#     abc = r.get(key)\n",
    "#     pic = 'http://aimg.tangdou.com' + json.loads(abc)['pic']\n",
    "#     print(pic)\n",
    "#     video = 'http://aqiniudl.tangdou.com/' + json.loads(abc)['videourl']+'-10.mp4'\n",
    "#     print(video)\n",
    "#     return pic\n",
    "    \n",
    "# def plot_images(images, cls_true, cls_pred=None):\n",
    "#     num = len(images)\n",
    "#     # Create figure with 3x3 sub-plots.\n",
    "#     fig, axes = plt.subplots(1, num)\n",
    "#     fig.subplots_adjust(hspace=0.3, wspace=0.3)\n",
    "\n",
    "#     for i, ax in enumerate(axes.flat):\n",
    "#         # Plot image.\n",
    "#         ax.imshow(images[i], cmap='binary')\n",
    "\n",
    "#         # Show true and predicted classes.\n",
    "#         if cls_pred is None:\n",
    "#             xlabel = \"Vid: {0}\".format(cls_true[i])\n",
    "#         else:\n",
    "#             xlabel = \"Vid: {0}, Pred: {1}\".format(cls_true[i], cls_pred[i])\n",
    "\n",
    "#         ax.set_xlabel(xlabel)\n",
    "        \n",
    "#         # Remove ticks from the plot.\n",
    "#         ax.set_xticks([])\n",
    "#         ax.set_yticks([])\n",
    "        \n",
    "#     # Ensure the plot is shown correctly with multiple plots\n",
    "#     # in a single Notebook cell.\n",
    "#     plt.show()\n",
    "# def load_img(path, target_size=None):\n",
    "#     try:\n",
    "#         with urllib.request.urlopen(path) as url:\n",
    "#             f = io.BytesIO(url.read())\n",
    "#             img = pil_image.open(f)\n",
    "#     except:\n",
    "#         logging.error('the url cannot open {}'.format(path))\n",
    "#         return None\n",
    "#     if target_size is not None:\n",
    "#         width_height_tuple = (target_size[1], target_size[0])\n",
    "#         if img.size != width_height_tuple:\n",
    "#             img = img.resize(width_height_tuple)\n",
    "#     res = np.asarray(img)\n",
    "#     if res.shape[-1]==4:\n",
    "#         return(res[:,:,:-1])\n",
    "#     else:\n",
    "#         return res    \n",
    "# with open('/Users/jiangcx/Documents/jianshen_pro.txt', 'r', encoding='utf-8') as f: \n",
    "#     for line in f: \n",
    "#         obj = json.loads(line.strip())\n",
    "#         query_vid = obj['vid']\n",
    "#         query_pic = func(query_vid)\n",
    "#         img = load_img(query_pic, (224,224))\n",
    "#         tmp_imgs = []\n",
    "#         tmp_vids = []\n",
    "#         tmp_vids.append(query_vid)\n",
    "#         tmp_imgs.append(img)\n",
    "#         reprint_vid = obj['reprint']['img_reprint_vidlist']\n",
    "#         for x in reprint_vid:\n",
    "#             reprint_pic = func(x)\n",
    "#             tmp_vids.append(x)\n",
    "#             i = load_img(reprint_pic, (320,320))\n",
    "#             tmp_imgs.append(i)\n",
    "        \n",
    "#         plot_images(images=tmp_imgs, cls_true=tmp_vids)\n",
    "\n",
    "# # "
   ]
  },
  {
   "cell_type": "code",
   "execution_count": 120,
   "metadata": {},
   "outputs": [],
   "source": [
    "1500674673128"
   ]
  },
  {
   "cell_type": "code",
   "execution_count": 4,
   "metadata": {},
   "outputs": [
    {
     "name": "stdout",
     "output_type": "stream",
     "text": [
      "1500676773822\n",
      "http://aimg.tangdou.com/public/video/2020/0811/AC805D80FD76C371541BE9CEEF947BD1.jpg!260\n",
      "http://aqiniudl.tangdou.com/202008/EA9DA7762F1A1DF2277BCEF1C4347533-10.mp4\n"
     ]
    },
    {
     "data": {
      "text/plain": [
       "'http://aimg.tangdou.com/public/video/2020/0811/AC805D80FD76C371541BE9CEEF947BD1.jpg!260'"
      ]
     },
     "execution_count": 4,
     "metadata": {},
     "output_type": "execute_result"
    }
   ],
   "source": [
    "import redis\n",
    "import json\n",
    "r = redis.Redis(host='10.42.158.47', port=6379)\n",
    "def func(vid):\n",
    "    print(vid)\n",
    "    key = \"url_{}\".format(vid)\n",
    "    abc = r.get(key)\n",
    "    pic = 'http://aimg.tangdou.com' + json.loads(abc)['pic']\n",
    "    print(pic)\n",
    "    video = 'http://aqiniudl.tangdou.com/' + json.loads(abc)['videourl']+'-10.mp4'\n",
    "    print(video)\n",
    "    return pic\n",
    "func(1500676774817)"
   ]
  },
  {
   "cell_type": "code",
   "execution_count": 2,
   "metadata": {},
   "outputs": [],
   "source": [
    "# #coding:utf-8\n",
    "# import requests\n",
    "# import json\n",
    "# import sys\n",
    "\n",
    "# inputfile = sys.argv[1]\n",
    "# outputfile = sys.argv[2]\n",
    "# which_line = int(sys.argv[3])\n",
    "# stop_line = int(sys.argv[4])\n",
    "\n",
    "\n",
    "# # inputfile = '/Users/jiangcx/Documents/content_all_for_recall_new'\n",
    "# # outputfile = '/Users/jiangcx/Documents/outdelete'\n",
    "# # which_line = 0\n",
    "# # stop_line = 10\n",
    "# def dup(jsonbody):\n",
    "#     url = \"http://127.0.0.1:9003/polls/dup_detector\"\n",
    "#     #url = \"http://10.10.25.182:9003/polls/dup_detector\"\n",
    "#     resp1 = requests.post(url, data=jsonbody)\n",
    "#     return resp1.text\n",
    "\n",
    "# with open(inputfile, 'r', encoding='utf-8') as f, open(outputfile, 'w', encoding='utf-8') as writer:\n",
    "#     count = 1\n",
    "#     for line in f:\n",
    "#         if count >= which_line and count <= stop_line:\n",
    "            \n",
    "#             tmp = json.loads(line)\n",
    "#             tmp['title'] = '000'\n",
    "#             print(tmp)\n",
    "#             res = dup(tmp)\n",
    "#             print(res)\n",
    "#             writer.write(res+'\\n')\n",
    "#         count += 1"
   ]
  },
  {
   "cell_type": "code",
   "execution_count": null,
   "metadata": {},
   "outputs": [],
   "source": []
  },
  {
   "cell_type": "code",
   "execution_count": 50,
   "metadata": {},
   "outputs": [
    {
     "name": "stdout",
     "output_type": "stream",
     "text": [
      "451\n",
      "450\n",
      "62193\n"
     ]
    }
   ],
   "source": [
    "import requests\n",
    "import json\n",
    "import sys\n",
    "def eschecker(vids):\n",
    "    vid_list = [vids[i:i + 5000] for i in range(0, len(vids), 5000)]\n",
    "    esvids = []\n",
    "    c = 0\n",
    "    for v_list in vid_list:\n",
    "        url = \"http://10.19.87.8:9221/portrait_video_v1/video/_search\"\n",
    "        payload = {\"size\": 5000, \"query\": {\"terms\": {\"id\": v_list}},\n",
    "                   \"_source\": ['vid', 'talentstar', 'content_teach']}\n",
    "\n",
    "        payload = json.dumps(payload)\n",
    "        headers = {\n",
    "            'Content-Type': \"application/json\",\n",
    "            'cache-control': \"no-cache\"\n",
    "        }\n",
    "        response = requests.request(\"POST\", url, data=payload, headers=headers)\n",
    "        reses = []\n",
    "        json1 = response.json()['hits']['hits']\n",
    "        for x in json1:\n",
    "            my_dict = {}\n",
    "            res = x['_source']\n",
    "            if 'vid' in res:\n",
    "                vid = res['vid']\n",
    "            else:\n",
    "                continue\n",
    "            try:\n",
    "                talentstar = res['talentstar']\n",
    "                tmp_teach = res['content_teach']\n",
    "                if 'tagid' in tmp_teach:\n",
    "                    tagid = int(tmp_teach['tagid'])\n",
    "                else:\n",
    "                    tagid = 0\n",
    "                if talentstar >=3 and tagid==362:\n",
    "                    new = {}\n",
    "                    new['id'] = vid\n",
    "                    new['talentstar'] = talentstar\n",
    "                    newline = json.dumps(new, ensure_ascii=False)\n",
    "                    reses.append(newline)\n",
    "            except:\n",
    "                print(vid)\n",
    "            # if 'title' in res:\n",
    "            #      title = res['title']\n",
    "            #     if 'dj' in title.lower():\n",
    "            #         res = (vid, title,content_mp3)\n",
    "            #         reses.append(res)\n",
    "            # else:\n",
    "            #     c +=1\n",
    "        esvids.extend(reses)\n",
    "    return esvids\n",
    "vids = []\n",
    "with open('/Users/jiangcx/Documents/content_all_for_recall_new', 'r', encoding='utf-8') as f:\n",
    "    for line in f:\n",
    "        line = json.loads(line)\n",
    "        vid = line['vid']\n",
    "        vids.append(vid)\n",
    "        \n",
    "results = eschecker(vids)\n",
    "print(len(results))"
   ]
  },
  {
   "cell_type": "code",
   "execution_count": 6,
   "metadata": {},
   "outputs": [
    {
     "data": {
      "text/plain": [
       "9"
      ]
     },
     "execution_count": 6,
     "metadata": {},
     "output_type": "execute_result"
    }
   ],
   "source": [
    "9%10 "
   ]
  },
  {
   "cell_type": "code",
   "execution_count": 59,
   "metadata": {},
   "outputs": [
    {
     "name": "stdout",
     "output_type": "stream",
     "text": [
      "False\n"
     ]
    }
   ],
   "source": [
    "import requests\n",
    "import json\n",
    "import sys\n",
    "def eschecker(vids):\n",
    "    vid_list = [vids[i:i + 5000] for i in range(0, len(vids), 5000)]\n",
    "    for v_list in vid_list:\n",
    "        url = \"http://10.19.87.8:9221/portrait_video_v1/video/_search\"\n",
    "        payload = {\"size\": 5000, \"query\": {\"terms\": {\"id\": v_list}},\n",
    "                   \"_source\": ['vid', 'talentstar', 'content_teach']}\n",
    "\n",
    "        payload = json.dumps(payload)\n",
    "        headers = {\n",
    "            'Content-Type': \"application/json\",\n",
    "            'cache-control': \"no-cache\"\n",
    "        }\n",
    "        response = requests.request(\"POST\", url, data=payload, headers=headers)\n",
    "        json1 = response.json()['hits']['hits']\n",
    "        for x in json1:\n",
    "            res = x['_source']\n",
    "            if 'vid' in res:\n",
    "                vid = res['vid']\n",
    "            else:\n",
    "                continue\n",
    "            try:\n",
    "                talentstar = res['talentstar']\n",
    "                tmp_teach = res['content_teach']\n",
    "                if 'tagid' in tmp_teach:\n",
    "                    tagid = int(tmp_teach['tagid'])\n",
    "                else:\n",
    "                    tagid = 0\n",
    "                if talentstar >=3 and tagid==362:\n",
    "                    return True\n",
    "            except:\n",
    "                return False\n",
    "    return False\n",
    "\n",
    "results = eschecker(1500670829617)\n",
    "print(results)"
   ]
  },
  {
   "cell_type": "code",
   "execution_count": null,
   "metadata": {},
   "outputs": [],
   "source": [
    "import pandas "
   ]
  }
 ],
 "metadata": {
  "kernelspec": {
   "display_name": "Python 3",
   "language": "python",
   "name": "python3"
  },
  "language_info": {
   "codemirror_mode": {
    "name": "ipython",
    "version": 3
   },
   "file_extension": ".py",
   "mimetype": "text/x-python",
   "name": "python",
   "nbconvert_exporter": "python",
   "pygments_lexer": "ipython3",
   "version": "3.7.6"
  }
 },
 "nbformat": 4,
 "nbformat_minor": 4
}
