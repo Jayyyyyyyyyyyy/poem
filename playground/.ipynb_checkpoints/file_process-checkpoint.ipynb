{
 "cells": [
  {
   "cell_type": "markdown",
   "metadata": {},
   "source": [
    "# 文件转移"
   ]
  },
  {
   "cell_type": "code",
   "execution_count": null,
   "metadata": {},
   "outputs": [],
   "source": [
    "import io\n",
    "import os\n",
    "import urllib\n",
    "from PIL import Image as pil_image\n",
    "import numpy as np\n",
    "def download_img(url, outpath):\n",
    "    try:\n",
    "        with urllib.request.urlopen(url) as url:\n",
    "            f = io.BytesIO(url.read())\n",
    "            img = pil_image.open(f)\n",
    "            rgb_im = img.convert('RGB')\n",
    "            rgb_im.save(outpath, \"JPEG\")\n",
    "        return True\n",
    "    except:\n",
    "        print(url)\n",
    "        return False\n",
    "\n",
    "root = '/Users/jiangcx/Downloads/image_quality_data/'\n",
    "if not os.path.exists(root):\n",
    "        os.mkdir(root)\n",
    "cnt = 0\n",
    "for tup in tmp2:\n",
    "    cnt += 1\n",
    "    if cnt % 200 == 0:\n",
    "        print(\"{} images downloaded~\".format(cnt))\n",
    "    if cnt >=1400:\n",
    "        vid, quality, url = tup\n",
    "        son_dir = root + str(quality)\n",
    "        if not os.path.exists(son_dir):\n",
    "            os.mkdir(son_dir)\n",
    "        file = son_dir+'/{}.jpg'.format(vid)\n",
    "        res = download_img(url, file)\n",
    "        if res == False:\n",
    "            print(tup)"
   ]
  },
  {
   "cell_type": "markdown",
   "metadata": {},
   "source": [
    "# 文件下载"
   ]
  },
  {
   "cell_type": "code",
   "execution_count": 4,
   "metadata": {},
   "outputs": [
    {
     "ename": "JSONDecodeError",
     "evalue": "Expecting value: line 1 column 1 (char 0)",
     "output_type": "error",
     "traceback": [
      "\u001b[0;31m---------------------------------------------------------------------------\u001b[0m",
      "\u001b[0;31mJSONDecodeError\u001b[0m                           Traceback (most recent call last)",
      "\u001b[0;32m<ipython-input-4-91fb421f670c>\u001b[0m in \u001b[0;36m<module>\u001b[0;34m\u001b[0m\n\u001b[1;32m     32\u001b[0m \u001b[0;32mwith\u001b[0m \u001b[0mopen\u001b[0m\u001b[0;34m(\u001b[0m\u001b[0;34m'/Users/jiangcx/Documents/output4'\u001b[0m\u001b[0;34m,\u001b[0m\u001b[0;34m'r'\u001b[0m\u001b[0;34m,\u001b[0m \u001b[0mencoding\u001b[0m\u001b[0;34m=\u001b[0m\u001b[0;34m'utf-8'\u001b[0m\u001b[0;34m)\u001b[0m \u001b[0;32mas\u001b[0m \u001b[0mf\u001b[0m\u001b[0;34m:\u001b[0m\u001b[0;34m\u001b[0m\u001b[0;34m\u001b[0m\u001b[0m\n\u001b[1;32m     33\u001b[0m     \u001b[0;32mfor\u001b[0m \u001b[0mind\u001b[0m \u001b[0;34m,\u001b[0m\u001b[0mline\u001b[0m \u001b[0;32min\u001b[0m \u001b[0menumerate\u001b[0m\u001b[0;34m(\u001b[0m\u001b[0mf\u001b[0m\u001b[0;34m)\u001b[0m\u001b[0;34m:\u001b[0m\u001b[0;34m\u001b[0m\u001b[0;34m\u001b[0m\u001b[0m\n\u001b[0;32m---> 34\u001b[0;31m         \u001b[0mline\u001b[0m \u001b[0;34m=\u001b[0m \u001b[0mjson\u001b[0m\u001b[0;34m.\u001b[0m\u001b[0mloads\u001b[0m\u001b[0;34m(\u001b[0m\u001b[0mline\u001b[0m\u001b[0;34m)\u001b[0m\u001b[0;34m\u001b[0m\u001b[0;34m\u001b[0m\u001b[0m\n\u001b[0m\u001b[1;32m     35\u001b[0m         \u001b[0mvid\u001b[0m \u001b[0;34m=\u001b[0m \u001b[0mline\u001b[0m\u001b[0;34m[\u001b[0m\u001b[0;34m'id'\u001b[0m\u001b[0;34m]\u001b[0m\u001b[0;34m\u001b[0m\u001b[0;34m\u001b[0m\u001b[0m\n\u001b[1;32m     36\u001b[0m         \u001b[0mres\u001b[0m \u001b[0;34m=\u001b[0m \u001b[0mjson\u001b[0m\u001b[0;34m.\u001b[0m\u001b[0mloads\u001b[0m\u001b[0;34m(\u001b[0m\u001b[0mr\u001b[0m\u001b[0;34m.\u001b[0m\u001b[0mget\u001b[0m\u001b[0;34m(\u001b[0m\u001b[0;34m'url_{}'\u001b[0m\u001b[0;34m.\u001b[0m\u001b[0mformat\u001b[0m\u001b[0;34m(\u001b[0m\u001b[0mvid\u001b[0m\u001b[0;34m)\u001b[0m\u001b[0;34m)\u001b[0m\u001b[0;34m)\u001b[0m\u001b[0;34m\u001b[0m\u001b[0;34m\u001b[0m\u001b[0m\n",
      "\u001b[0;32m~/.conda/envs/poem/lib/python3.6/json/__init__.py\u001b[0m in \u001b[0;36mloads\u001b[0;34m(s, encoding, cls, object_hook, parse_float, parse_int, parse_constant, object_pairs_hook, **kw)\u001b[0m\n\u001b[1;32m    352\u001b[0m             \u001b[0mparse_int\u001b[0m \u001b[0;32mis\u001b[0m \u001b[0;32mNone\u001b[0m \u001b[0;32mand\u001b[0m \u001b[0mparse_float\u001b[0m \u001b[0;32mis\u001b[0m \u001b[0;32mNone\u001b[0m \u001b[0;32mand\u001b[0m\u001b[0;34m\u001b[0m\u001b[0;34m\u001b[0m\u001b[0m\n\u001b[1;32m    353\u001b[0m             parse_constant is None and object_pairs_hook is None and not kw):\n\u001b[0;32m--> 354\u001b[0;31m         \u001b[0;32mreturn\u001b[0m \u001b[0m_default_decoder\u001b[0m\u001b[0;34m.\u001b[0m\u001b[0mdecode\u001b[0m\u001b[0;34m(\u001b[0m\u001b[0ms\u001b[0m\u001b[0;34m)\u001b[0m\u001b[0;34m\u001b[0m\u001b[0;34m\u001b[0m\u001b[0m\n\u001b[0m\u001b[1;32m    355\u001b[0m     \u001b[0;32mif\u001b[0m \u001b[0mcls\u001b[0m \u001b[0;32mis\u001b[0m \u001b[0;32mNone\u001b[0m\u001b[0;34m:\u001b[0m\u001b[0;34m\u001b[0m\u001b[0;34m\u001b[0m\u001b[0m\n\u001b[1;32m    356\u001b[0m         \u001b[0mcls\u001b[0m \u001b[0;34m=\u001b[0m \u001b[0mJSONDecoder\u001b[0m\u001b[0;34m\u001b[0m\u001b[0;34m\u001b[0m\u001b[0m\n",
      "\u001b[0;32m~/.conda/envs/poem/lib/python3.6/json/decoder.py\u001b[0m in \u001b[0;36mdecode\u001b[0;34m(self, s, _w)\u001b[0m\n\u001b[1;32m    337\u001b[0m \u001b[0;34m\u001b[0m\u001b[0m\n\u001b[1;32m    338\u001b[0m         \"\"\"\n\u001b[0;32m--> 339\u001b[0;31m         \u001b[0mobj\u001b[0m\u001b[0;34m,\u001b[0m \u001b[0mend\u001b[0m \u001b[0;34m=\u001b[0m \u001b[0mself\u001b[0m\u001b[0;34m.\u001b[0m\u001b[0mraw_decode\u001b[0m\u001b[0;34m(\u001b[0m\u001b[0ms\u001b[0m\u001b[0;34m,\u001b[0m \u001b[0midx\u001b[0m\u001b[0;34m=\u001b[0m\u001b[0m_w\u001b[0m\u001b[0;34m(\u001b[0m\u001b[0ms\u001b[0m\u001b[0;34m,\u001b[0m \u001b[0;36m0\u001b[0m\u001b[0;34m)\u001b[0m\u001b[0;34m.\u001b[0m\u001b[0mend\u001b[0m\u001b[0;34m(\u001b[0m\u001b[0;34m)\u001b[0m\u001b[0;34m)\u001b[0m\u001b[0;34m\u001b[0m\u001b[0;34m\u001b[0m\u001b[0m\n\u001b[0m\u001b[1;32m    340\u001b[0m         \u001b[0mend\u001b[0m \u001b[0;34m=\u001b[0m \u001b[0m_w\u001b[0m\u001b[0;34m(\u001b[0m\u001b[0ms\u001b[0m\u001b[0;34m,\u001b[0m \u001b[0mend\u001b[0m\u001b[0;34m)\u001b[0m\u001b[0;34m.\u001b[0m\u001b[0mend\u001b[0m\u001b[0;34m(\u001b[0m\u001b[0;34m)\u001b[0m\u001b[0;34m\u001b[0m\u001b[0;34m\u001b[0m\u001b[0m\n\u001b[1;32m    341\u001b[0m         \u001b[0;32mif\u001b[0m \u001b[0mend\u001b[0m \u001b[0;34m!=\u001b[0m \u001b[0mlen\u001b[0m\u001b[0;34m(\u001b[0m\u001b[0ms\u001b[0m\u001b[0;34m)\u001b[0m\u001b[0;34m:\u001b[0m\u001b[0;34m\u001b[0m\u001b[0;34m\u001b[0m\u001b[0m\n",
      "\u001b[0;32m~/.conda/envs/poem/lib/python3.6/json/decoder.py\u001b[0m in \u001b[0;36mraw_decode\u001b[0;34m(self, s, idx)\u001b[0m\n\u001b[1;32m    355\u001b[0m             \u001b[0mobj\u001b[0m\u001b[0;34m,\u001b[0m \u001b[0mend\u001b[0m \u001b[0;34m=\u001b[0m \u001b[0mself\u001b[0m\u001b[0;34m.\u001b[0m\u001b[0mscan_once\u001b[0m\u001b[0;34m(\u001b[0m\u001b[0ms\u001b[0m\u001b[0;34m,\u001b[0m \u001b[0midx\u001b[0m\u001b[0;34m)\u001b[0m\u001b[0;34m\u001b[0m\u001b[0;34m\u001b[0m\u001b[0m\n\u001b[1;32m    356\u001b[0m         \u001b[0;32mexcept\u001b[0m \u001b[0mStopIteration\u001b[0m \u001b[0;32mas\u001b[0m \u001b[0merr\u001b[0m\u001b[0;34m:\u001b[0m\u001b[0;34m\u001b[0m\u001b[0;34m\u001b[0m\u001b[0m\n\u001b[0;32m--> 357\u001b[0;31m             \u001b[0;32mraise\u001b[0m \u001b[0mJSONDecodeError\u001b[0m\u001b[0;34m(\u001b[0m\u001b[0;34m\"Expecting value\"\u001b[0m\u001b[0;34m,\u001b[0m \u001b[0ms\u001b[0m\u001b[0;34m,\u001b[0m \u001b[0merr\u001b[0m\u001b[0;34m.\u001b[0m\u001b[0mvalue\u001b[0m\u001b[0;34m)\u001b[0m \u001b[0;32mfrom\u001b[0m \u001b[0;32mNone\u001b[0m\u001b[0;34m\u001b[0m\u001b[0;34m\u001b[0m\u001b[0m\n\u001b[0m\u001b[1;32m    358\u001b[0m         \u001b[0;32mreturn\u001b[0m \u001b[0mobj\u001b[0m\u001b[0;34m,\u001b[0m \u001b[0mend\u001b[0m\u001b[0;34m\u001b[0m\u001b[0;34m\u001b[0m\u001b[0m\n",
      "\u001b[0;31mJSONDecodeError\u001b[0m: Expecting value: line 1 column 1 (char 0)"
     ]
    }
   ],
   "source": [
    "import io\n",
    "import os\n",
    "import urllib\n",
    "from PIL import Image as pil_image\n",
    "import numpy as np\n",
    "import json\n",
    "import redis    \n",
    "hostname = '10.42.158.47'\n",
    "port = 6379\n",
    "r = redis.Redis(host=hostname, port=port)\n",
    "\n",
    "\n",
    "\n",
    "def download_img(url, outpath):\n",
    "    try:\n",
    "        with urllib.request.urlopen(url) as url:\n",
    "            f = io.BytesIO(url.read())\n",
    "            img = pil_image.open(f)\n",
    "            rgb_im = img.convert('RGB')\n",
    "            rgb_im.save(outpath, \"JPEG\")\n",
    "        return True\n",
    "    except:\n",
    "        print(url)\n",
    "        return False\n",
    "\n",
    "    \n",
    "import pandas as pd \n",
    "root = '/Users/jiangcx/Downloads/high_hit/'\n",
    "if not os.path.exists(root):\n",
    "        os.mkdir(root)\n",
    "import json\n",
    "with open('/Users/jiangcx/Documents/output4','r', encoding='utf-8') as f:\n",
    "    for ind ,line in enumerate(f): \n",
    "        if ind <= 2000:\n",
    "            continue\n",
    "        try:\n",
    "            line = json.loads(line)\n",
    "            vid = line['id']\n",
    "            res = json.loads(r.get('url_{}'.format(vid)))\n",
    "            url = 'http://aimg.tangdou.com'+res['pic'].split('!')[0] \n",
    "            class_id = line['profileinfo']['video_quality2_split']\n",
    "            if class_id == 0:\n",
    "                class_folder = os.path.join(root, str(class_id))\n",
    "                if not os.path.exists(class_folder):\n",
    "                    os.mkdir(class_folder)\n",
    "                file = os.path.join(class_folder, '{}.jpg'.format(vid))\n",
    "                res = download_img(url, file)\n",
    "            else:\n",
    "                continue\n",
    "        except:\n",
    "            print(ind, line)\n",
    "        if ind > 12000: \n",
    "            break \n",
    "        \n"
   ]
  },
  {
   "cell_type": "code",
   "execution_count": null,
   "metadata": {},
   "outputs": [],
   "source": [
    "import io\n",
    "import os\n",
    "import urllib\n",
    "from PIL import Image as pil_image\n",
    "import numpy as np\n",
    "import json\n",
    "import redis    \n",
    "hostname = '10.42.158.47'\n",
    "port = 6379\n",
    "r = redis.Redis(host=hostname, port=port)\n",
    "\n",
    "\n",
    "\n",
    "def download_img(url, outpath):\n",
    "    try:\n",
    "        with urllib.request.urlopen(url) as url:\n",
    "            f = io.BytesIO(url.read())\n",
    "            img = pil_image.open(f)\n",
    "            rgb_im = img.convert('RGB')\n",
    "            rgb_im.save(outpath, \"JPEG\")\n",
    "        return True\n",
    "    except:\n",
    "        print(url)\n",
    "        return False\n",
    "\n",
    "    \n",
    "import pandas as pd \n",
    "root = '/Users/jiangcx/Downloads/high_hit/'\n",
    "if not os.path.exists(root):\n",
    "        os.mkdir(root)\n",
    "import json\n",
    "with open('/Users/jiangcx/Documents/mylog','r', encoding='utf-8') as f:\n",
    "    for ind ,line in enumerate(f): \n",
    "        try:\n",
    "            line = line.split('Response:')[-1][:-2]\n",
    "\n",
    "            line = json.loads(line)\n",
    "            vid = line['img_quality']['id']\n",
    "            res = json.loads(r.get('url_{}'.format(vid)))\n",
    "            url = 'http://aimg.tangdou.com'+res['pic'].split('!')[0] \n",
    "\n",
    "            class_id = line['img_quality']['video_quality2_split']\n",
    "            class_folder = os.path.join(root, str(class_id))\n",
    "            if not os.path.exists(class_folder):\n",
    "                os.mkdir(class_folder)\n",
    "            file = os.path.join(class_folder, '{}.jpg'.format(vid))\n",
    "            res = download_img(url, file)\n",
    "#             if ind > 2000:\n",
    "#                 break \n",
    "        except:\n",
    "            print(line)\n",
    "        "
   ]
  },
  {
   "cell_type": "code",
   "execution_count": 1,
   "metadata": {},
   "outputs": [
    {
     "name": "stdout",
     "output_type": "stream",
     "text": [
      "0 images downloaded~\n",
      "http://aimg.tangdou.com/public/video/2015/0629/20150629130015.jpg\n",
      "6103789 http://aimg.tangdou.com/public/video/2015/0629/20150629130015.jpg 18073\n",
      "200 images downloaded~\n",
      "400 images downloaded~\n",
      "600 images downloaded~\n",
      "800 images downloaded~\n",
      "1000 images downloaded~\n",
      "1200 images downloaded~\n",
      "1400 images downloaded~\n",
      "http://aimg.tangdou.comhttp://www.tangdou.com/system/template/share/media/images/no_images.jpg\n",
      "4744603 http://aimg.tangdou.comhttp://www.tangdou.com/system/template/share/media/images/no_images.jpg 909\n",
      "1600 images downloaded~\n",
      "1800 images downloaded~\n",
      "http://aimg.tangdou.com\n",
      "5062070 http://aimg.tangdou.com 672\n",
      "<http.client.HTTPResponse object at 0x7fc0fd5e9c40>\n",
      "5426210 http://aimg.tangdou.com/video/201503/20150305041817_1809.jpg 659\n",
      "2000 images downloaded~\n",
      "http://aimg.tangdou.com/video/201506/20150608102511_1253.jpg\n",
      "5672886 http://aimg.tangdou.com/video/201506/20150608102511_1253.jpg 567\n",
      "2200 images downloaded~\n",
      "2400 images downloaded~\n",
      "2600 images downloaded~\n",
      "<http.client.HTTPResponse object at 0x7fc0fd78fdc0>\n",
      "6191773 http://aimg.tangdou.com/video/201507/20150706005210_4857.jpg 387\n",
      "2800 images downloaded~\n",
      "3000 images downloaded~\n",
      "3200 images downloaded~\n",
      "3400 images downloaded~\n",
      "3600 images downloaded~\n",
      "3800 images downloaded~\n",
      "4000 images downloaded~\n",
      "4200 images downloaded~\n",
      "4400 images downloaded~\n",
      "4600 images downloaded~\n",
      "4800 images downloaded~\n",
      "<http.client.HTTPResponse object at 0x7fc0fd7aff10>\n",
      "6335987 http://aimg.tangdou.com/video/201507/20150725105805_9387.jpg 143\n",
      "5000 images downloaded~\n",
      "5200 images downloaded~\n",
      "5400 images downloaded~\n",
      "5600 images downloaded~\n",
      "5800 images downloaded~\n",
      "6000 images downloaded~\n",
      "6200 images downloaded~\n",
      "6400 images downloaded~\n",
      "6600 images downloaded~\n",
      "6800 images downloaded~\n",
      "7000 images downloaded~\n",
      "7200 images downloaded~\n",
      "7400 images downloaded~\n",
      "7600 images downloaded~\n",
      "7800 images downloaded~\n",
      "8000 images downloaded~\n",
      "8200 images downloaded~\n",
      "8400 images downloaded~\n",
      "8600 images downloaded~\n",
      "8800 images downloaded~\n",
      "9000 images downloaded~\n",
      "<http.client.HTTPResponse object at 0x7fc0fd79bfa0>\n",
      "1500675122173 http://aimg.tangdou.com/third/202004/third_26BBBD03682B4862D525B06EEED932D1.jpg 0\n",
      "9200 images downloaded~\n",
      "9400 images downloaded~\n",
      "9600 images downloaded~\n",
      "9800 images downloaded~\n",
      "10000 images downloaded~\n",
      "10200 images downloaded~\n",
      "10400 images downloaded~\n",
      "10600 images downloaded~\n",
      "10800 images downloaded~\n",
      "11000 images downloaded~\n",
      "11200 images downloaded~\n",
      "11400 images downloaded~\n",
      "11600 images downloaded~\n",
      "11800 images downloaded~\n",
      "12000 images downloaded~\n",
      "12200 images downloaded~\n",
      "12400 images downloaded~\n",
      "12600 images downloaded~\n",
      "12800 images downloaded~\n",
      "13000 images downloaded~\n",
      "13200 images downloaded~\n",
      "13400 images downloaded~\n",
      "13600 images downloaded~\n",
      "13800 images downloaded~\n",
      "14000 images downloaded~\n",
      "14200 images downloaded~\n",
      "14400 images downloaded~\n",
      "<http.client.HTTPResponse object at 0x7fc0fd79bb20>\n",
      "1500677350421 http://aimg.tangdou.com/public/video/2020/0927/CDE95BE829B250FE6DD88A5803088AA1.jpg 0\n",
      "14600 images downloaded~\n",
      "14800 images downloaded~\n",
      "15000 images downloaded~\n",
      "15200 images downloaded~\n",
      "15400 images downloaded~\n",
      "15600 images downloaded~\n",
      "15800 images downloaded~\n",
      "16000 images downloaded~\n",
      "16200 images downloaded~\n",
      "16400 images downloaded~\n",
      "16600 images downloaded~\n",
      "16800 images downloaded~\n",
      "17000 images downloaded~\n",
      "17200 images downloaded~\n",
      "17400 images downloaded~\n",
      "17600 images downloaded~\n",
      "17800 images downloaded~\n",
      "18000 images downloaded~\n",
      "18200 images downloaded~\n",
      "18400 images downloaded~\n",
      "18600 images downloaded~\n",
      "18800 images downloaded~\n",
      "<http.client.HTTPResponse object at 0x7fc0fd7bfc10>\n",
      "1500668601258 http://aimg.tangdou.com/public/video/2019/0804/C12C7C2CF0D485B3DAB4A7346B61C502.jpg 0\n",
      "19000 images downloaded~\n",
      "19200 images downloaded~\n",
      "19400 images downloaded~\n",
      "19600 images downloaded~\n",
      "19800 images downloaded~\n",
      "<http.client.HTTPResponse object at 0x7fc0fd7bf7f0>\n",
      "9106577 http://aimg.tangdou.com/video/201706/20170627093940_2419.jpg 0\n",
      "http://aimg.tangdou.comhttp://2-img.bokecc.com/comimage/21F4A787A918F3CE/2017-05-02/3921819833909ADA9C33DC5901307461-1.jpg\n",
      "9028613 http://aimg.tangdou.comhttp://2-img.bokecc.com/comimage/21F4A787A918F3CE/2017-05-02/3921819833909ADA9C33DC5901307461-1.jpg 0\n"
     ]
    }
   ],
   "source": [
    "import io\n",
    "import os\n",
    "import urllib\n",
    "from PIL import Image as pil_image\n",
    "import numpy as np\n",
    "def download_img(url, outpath):\n",
    "    try:\n",
    "        with urllib.request.urlopen(url) as url:\n",
    "            f = io.BytesIO(url.read())\n",
    "            img = pil_image.open(f)\n",
    "            rgb_im = img.convert('RGB')\n",
    "            rgb_im.save(outpath, \"JPEG\") \n",
    "        return True\n",
    "    except:\n",
    "        print(url)\n",
    "        return False\n",
    "\n",
    "\n",
    "import pandas as pd \n",
    "root = '/Users/jiangcx/Downloads/high_hit/'\n",
    "if not os.path.exists(root):\n",
    "        os.mkdir(root)\n",
    "df = pd.read_excel('/Users/jiangcx/Downloads/high_hit.xlsx')\n",
    "for cnt, (vid, url, score) in df.iterrows():\n",
    "    if cnt % 200 == 0:\n",
    "        print(\"{} images downloaded~\".format(cnt))\n",
    "    file = root+'{}.jpg'.format(vid)\n",
    "    res = download_img(url, file)\n",
    "    if res == False:\n",
    "        print(vid,url, score)"
   ]
  },
  {
   "cell_type": "markdown",
   "metadata": {},
   "source": [
    "# pandas数据处理"
   ]
  },
  {
   "cell_type": "code",
   "execution_count": 2,
   "metadata": {},
   "outputs": [
    {
     "name": "stdout",
     "output_type": "stream",
     "text": [
      "/Users/jiangcx/Downloads/图片标注/1-李鹏.xlsx\n"
     ]
    }
   ],
   "source": [
    "import pandas as pd \n",
    "import os\n",
    "from collections import Counter\n",
    "rootdir = '/Users/jiangcx/Downloads/图片标注'\n",
    "tmp = []\n",
    "for filename in os.listdir(rootdir)  :\n",
    "    path = os.path.join(rootdir, filename)\n",
    "    print(path)\n",
    "    break\n",
    "    df = pd.read_excel(path)[['ID','标注','链接']]\n",
    "    mytmp = []\n",
    "    for ind, (vid, label, url) in df.iterrows():\n",
    "        mytmp.append((vid, label, url))\n",
    "    tmp.extend(mytmp)\n",
    "tmp2 = sorted(tmp, key=lambda tup: tup[1], reverse=True)"
   ]
  },
  {
   "cell_type": "code",
   "execution_count": 3,
   "metadata": {},
   "outputs": [
    {
     "name": "stdout",
     "output_type": "stream",
     "text": [
      "1490\n"
     ]
    }
   ],
   "source": [
    "print(len(os.listdir('/Users/jiangcx/Downloads/high_quality_dataset'))) "
   ]
  },
  {
   "cell_type": "code",
   "execution_count": 4,
   "metadata": {},
   "outputs": [
    {
     "data": {
      "text/plain": [
       "111917"
      ]
     },
     "execution_count": 4,
     "metadata": {},
     "output_type": "execute_result"
    }
   ],
   "source": [
    "import os\n",
    "fileSize = os.path.getsize('/Users/jiangcx/Downloads/图片标注/1-李鹏.xlsx')\n",
    "fileSize"
   ]
  },
  {
   "cell_type": "code",
   "execution_count": 2,
   "metadata": {},
   "outputs": [
    {
     "name": "stdout",
     "output_type": "stream",
     "text": [
      "/Users/jiangcx/Downloads/PhotoQualityDataset/HighQuality/yiwen/Thumbs.db\n"
     ]
    }
   ],
   "source": [
    "import io\n",
    "import os\n",
    "import urllib\n",
    "from PIL import Image as pil_image\n",
    "import numpy as np\n",
    "def download_img(path, outpath):\n",
    "    try:\n",
    "        img = pil_image.open(path)\n",
    "        rgb_im = img.convert('RGB')\n",
    "        rgb_im.save(outpath, \"JPEG\") \n",
    "        return True\n",
    "    except:\n",
    "        print(path)\n",
    "        return False\n",
    "\n",
    "rootdir = '/Users/jiangcx/Downloads/PhotoQualityDataset/HighQuality/'\n",
    "output = '/Users/jiangcx/Desktop/new_image_quality_data_extend/highquality/'\n",
    "for tmpdir in os.listdir(rootdir):\n",
    "    path2 = os.path.join(rootdir, tmpdir)\n",
    "    for filename in os.listdir(path2):\n",
    "        path = os.path.join(path2, filename)\n",
    "        outputpath = os.path.join(output, filename)\n",
    "        download_img(path, outputpath)"
   ]
  },
  {
   "cell_type": "code",
   "execution_count": 39,
   "metadata": {
    "scrolled": true
   },
   "outputs": [],
   "source": [
    "import io\n",
    "import numpy as np \n",
    "import urllib.request\n",
    "import tensorflow as tf\n",
    "\n",
    "def load_image(img_file, target_size):\n",
    "    return np.asarray(tf.keras.preprocessing.image.load_img(img_file, target_size=target_size))\n",
    "\n",
    "def my_open(URL):\n",
    "    if 'http' in URL:\n",
    "        with urllib.request.urlopen(URL) as url:\n",
    "            f = io.BytesIO(url.read())\n",
    "        return f\n",
    "    else:\n",
    "        return URL\n",
    "my_open(\"http://aimg.tangdou.com/public/video/2020/1113/20201113000453_11944550.jpg\")\n",
    "url_image = load_image(my_open(\"http://aimg.tangdou.com/public/video/2020/1113/20201113000453_11944550.jpg\"), target_size=(224, 224))\n",
    "\n",
    "\n",
    "\n",
    "\n",
    "\n"
   ]
  },
  {
   "cell_type": "code",
   "execution_count": 40,
   "metadata": {},
   "outputs": [],
   "source": [
    "from PIL import Image as Image\n",
    "cc = \"http://aimg.tangdou.com/public/video/2020/1113/20201113000453_11944550.jpg\"\n",
    "img = Image.open(my_open(cc))\n",
    "img.show()"
   ]
  },
  {
   "cell_type": "code",
   "execution_count": 41,
   "metadata": {},
   "outputs": [],
   "source": [
    "import happybase\n",
    "import base64 \n",
    "import cv2\n",
    "import numpy as np"
   ]
  },
  {
   "cell_type": "code",
   "execution_count": 42,
   "metadata": {},
   "outputs": [
    {
     "name": "stderr",
     "output_type": "stream",
     "text": [
      "/Users/jiangcx/.conda/envs/poem/lib/python3.6/site-packages/ipykernel_launcher.py:12: DeprecationWarning: The binary mode of fromstring is deprecated, as it behaves surprisingly on unicode inputs. Use frombuffer instead\n",
      "  if sys.path[0] == '':\n"
     ]
    }
   ],
   "source": [
    "from PIL import Image as Image\n",
    "\n",
    "def hbasePic(vid):\n",
    "    conn = happybase.Connection(host='10.42.128.38', port=9090, transport='buffered', protocol='binary')\n",
    "    ts = conn.table(b'pictures')\n",
    "    result = ts.row(row=str.encode(vid), columns=[b'data:pic'])\n",
    "    if not result:\n",
    "        return np.zeros(0)\n",
    "    pic_b = bytes.decode(result[b'data:pic'])\n",
    "    # print(pic_b)\n",
    "    imgdata = base64.b64decode(pic_b)\n",
    "    nparr = np.fromstring(imgdata, np.uint8)\n",
    "    if len(nparr) == 0:\n",
    "        return np.zeros(0)\n",
    "    image = cv2.imdecode(nparr, cv2.IMREAD_COLOR)\n",
    "    image = cv2.resize(image, (224,224))\n",
    "    image = cv2.cvtColor(image, cv2.COLOR_BGR2RGB)\n",
    "    if isinstance(image, np.ndarray):\n",
    "        return image\n",
    "    else:\n",
    "        return np.zeros(0)\n",
    "img_hbase = hbasePic('1500677977976')"
   ]
  },
  {
   "cell_type": "code",
   "execution_count": 44,
   "metadata": {},
   "outputs": [
    {
     "data": {
      "text/plain": [
       "True"
      ]
     },
     "execution_count": 44,
     "metadata": {},
     "output_type": "execute_result"
    }
   ],
   "source": [
    "cv2.imwrite('./url_image.jpg',url_image) "
   ]
  },
  {
   "cell_type": "code",
   "execution_count": 53,
   "metadata": {},
   "outputs": [],
   "source": [
    "img = Image.fromarray(img_hbase)\n",
    "img.show()"
   ]
  },
  {
   "cell_type": "code",
   "execution_count": 8,
   "metadata": {},
   "outputs": [
    {
     "name": "stdout",
     "output_type": "stream",
     "text": [
      "/Users/jiangcx/Documents/new_image_quality_data_bk/normal/1482620875416.jpg\n",
      "/Users/jiangcx/Documents/new_image_quality_data_bk/low/1482620875416.jpg\n",
      "1\n"
     ]
    }
   ],
   "source": [
    "import io\n",
    "import os\n",
    "import numpy as np\n",
    "\n",
    "rootdir = '/Users/jiangcx/Documents/new_image_quality_data_bk/'\n",
    "output = '/Users/jiangcx/Desktop/new_image_quality_data_extend/highquality/'\n",
    "tmp = {}\n",
    "cnt = 0\n",
    "for tmpdir in os.listdir(rootdir):\n",
    "    path2 = os.path.join(rootdir, tmpdir)\n",
    "    for filename in os.listdir(path2):\n",
    "        path = os.path.join(path2, filename)\n",
    "        if filename in tmp:\n",
    "            print(path) \n",
    "            print(tmp[filename])\n",
    "            cnt += 1 \n",
    "        else:\n",
    "            tmp[filename] = path \n",
    "print(cnt) "
   ]
  },
  {
   "cell_type": "code",
   "execution_count": null,
   "metadata": {},
   "outputs": [],
   "source": []
  }
 ],
 "metadata": {
  "kernelspec": {
   "display_name": "Python 3",
   "language": "python",
   "name": "python3"
  }
 },
 "nbformat": 4,
 "nbformat_minor": 4
}
