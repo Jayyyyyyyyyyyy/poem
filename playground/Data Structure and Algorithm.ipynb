{
 "cells": [
  {
   "cell_type": "markdown",
   "metadata": {},
   "source": [
    "# Binary Tree\n",
    "https://www.cnblogs.com/lliuye/p/9143676.html"
   ]
  },
  {
   "cell_type": "code",
   "execution_count": 140,
   "metadata": {},
   "outputs": [],
   "source": [
    "class Node(object):\n",
    "    def __init__(self, value, left=None, right=None):\n",
    "        self.value = value\n",
    "        self.left = left\n",
    "        self.right = right\n",
    "        \n",
    "class BinaryTree(object):\n",
    "    def __init__(self):\n",
    "        self.root = None\n",
    "    def isEmpty(self):\n",
    "        return True if self.root == None else False\n",
    "    \n",
    "    def add(self, data):\n",
    "        node = Node(data)\n",
    "        if self.root is None:\n",
    "            self.root = node\n",
    "            return \n",
    "        queue = [self.root]\n",
    "        while queue:\n",
    "            cur_node = queue.pop(0)\n",
    "            if cur_node.left is None:\n",
    "                cur_node.left = node\n",
    "                return\n",
    "            else:\n",
    "                queue.append(cur_node.left)\n",
    "            if cur_node.right is None:\n",
    "                cur_node.right = node\n",
    "                return\n",
    "            else:\n",
    "                queue.append(cur_node.right)\n",
    "                \n",
    "    # 四种遍历方式\n",
    "    def preorder(self,root):\n",
    "        if root == None:\n",
    "            return\n",
    "        print(root.value)\n",
    "        self.preorder(root.left)\n",
    "        self.preorder(root.right)\n",
    "        \n",
    "    def inorder(self, root):\n",
    "        if root == None:\n",
    "            return\n",
    "        self.inorder(root.left)\n",
    "        print(root.value)\n",
    "        self.inorder(root.right)\n",
    "        \n",
    "    def postorder(self, root):\n",
    "        if root == None:\n",
    "            return \n",
    "        self.postorder(root.left)\n",
    "        self.postorder(root.right)\n",
    "        print(root.value)\n",
    "        \n",
    "    def levelorder(self, root):\n",
    "        if root == None:\n",
    "            return\n",
    "        queue = [root]\n",
    "        while queue:\n",
    "            cur_node = queue.pop(0)\n",
    "            print(cur_node.value)\n",
    "            if cur_node.left:\n",
    "                queue.append(cur_node.left)\n",
    "            if cur_node.right:\n",
    "                queue.append(cur_node.right)\n",
    "                \n",
    "    def print_by_layer(self, root):\n",
    "        if not root:\n",
    "            return \n",
    "        queue = [] #\n",
    "        current_line = 0\n",
    "        queue.append([current_line, root])\n",
    "        while len(queue) > 0:\n",
    "            line, node = queue.pop(0)\n",
    "            # 核心判断：是否换行\n",
    "            if line != current_line:\n",
    "                print()  # 不同时换行，print()函数默认end=“\\n”\n",
    "                current_line = line\n",
    "            print(current_line, node.value, end = \" \")\n",
    "            if node.left:\n",
    "                queue.append([line+1, node.left])  # 将本节点的行号和左子节点入队\n",
    "            if node.right:\n",
    "                queue.append([line+1, node.right]) # 将本节点的行号和右子节点入队\n",
    "                \n",
    "    def print_by_layer_2(self, root):\n",
    "        if not root:\n",
    "            return \n",
    "        depth = -1\n",
    "        queue = [depth] # 一开始塞入一个换行标记，作为队首,任何非TreeNode对象都行。\n",
    "        queue.append(root)\n",
    "        while len(queue) > 0:\n",
    "            node = queue.pop(0)\n",
    "            if isinstance(node,Node):\n",
    "                print(node.value, end = \" \")\n",
    "                if node.left:\n",
    "                    queue.append(node.left)\n",
    "                if node.right:\n",
    "                    queue.append(node.right)\n",
    "            else:\n",
    "                # 边界条件\n",
    "                if len(queue) > 0:\n",
    "                    depth += 1\n",
    "                    queue.append(depth) # 对尾添加换行标记\n",
    "                    print('\\n{}: '.format(depth), end='')  # 换行\n",
    "\n",
    "    def DFS(self, root):\n",
    "        if root == None:\n",
    "            return\n",
    "        stack = [root]\n",
    "        while stack:\n",
    "            cur_node = stack.pop()\n",
    "            print(cur_node.value)\n",
    "            if cur_node.right:\n",
    "                stack.append(cur_node.right)\n",
    "            if cur_node.left:\n",
    "                stack.append(cur_node.left)            "
   ]
  },
  {
   "cell_type": "markdown",
   "metadata": {},
   "source": [
    "# 运行"
   ]
  },
  {
   "cell_type": "code",
   "execution_count": 141,
   "metadata": {},
   "outputs": [
    {
     "name": "stdout",
     "output_type": "stream",
     "text": [
      "\n",
      "0: 1 \n",
      "1: 2 3 \n",
      "2: 4 5 6 7 \n",
      "3: 8 9 8\n",
      "9\n",
      "4\n",
      "5\n",
      "2\n",
      "6\n",
      "7\n",
      "3\n",
      "1\n",
      "1\n",
      "2\n",
      "4\n",
      "8\n",
      "9\n",
      "5\n",
      "3\n",
      "6\n",
      "7\n"
     ]
    }
   ],
   "source": [
    "tree = BinaryTree()\n",
    "for x in range(1,10):\n",
    "    tree.add(x)\n",
    "#tree.preorder(tree.root)\n",
    "tree.print_by_layer_2(tree.root)\n",
    "tree.postorder(tree.root)\n",
    "tree.DFS(tree.root)"
   ]
  },
  {
   "cell_type": "markdown",
   "metadata": {},
   "source": [
    "# 从中序与后序遍历序列构造二叉树"
   ]
  },
  {
   "cell_type": "code",
   "execution_count": 57,
   "metadata": {},
   "outputs": [
    {
     "data": {
      "text/plain": [
       "<__main__.Node at 0x7f976977fbb0>"
      ]
     },
     "execution_count": 57,
     "metadata": {},
     "output_type": "execute_result"
    }
   ],
   "source": [
    "def build_tree(inorder, postorder):\n",
    "    if not postorder:\n",
    "        return\n",
    "    mid_index = inorder.index(postorder[-1])\n",
    "    #print(mid_index)\n",
    "    root = Node(postorder[-1])\n",
    "    root.left = build_tree(inorder[:mid_index], postorder[:mid_index])\n",
    "    root.right = build_tree(inorder[mid_index+1:], postorder[mid_index:-1])\n",
    "    return root\n",
    "inorder = [9,3,15,20,7]\n",
    "postorder = [9,15,7,20,3]\n",
    "inorder = [1,2,4,8,9,5,3,6,7]\n",
    "postorder = [8,4,9,2,5,1,6,3,7]\n",
    "build_tree(inorder, postorder)\n",
    "a = BinaryTree()"
   ]
  },
  {
   "cell_type": "code",
   "execution_count": 13,
   "metadata": {},
   "outputs": [
    {
     "data": {
      "text/plain": [
       "<__main__.Node at 0x10c55b5d0>"
      ]
     },
     "execution_count": 13,
     "metadata": {},
     "output_type": "execute_result"
    }
   ],
   "source": [
    "def build_tree2(preorder, inorder):\n",
    "    if not preorder:\n",
    "        return\n",
    "    i = inorder.index(preorder[0])\n",
    "    #print(i)\n",
    "    root = Node(preorder[0])\n",
    "    #inorder_l,inorder_r = inorder[:i],inorder[i+1:]\n",
    "    #preorder_l, preorder_r = preorder[1:i+1],preorder[i+1:]\n",
    "    root.left = build_tree2(preorder[1:i+1],inorder[:i])\n",
    "    root.right = build_tree2(preorder[i+1:],inorder[i+1:])\n",
    "    return root\n",
    "\n",
    "preorder = [1,2,4,8,9,5,3,6,7]\n",
    "inorder = [8,4,9,2,5,1,6,3,7]\n",
    "build_tree2(preorder, inorder)\n"
   ]
  },
  {
   "cell_type": "markdown",
   "metadata": {},
   "source": [
    "# Gragh"
   ]
  },
  {
   "cell_type": "code",
   "execution_count": 15,
   "metadata": {},
   "outputs": [],
   "source": [
    "class VertexNode(object):\n",
    "    def __init__(self, vertexname, visited=False, p=None):\n",
    "        self.vertexname = vertexname\n",
    "        self.visited = visited\n",
    "        self.firstNode = p\n",
    "class EdgeNode(object):\n",
    "    def __init__(self, index, weight, p=None):\n",
    "        self.index = index\n",
    "        self.weight = weight\n",
    "        self.next = p\n",
    "        \n",
    "class Adgraph(object):\n",
    "    def __init__(self, vcount=0):\n",
    "        self.vertexlist = []\n",
    "        self.vertexcount = vcount\n",
    "        \n",
    "    def initlist(self, data):\n",
    "        for da in data:\n",
    "            A = VertexNode(da)\n",
    "            self.vertexlist.append(A)\n",
    "        self.vertexcount = len(data)\n",
    "        \n",
    "    def getindex(self, vertextname):\n",
    "        if vertextname in [x.vertexname for x in self.vertexlist]:\n",
    "            i = [x.vertexname for x in self.vertexlist].index(vertextname)\n",
    "            return i\n",
    "        else:\n",
    "            return -1\n",
    "    def addedge(self, starnode, weight, endnode):\n",
    "        i = self.getindex(starnode)\n",
    "        j = self.getindex(endnode)\n",
    "        if i==-1 or j==-1:\n",
    "            print('no edge')\n",
    "        else:\n",
    "            weight = float(weight)\n",
    "            temp = self.vertexlist[i].firstNode\n",
    "            if temp == None:\n",
    "                temp = EdgeNode(j,weight)\n",
    "            else:\n",
    "                while(temp.next!=None):\n",
    "                    temp=temp.next\n",
    "                temp.next = EdgeNode(j,weight)\n",
    "                \n",
    "    def DFS(self, i):\n",
    "        self.vertexlist[i].visited = True\n",
    "        result = self.vertexlist[i].vertexname+'\\n'\n",
    "        p = self.vertexlist[i].firstNode\n",
    "        while(p!=None):\n",
    "            if self.vertexlist[p.index].visited==True:\n",
    "                p = p.next\n",
    "            else:\n",
    "                result+=self.DFS(p.index)\n",
    "        return result\n",
    "    \n",
    "    def DFStravel(self, start):\n",
    "        i = self.getindex(start)\n",
    "        if i != -1:\n",
    "            for j in range(self.vertexcount):\n",
    "                self.vertexlist[j].visited=False\n",
    "            DFSresult = self.DFS(i)\n",
    "        return DFSresult\n",
    "    \n",
    "    def BFStravel(self, start):\n",
    "        BFSresult = ''\n",
    "        i = self.getindex(start)\n",
    "        if i != -1:\n",
    "            for j in range(self.vertexcountr):\n",
    "                sefl.vertexlist[j].visited = False\n",
    "            sefl.vertexlist[i].visited=True\n",
    "            BFSresult+=self.vertexlist[i].vertexname+'\\n'\n",
    "            GList = [i]\n",
    "            \n",
    "            while (GList != []):\n",
    "                j=GList.pop(0)\n",
    "                p=self.vertexlist[j].firstNode\n",
    "                while p != None:\n",
    "                    k = p.index\n",
    "                    if self.vertexlist[k] == False:\n",
    "                        self.vertexlist[k].visited=True\n",
    "                        BFSresult+=self.vertexList[k].vertexName+'\\n'\n",
    "                        GList.append(p.index)\n",
    "                    p=p.next\n",
    "        return BFSresult\n",
    "    \n",
    "    def getweight(self, start, endnode):\n",
    "        weight = 10000\n",
    "        p=self.vertexList[begin].firstNode\n",
    "        if p!=None:\n",
    "            if p.Index==end:\n",
    "                weight=p.Weight\n",
    "            else:\n",
    "                while p.Next!=None:\n",
    "                    p=p.Next\n",
    "                    if p.Index==end:\n",
    "                        weight=p.Weight\n",
    "        return weight\n",
    "    \n",
    "    def prim_tree(self, vname):\n",
    "        i = self.getindex(vname)\n",
    "        if i == -1:\n",
    "            return None\n",
    "        for x in range(self.vertexcount):\n",
    "            if vertexlist[x].firstNode==None:\n",
    "                return None\n",
    "        \n",
    "        weight_sum = 0\n",
    "        span_tree = []\n",
    "        select = []\n",
    "        candidate = []\n",
    "        \n",
    "        for y in range(self.vertexcount):\n",
    "            candidate.append(y)\n",
    "        \n",
    "        select.append(i)                #将根节点移入Select\n",
    "        candidate.remove(i)\n",
    "        while candidate != []:\n",
    "            begin, end, minweight = -1, -1, 9999\n",
    "            for i in select:\n",
    "                for j in candidate:\n",
    "                    if self.getweight(i,j) < minweight:\n",
    "                        minweight = self.GetWeight(i,j)\n",
    "                        begin = i\n",
    "                        end = j\n",
    "            span_tree.append([begin, end, minweight]) \n",
    "            wsum+=minweight\n",
    "            select.append(end)                #将根节点移入Select\n",
    "            candidate.remove(end)\n",
    "            \n",
    "            \n",
    "        spanstr=\"最小生成树总权值：\"+str(wsum)+'\\n'     #整理输出\n",
    "        span_tree = span_tree[::-1] \n",
    "        for node in span_tree:\n",
    "            spanstr+=self.vertexlist[node[1]].vertexname+\"->\"\n",
    "            spanstr+=self.vertexlist[node[0]].vertexname+'\\n'\n",
    "            spanstr+=\"     weight:\"+str(node[2])+'\\n'\n",
    "        return spanstr\n",
    "\n",
    "        \n",
    "        \n",
    "                                                                                                                                                                                                                                                                                                                                                                                                                                                                                                                                                                                                                                                                                                                                                                                                                                                                                                                                                                                                                                                                                                                                                                                                 "
   ]
  },
  {
   "cell_type": "code",
   "execution_count": 17,
   "metadata": {},
   "outputs": [],
   "source": [
    "a, b, c, d, e, f, g, h = range(8)\n",
    "data = ['a', 'b', 'c', 'd', 'e', 'f', 'g', 'h']\n",
    "graph = Adgraph()\n",
    "graph.initlist(data)\n",
    "graph.addedge('a',2,'b')\n",
    "graph.addedge('h',9,'f')"
   ]
  },
  {
   "cell_type": "code",
   "execution_count": null,
   "metadata": {},
   "outputs": [],
   "source": [
    "a, b, c, d, e, f, g, h = range(8)\n",
    "data = [\n",
    "    {b:2, c:1, d:3, e:9, f:4},\n",
    "    {c:4, e:4},\n",
    "    {d:8},\n",
    "    {e:7},\n",
    "    {f:5},\n",
    "    {c:2, g:2, h:2},\n",
    "    {f:1, h:6},\n",
    "    {f:9, g:8}\n",
    "]\n"
   ]
  },
  {
   "cell_type": "code",
   "execution_count": 6,
   "metadata": {},
   "outputs": [
    {
     "name": "stdout",
     "output_type": "stream",
     "text": [
      "[67, 387, 3356, 3434, 12334, 878667]\n"
     ]
    }
   ],
   "source": [
    "import cv2\n",
    "\n",
    "### 递归 1\n",
    "\n",
    "def wheat_num(n):\n",
    "    return pow(2,n-1)\n",
    "\n",
    "def wheat_total(res, n):\n",
    "    res = res + wheat_num(n)\n",
    "    return res\n",
    "\n",
    "def myfun(res, n):\n",
    "    if n ==1:\n",
    "        res = res + wheat_num(n)\n",
    "        return res\n",
    "    else:\n",
    "        n = n -1\n",
    "        res = wheat_total(res, n) + wheat_num(n)\n",
    "        return myfun(res, n)\n",
    "\n",
    "#print(myfun(0, 1))\n",
    "\n",
    "\n",
    "### 递归 2\n",
    "\n",
    "rewards = [1, 2, 5, 10]\n",
    "\n",
    "tmp = []\n",
    "def myfun( empty, total):\n",
    "    if total < 0:\n",
    "        return\n",
    "    elif total == 0:\n",
    "        print(empty)\n",
    "        tmp.append(empty)\n",
    "        return\n",
    "    else:\n",
    "        for reward in rewards:\n",
    "            tmp_empty = empty.copy()\n",
    "            tmp_empty.append(reward)\n",
    "            myfun(tmp_empty,total - reward)\n",
    "# empty1 = []\n",
    "# print(myfun(empty1, 8))\n",
    "# print(tmp)\n",
    "# 递归3\n",
    "# def myfun3(empty, total):\n",
    "#     if total < 0:\n",
    "#         return\n",
    "#     elif total == 1:\n",
    "#         print(set(empty))\n",
    "#         return\n",
    "#     else:\n",
    "#         print(total)\n",
    "#         for x in range(1, int(total) + 1):\n",
    "#             tmp_empty = empty.copy()\n",
    "#             tmp_empty.append(x)\n",
    "#             myfun3(tmp_empty,total/x)\n",
    "# empty1 = []\n",
    "# print(myfun3(empty1, 8))\n",
    "\n",
    "\n",
    "import copy\n",
    "\n",
    "def prod_factors(num, result=[]):\n",
    "    if num == 1:\n",
    "        print(result)\n",
    "        return\n",
    "    elif num < 0:\n",
    "        return\n",
    "    else:\n",
    "        for i in range(1, int(num)+1):\n",
    "            if (i !=1 and num % i == 0):\n",
    "                newresult = copy.copy(result)\n",
    "                newresult.append(i)\n",
    "                prod_factors(num/i, newresult)\n",
    "\n",
    "\n",
    "#prod_factors(10)\n",
    "\n",
    "\n",
    "\n",
    "\n",
    "def merged(left, right):\n",
    "    i = 0\n",
    "    j = 0\n",
    "    left_num = len(left)\n",
    "    right_num = len(right)\n",
    "    res = []\n",
    "    while i < left_num and j < right_num:\n",
    "        if left[i] <= right[j]:\n",
    "            res.append(left[i])\n",
    "            i +=1\n",
    "        else:\n",
    "            res.append((right[j]))\n",
    "            j +=1\n",
    "    return res + left[i:] + right[j:]\n",
    "\n",
    "def merge_sort(x):\n",
    "    if len(x) == 0:\n",
    "        return [0]\n",
    "    if len(x) == 1:\n",
    "        return x\n",
    "    mid = int(len(x)/2)\n",
    "    left = x[:mid]\n",
    "    right = x[mid:]\n",
    "    left = merge_sort(left)\n",
    "    right = merge_sort(right)\n",
    "    res = merged(left,right)\n",
    "    return res\n",
    "print(merge_sort([3434, 3356, 67, 12334, 878667, 387]))\n"
   ]
  },
  {
   "cell_type": "code",
   "execution_count": 60,
   "metadata": {},
   "outputs": [
    {
     "data": {
      "text/plain": [
       "2"
      ]
     },
     "execution_count": 60,
     "metadata": {},
     "output_type": "execute_result"
    }
   ],
   "source": [
    "5//2\n",
    "int(5/2)"
   ]
  },
  {
   "cell_type": "code",
   "execution_count": null,
   "metadata": {},
   "outputs": [],
   "source": []
  },
  {
   "cell_type": "code",
   "execution_count": null,
   "metadata": {},
   "outputs": [],
   "source": []
  },
  {
   "cell_type": "code",
   "execution_count": 255,
   "metadata": {},
   "outputs": [
    {
     "name": "stdout",
     "output_type": "stream",
     "text": [
      "Sorted array is:\n"
     ]
    },
    {
     "data": {
      "text/plain": [
       "[1, 2, 3, 4, 5]"
      ]
     },
     "execution_count": 255,
     "metadata": {},
     "output_type": "execute_result"
    }
   ],
   "source": [
    "# 快排序\n",
    "def partition(arr, low, high):\n",
    "    i = (low - 1)\n",
    "    pivot = arr[high]\n",
    "    for j in range(low, high):\n",
    "        if arr[j] <= pivot:\n",
    "            i += 1\n",
    "            arr[i], arr[j] = arr[j], arr[i]\n",
    "    arr[i+1], arr[high] = arr[high], arr[i+1]\n",
    "    return i+1\n",
    "def quicksort(arr, low, high):\n",
    "    if low < high:\n",
    "        pi = partition(arr, low, high)\n",
    "        quicksort(arr, low, pi -1)\n",
    "        quicksort(arr, pi + 1, high)\n",
    "    \n",
    "    \n",
    "    \n",
    "# Driver code to test above \n",
    "arr = [5,4,3,2,1] \n",
    "n = len(arr) \n",
    "quicksort(arr,0,n-1) \n",
    "print (\"Sorted array is:\") \n",
    "arr\n",
    "# for i in range(n): \n",
    "#     print (\"%d\" %arr[i]), \n",
    "\n",
    "# This code is contributed by Mohit Kumra \n",
    "\n",
    "\n"
   ]
  },
  {
   "cell_type": "code",
   "execution_count": 53,
   "metadata": {},
   "outputs": [
    {
     "data": {
      "text/plain": [
       "[0, 4, 5, 7, 9, 43, 112, 254, 436, 2138]"
      ]
     },
     "execution_count": 53,
     "metadata": {},
     "output_type": "execute_result"
    }
   ],
   "source": [
    "# 基数排序\n",
    "def radix_sort(li):\n",
    "    max_num = max(li)\n",
    "    i = 0\n",
    "    while (10**i <= max_num):\n",
    "        buckets = [[] for _ in range(10)]\n",
    "        for val in li:\n",
    "            digit = val//(10**i)%10\n",
    "            buckets[digit].append(val)\n",
    "        li.clear()\n",
    "        for bucket in buckets:\n",
    "            for val in bucket:\n",
    "                li.append(val)\n",
    "        i += 1\n",
    "arr = [5,4,43,254,112,436,7,2138,9,0] \n",
    "radix_sort(arr)\n",
    "print(arr)\n",
    " \n",
    "#计数排序\n",
    "def count_sort(li, max_num):\n",
    "    count = [0 for i in range(max_num+1)]\n",
    "    for num in li:\n",
    "        count[num] += 1 \n",
    "    i = 0 \n",
    "    for num, m in enumerate(count):\n",
    "        for j in range(m):\n",
    "            li[i] = num\n",
    "            i += 1"
   ]
  },
  {
   "cell_type": "code",
   "execution_count": 50,
   "metadata": {},
   "outputs": [
    {
     "name": "stdout",
     "output_type": "stream",
     "text": [
      "aca\n"
     ]
    }
   ],
   "source": [
    "def longestPalindrome(s):\n",
    "    size = len(s)\n",
    "    if size < 2:\n",
    "        return s\n",
    "    dp = [[False for _ in range(size)] for _ in range(size)]\n",
    "    max_len = 1\n",
    "    start = 0\n",
    "    for j in range(1,size):\n",
    "        for i in range(j):\n",
    "            if s[i] == s[j]:\n",
    "                if (j-1) - (i+1)+1 < 2:\n",
    "                    dp[i][j] = True\n",
    "                else:\n",
    "                    dp[i][j] = dp[i+1][j-1]\n",
    "            else:\n",
    "                dp[i][j] = False\n",
    "                \n",
    "            if dp[i][j]:\n",
    "                cur_len = j-i+1\n",
    "                if max_len < cur_len:\n",
    "                    max_len = cur_len\n",
    "                    start = i\n",
    "    return s[start:start+max_len]\n",
    "s= \"aacabkacaa\"\n",
    "print(longestPalindrome(s))                  "
   ]
  },
  {
   "cell_type": "code",
   "execution_count": 38,
   "metadata": {},
   "outputs": [
    {
     "name": "stdout",
     "output_type": "stream",
     "text": [
      "aa\n"
     ]
    }
   ],
   "source": [
    "import numpy as np\n",
    "# 最长子回文\n",
    "def longestCommonSequence(s):\n",
    "    k = len(s)        # 计算字符串的长度\n",
    "    matrix = [[0 for i in range(k)] for i in range(k)]    # 初始化n*n的列表\n",
    "    logestSubStr = \"\"        # 存储最长回文子串\n",
    "    logestLen = 0            # 最长回文子串的长度\n",
    "\n",
    "    for j in range(1, k):\n",
    "        for i in range(0, j):\n",
    "            if j - i <= 1: \n",
    "                if s[i] == s[j]:\n",
    "                    matrix[i][j] = 1            # 此时f(i,j)置为true\n",
    "                    if logestLen < j - i + 1:   # 将s[i:j]的长度与当前的回文子串的最长长度相比 \n",
    "                        logestSubStr = s[i:j+1] # 取当前的最长回文子串\n",
    "                        logestLen = j - i + 1   # 当前最长回文子串的长度\n",
    "            else:\n",
    "                if s[i] == s[j] and matrix[i+1][j-1]:    # 判断\n",
    "                    matrix[i][j] = 1\n",
    "                    if logestLen < j - i + 1:\n",
    "                        logestSubStr = s[i:j+1]\n",
    "                        logestLen = j - i + 1\n",
    "    return logestSubStr\n",
    "s= \"aacabkacaa\"\n",
    "print(longestCommonSequence(s))\n",
    "\n",
    "\n",
    "def longestPalindrome(s):\n",
    "    size = len(s)\n",
    "    if size < 2:\n",
    "        return s\n",
    "    dp = [[False for _ in range(size)] for _ in range(size)]\n",
    "    max_len = 1\n",
    "    start = 0\n",
    "    for j in range(1, size):\n",
    "        for i in range(0, j):\n",
    "            if s[i] == s[j]:\n",
    "                if j - i < 3:\n",
    "                    dp[i][j] = True\n",
    "                else:\n",
    "                    dp[i][j] = dp[i + 1][j - 1]\n",
    "            else:\n",
    "                dp[i][j] = False\n",
    "\n",
    "            if dp[i][j]:\n",
    "                cur_len = j - i + 1\n",
    "                if cur_len > max_len:\n",
    "                    max_len = cur_len\n",
    "                    start = i\n",
    "    return s[start:start + max_len]\n"
   ]
  },
  {
   "cell_type": "code",
   "execution_count": 54,
   "metadata": {},
   "outputs": [
    {
     "name": "stdout",
     "output_type": "stream",
     "text": [
      "1\n",
      "1\n",
      "2\n",
      "5\n",
      "14\n",
      "42\n",
      "132\n",
      "429\n",
      "1430\n",
      "4862\n"
     ]
    }
   ],
   "source": [
    "def catalan_number(num):\n",
    "    if num <=1:\n",
    "         return 1\n",
    "   \n",
    "    res_num = 0\n",
    "    for i in range(num):\n",
    "        res_num += catalan_number(i) * catalan_number(num-i-1)\n",
    "    return res_num\n",
    " \n",
    "for n in range(10):\n",
    "    print(catalan_number(n))"
   ]
  },
  {
   "cell_type": "code",
   "execution_count": null,
   "metadata": {},
   "outputs": [],
   "source": []
  },
  {
   "cell_type": "code",
   "execution_count": 183,
   "metadata": {},
   "outputs": [],
   "source": [
    "import pandas as pd \n",
    "df1 = pd.read_csv('/Users/jiangcx/Downloads/neg.csv')\n",
    "df2 = pd.read_csv('/Users/jiangcx/Downloads/pos1.csv')\n",
    "df3 = pd.read_csv('/Users/jiangcx/Downloads/pos2.csv')"
   ]
  },
  {
   "cell_type": "code",
   "execution_count": 184,
   "metadata": {},
   "outputs": [],
   "source": [
    "df = pd.concat([df1, df2, df3],ignore_index=True)\n",
    "df['vid'] = df['vid'].apply(lambda x :str(x))\n",
    "df['pic'] = df['pic'].apply(lambda x :x.split('!')[0])\n",
    "df.sample(frac=1).reset_index(drop=True)\n",
    "df.to_excel('/Users/jiangcx/Downloads/dataset.xlsx',index=False, encoding='utf-8')\n",
    "# for x in range(0, 20000):\n",
    "#     if x % 2000 == 0:\n",
    "#         mydf = df.iloc[x:x+2000,:] \n",
    "#         mydf.to_excel('/Users/jiangcx/Downloads/dataset_{}.xlsx'.format(int(x/2000)),index=False, encoding='utf-8')"
   ]
  },
  {
   "cell_type": "code",
   "execution_count": 186,
   "metadata": {},
   "outputs": [
    {
     "name": "stdout",
     "output_type": "stream",
     "text": [
      "                 vid                                                pic  \\\n",
      "0      1500677444093  http://aimg.tangdou.com/public/video/2020/1003...   \n",
      "1      1500677126517  http://aimg.tangdou.com/public/video/2020/0909...   \n",
      "2      1500676910256  http://aimg.tangdou.com/public/video/2020/0822...   \n",
      "3      1500677156334  http://aimg.tangdou.com/public/video/2020/0911...   \n",
      "4      1500662362806  http://aimg.tangdou.com/public/video/2018/1223...   \n",
      "...              ...                                                ...   \n",
      "19995  1500672920578  http://aimg.tangdou.com/public/video/2020/0101...   \n",
      "19996        7606128  http://aimg.tangdou.com/public/video/2016/0428...   \n",
      "19997        9428305  http://aimg.tangdou.com/public/live/images/pic...   \n",
      "19998  1500675722633  http://aimg.tangdou.com/public/video/2020/0601...   \n",
      "19999  1500661280958  http://aimg.tangdou.com/public/video/2018/1005...   \n",
      "\n",
      "                                                   pic.1  \n",
      "0      http://aimg.tangdou.com/public/video/2020/1003...  \n",
      "1      http://aimg.tangdou.com/public/video/2020/0909...  \n",
      "2      http://aimg.tangdou.com/public/video/2020/0822...  \n",
      "3      http://aimg.tangdou.com/public/video/2020/0911...  \n",
      "4      http://aimg.tangdou.com/public/video/2018/1223...  \n",
      "...                                                  ...  \n",
      "19995  http://aimg.tangdou.com/public/video/2020/0101...  \n",
      "19996  http://aimg.tangdou.com/public/video/2016/0428...  \n",
      "19997  http://aimg.tangdou.com/public/live/images/pic...  \n",
      "19998  http://aimg.tangdou.com/public/video/2020/0601...  \n",
      "19999  http://aimg.tangdou.com/public/video/2018/1005...  \n",
      "\n",
      "[20000 rows x 3 columns]\n"
     ]
    }
   ],
   "source": [
    "\n",
    "df = pd.read_excel('/Users/jiangcx/Downloads/dataset.xlsx')\n",
    "print(df)\n",
    "\n",
    "for x in range(0, 20000):\n",
    "    if x % 2000 == 0:\n",
    "        mydf = df.iloc[x:x+2000,:] \n",
    "        mydf.to_excel('/Users/jiangcx/Downloads/dataset_{}.xlsx'.format(int(x/2000)),index=False, encoding='utf-8')"
   ]
  },
  {
   "cell_type": "code",
   "execution_count": 143,
   "metadata": {},
   "outputs": [
    {
     "data": {
      "text/plain": [
       "8"
      ]
     },
     "execution_count": 143,
     "metadata": {},
     "output_type": "execute_result"
    }
   ],
   "source": [
    "def fib( n: int) -> int:\n",
    "        if n < 2:\n",
    "            return n\n",
    "        else:\n",
    "            return fib(n-1) + fib(n-2)\n",
    "fib(6)"
   ]
  },
  {
   "cell_type": "code",
   "execution_count": 150,
   "metadata": {},
   "outputs": [
    {
     "data": {
      "text/plain": [
       "1"
      ]
     },
     "execution_count": 150,
     "metadata": {},
     "output_type": "execute_result"
    }
   ],
   "source": [
    "n = 0\n",
    "121//10**n%10"
   ]
  },
  {
   "cell_type": "code",
   "execution_count": 179,
   "metadata": {},
   "outputs": [
    {
     "name": "stdout",
     "output_type": "stream",
     "text": [
      "123432 1\n",
      "12343 12\n",
      "1234 123\n",
      "123 1234\n",
      "True\n"
     ]
    }
   ],
   "source": [
    "x = 1234321\n",
    "size = len(str(x))\n",
    "flat = 1\n",
    "\n",
    "revert_num = 0\n",
    "while x > revert_num:\n",
    "    revert_num = revert_num* 10 + x %10\n",
    "    x = x // 10\n",
    "    print(x,revert_num)\n",
    "\n",
    "print(x == revert_num or x == revert_num // 10) "
   ]
  },
  {
   "cell_type": "code",
   "execution_count": null,
   "metadata": {},
   "outputs": [],
   "source": []
  }
 ],
 "metadata": {
  "kernelspec": {
   "display_name": "Python 3",
   "language": "python",
   "name": "python3"
  },
  "language_info": {
   "codemirror_mode": {
    "name": "ipython",
    "version": 3
   },
   "file_extension": ".py",
   "mimetype": "text/x-python",
   "name": "python",
   "nbconvert_exporter": "python",
   "pygments_lexer": "ipython3",
   "version": "3.8.3"
  }
 },
 "nbformat": 4,
 "nbformat_minor": 4
}
